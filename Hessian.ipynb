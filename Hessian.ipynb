{
 "cells": [
  {
   "cell_type": "code",
   "execution_count": 930,
   "metadata": {},
   "outputs": [
    {
     "name": "stdout",
     "output_type": "stream",
     "text": [
      "The autoreload extension is already loaded. To reload it, use:\n",
      "  %reload_ext autoreload\n"
     ]
    }
   ],
   "source": [
    "from scipy.misc import derivative\n",
    "import pandas as pd\n",
    "import pickle,os, copy\n",
    "import matplotlib.pyplot as plt\n",
    "import torch\n",
    "from torch.utils.data import DataLoader\n",
    "import sys\n",
    "\n",
    "\n",
    "import re\n",
    "\n",
    "from sklearn.cluster import DBSCAN\n",
    "\n",
    "\n",
    "from nn_generalizability.nets import Nets\n",
    "from nn_generalizability.utils import *\n",
    "from nn_generalizability.postprocessing.postprocessing import *\n",
    "from nn_generalizability.postprocessing.stats_plotting import *\n",
    "from nn_generalizability.postprocessing.GA import *\n",
    "from nn_generalizability.save_load import *\n",
    "\n",
    "from nn_generalizability.postprocessing.sharpness_measures import *\n",
    "from nn_generalizability.postprocessing.stats_plotting import *\n",
    "from nn_generalizability.postprocessing.interpolation import *\n",
    "\n",
    "from nn_generalizability.data_getters import *\n",
    "\n",
    "%load_ext autoreload\n",
    "%autoreload 2\n",
    "\n",
    "plt.rcParams[\"figure.figsize\"] = (13,9)\n"
   ]
  },
  {
   "cell_type": "code",
   "execution_count": 514,
   "metadata": {},
   "outputs": [],
   "source": [
    "def relu(m):\n",
    "    m[m < 0] = 0\n",
    "    return m\n",
    "\n",
    "\n",
    "def F(a, b, c, x):\n",
    "    x = relu(c.dot(x))\n",
    "    return a.dot(relu(b.dot(x)))\n",
    "\n",
    "\n",
    "\n",
    "def f(s):\n",
    "    set_seed(1)\n",
    "#     a = np.array([[0.01, 0.02], [0.04, 0.05]])\n",
    "#     b = np.array([[4, 1], [3, 0]])\n",
    "#     c = np.array([[1, 2], [1, 2]])\n",
    "    \n",
    "    a = 1*np.random.rand(2, 100)\n",
    "    b = 0.1*np.random.rand(100, 100)\n",
    "    c = 0.1*np.random.rand(100, 2)\n",
    "    a[1][4] = s\n",
    "    \n",
    "    x = np.array([1, 1])\n",
    "    o = F(a, b, c, x)\n",
    "    return criterion(o, 0)\n",
    "\n",
    "def g(s):\n",
    "    set_seed(1)\n",
    "#     a = np.array([[0.01, 0.02], [0.04, 0.05]])\n",
    "#     b = np.array([[4, 1], [3, 0]])\n",
    "#     c = np.array([[1, 2], [1, 2]])\n",
    "    \n",
    "    a = 1*np.random.rand(2, 100)\n",
    "    b = 0.1*np.random.rand(100, 100)\n",
    "    c = 0.1*np.random.rand(100, 2)\n",
    "    a[1][4] = s\n",
    "    \n",
    "    x = np.array([1, 1])\n",
    "    o = F(a, b, c, x)\n",
    "    return o\n",
    "\n",
    "def softmax(weights):\n",
    "\n",
    "    sum_exp_weights = sum([np.exp( w) for w in weights])\n",
    "\n",
    "    probabilities = np.array([np.exp( w) for w in weights]) / sum_exp_weights\n",
    "    return probabilities\n",
    "\n",
    "def cross_entropy(ps, i):\n",
    "    return -np.log(ps[i]) \n",
    "\n",
    "def criterion(o, l):\n",
    "    return cross_entropy(softmax(o), l)"
   ]
  },
  {
   "cell_type": "code",
   "execution_count": 537,
   "metadata": {},
   "outputs": [
    {
     "data": {
      "text/plain": [
       "3.61870753401866"
      ]
     },
     "execution_count": 537,
     "metadata": {},
     "output_type": "execute_result"
    }
   ],
   "source": [
    "set_seed(1)\n",
    "#     a = np.array([[0.01, 0.02], [0.04, 0.05]])\n",
    "#     b = np.array([[4, 1], [3, 0]])\n",
    "#     c = np.array([[1, 2], [1, 2]])\n",
    "\n",
    "a = 1*np.random.rand(2, 100)\n",
    "b = 0.1*np.random.rand(100, 100)\n",
    "c = 0.1*np.random.rand(100, 2)\n",
    "a[1][4] = 8\n",
    "x = np.array([1, 1])\n",
    "criterion(F(a, b, c, x), 0)"
   ]
  },
  {
   "cell_type": "code",
   "execution_count": 538,
   "metadata": {},
   "outputs": [
    {
     "data": {
      "text/plain": [
       "array([24.66720958, 28.25873366])"
      ]
     },
     "execution_count": 538,
     "metadata": {},
     "output_type": "execute_result"
    }
   ],
   "source": [
    "F(a, b, c, x)"
   ]
  },
  {
   "cell_type": "code",
   "execution_count": 539,
   "metadata": {},
   "outputs": [
    {
     "data": {
      "text/plain": [
       "0.006721152110422679"
      ]
     },
     "execution_count": 539,
     "metadata": {},
     "output_type": "execute_result"
    }
   ],
   "source": [
    "derivative(f, 8, dx=0.01, n=2)"
   ]
  },
  {
   "cell_type": "code",
   "execution_count": 540,
   "metadata": {},
   "outputs": [
    {
     "data": {
      "text/plain": [
       "0.006721152110422679"
      ]
     },
     "execution_count": 540,
     "metadata": {},
     "output_type": "execute_result"
    }
   ],
   "source": [
    "derivative(f, 8, dx=0.01, n=2)"
   ]
  },
  {
   "cell_type": "code",
   "execution_count": 541,
   "metadata": {},
   "outputs": [
    {
     "data": {
      "text/plain": [
       "array([ 0.00000000e+00, -3.55271368e-09])"
      ]
     },
     "execution_count": 541,
     "metadata": {},
     "output_type": "execute_result"
    }
   ],
   "source": [
    "derivative(g, 8, dx=0.001, n=2)"
   ]
  },
  {
   "cell_type": "code",
   "execution_count": 542,
   "metadata": {},
   "outputs": [
    {
     "data": {
      "text/plain": [
       "array([0.02681731, 0.97318269])"
      ]
     },
     "execution_count": 542,
     "metadata": {},
     "output_type": "execute_result"
    }
   ],
   "source": [
    "S = softmax(F(a, b, c, x))\n",
    "S"
   ]
  },
  {
   "cell_type": "code",
   "execution_count": 543,
   "metadata": {},
   "outputs": [],
   "source": [
    "gx = derivative(g, 8, dx=0.001, n=1)"
   ]
  },
  {
   "cell_type": "code",
   "execution_count": 544,
   "metadata": {},
   "outputs": [
    {
     "data": {
      "text/plain": [
       "array([0.        , 0.50747732])"
      ]
     },
     "execution_count": 544,
     "metadata": {},
     "output_type": "execute_result"
    }
   ],
   "source": [
    "gx"
   ]
  },
  {
   "cell_type": "code",
   "execution_count": 545,
   "metadata": {},
   "outputs": [],
   "source": [
    "t = gx.dot(S * (gx - gx.dot(S)))"
   ]
  },
  {
   "cell_type": "code",
   "execution_count": 546,
   "metadata": {},
   "outputs": [
    {
     "data": {
      "text/plain": [
       "0.006721139947721992"
      ]
     },
     "execution_count": 546,
     "metadata": {},
     "output_type": "execute_result"
    }
   ],
   "source": [
    "t"
   ]
  },
  {
   "cell_type": "code",
   "execution_count": 397,
   "metadata": {},
   "outputs": [
    {
     "data": {
      "text/plain": [
       "4.214820202921854e-11"
      ]
     },
     "execution_count": 397,
     "metadata": {},
     "output_type": "execute_result"
    }
   ],
   "source": [
    "t - derivative(lambda s: criterion(f(s), 1) , 0 ,dx=0.01,n=2)\n"
   ]
  },
  {
   "cell_type": "markdown",
   "metadata": {},
   "source": [
    "# on torch model"
   ]
  },
  {
   "cell_type": "code",
   "execution_count": 5,
   "metadata": {},
   "outputs": [],
   "source": [
    "root_folder = os.environ[\"PATH_TO_GEN_FOLDER\"]\n",
    "data_name = \"CIFAR10\"\n",
    "exp = \"SimpleNet_high_steps\"\n",
    "experiment_folder = os.path.join(root_folder, \"experiments\", data_name, exp)\n",
    "\n",
    "\n",
    "exp_dict = {}\n",
    "exp_dict[\"models\"] = get_all_models(experiment_folder, -1)\n"
   ]
  },
  {
   "cell_type": "code",
   "execution_count": 6,
   "metadata": {},
   "outputs": [
    {
     "name": "stdout",
     "output_type": "stream",
     "text": [
      "Files already downloaded and verified\n",
      "Files already downloaded and verified\n"
     ]
    }
   ],
   "source": [
    "# get data\n",
    "seed = 0\n",
    "num_datapoints = 100\n",
    "on_test_set = False\n",
    "\n",
    "train_data, test_data = get_data_from_experiment(experiment_folder)\n",
    "if on_test_set:\n",
    "    data = get_random_data_subset(test_data, num_datapoints=num_datapoints, seed=seed)\n",
    "else:\n",
    "    data = get_random_data_subset(train_data, num_datapoints=num_datapoints, seed=seed)\n",
    "\n",
    "criterion = torch.nn.CrossEntropyLoss()\n",
    "\n",
    "m = exp_dict[\"models\"][\"1594672291.0710459\"][\"0\"]"
   ]
  },
  {
   "cell_type": "code",
   "execution_count": 7,
   "metadata": {},
   "outputs": [],
   "source": [
    "model_outputs = get_model_outputs(m, data, softmax_outputs=False, device=None)\n",
    "_, predicted = torch.max(model_outputs, 1)\n",
    "correct_filter = (predicted == data[1]).detach().numpy()\n",
    "first_incorrect_idx = np.arange(0, len(data[0]))[~correct_filter][0]\n",
    "\n",
    "\n"
   ]
  },
  {
   "cell_type": "code",
   "execution_count": 8,
   "metadata": {},
   "outputs": [],
   "source": [
    "def change_one_weight_model(model1, h, idx):\n",
    "    new_net = copy.deepcopy(model1)\n",
    "    vec = get_params_vec(new_net)\n",
    "    vec[idx] += h\n",
    "    return vec_to_net(vec, model1)"
   ]
  },
  {
   "cell_type": "code",
   "execution_count": 313,
   "metadata": {},
   "outputs": [],
   "source": [
    "max_alpha = 2\n",
    "\n",
    "scale_arr = []\n",
    "\n",
    "\n",
    "for alpha in np.linspace(0, max_alpha, 2): \n",
    "    scale_arr.append(scale_output_model(m, alpha))\n",
    "    \n",
    "model_dict = {str(i): scale_arr[i] for i in range(len(scale_arr))}"
   ]
  },
  {
   "cell_type": "code",
   "execution_count": 833,
   "metadata": {},
   "outputs": [],
   "source": [
    "def f(model, datapoint):\n",
    "    def helper(h):\n",
    "        criterion = torch.nn.CrossEntropyLoss()\n",
    "        h_model = change_one_weight_model(model, h, 1234)\n",
    "        inputs, labels = datapoint\n",
    "        \n",
    "        inputs = inputs.float()\n",
    "\n",
    "        outputs = h_model(inputs)\n",
    "        loss = float(criterion(outputs, labels))\n",
    "        \n",
    "        return loss\n",
    "    return helper"
   ]
  },
  {
   "cell_type": "code",
   "execution_count": 775,
   "metadata": {},
   "outputs": [
    {
     "data": {
      "text/plain": [
       "tensor([5])"
      ]
     },
     "execution_count": 775,
     "metadata": {},
     "output_type": "execute_result"
    }
   ],
   "source": [
    "data[1][first_incorrect_idx:first_incorrect_idx+1]"
   ]
  },
  {
   "cell_type": "code",
   "execution_count": 776,
   "metadata": {},
   "outputs": [
    {
     "data": {
      "text/plain": [
       "28.01752281188965"
      ]
     },
     "execution_count": 776,
     "metadata": {},
     "output_type": "execute_result"
    }
   ],
   "source": [
    "datapoint = [data[0][first_incorrect_idx:first_incorrect_idx+1], torch.Tensor([2]).long()]\n",
    "f(model_dict[\"1\"] , datapoint)(0.01)"
   ]
  },
  {
   "cell_type": "code",
   "execution_count": 777,
   "metadata": {},
   "outputs": [
    {
     "data": {
      "text/plain": [
       "0.0"
      ]
     },
     "execution_count": 777,
     "metadata": {},
     "output_type": "execute_result"
    }
   ],
   "source": [
    "derivative(f(m, datapoint), 0, dx=0.01, n=2)"
   ]
  },
  {
   "cell_type": "code",
   "execution_count": 828,
   "metadata": {},
   "outputs": [
    {
     "data": {
      "text/plain": [
       "tensor([[-11.7491,  -8.3419,  -1.9742,   8.1670,   5.1258,   9.7715,  -4.3240,\n",
       "          12.0289,  -1.4504,  -5.9826]], grad_fn=<AddmmBackward>)"
      ]
     },
     "execution_count": 828,
     "metadata": {},
     "output_type": "execute_result"
    }
   ],
   "source": [
    "g(m , datapoint)(0.01)"
   ]
  },
  {
   "cell_type": "code",
   "execution_count": 780,
   "metadata": {},
   "outputs": [
    {
     "data": {
      "text/plain": [
       "[tensor([[-0.4353, -0.4902, -0.4980,  ..., -0.4824, -0.5137, -0.5294]]),\n",
       " tensor([2])]"
      ]
     },
     "execution_count": 780,
     "metadata": {},
     "output_type": "execute_result"
    }
   ],
   "source": [
    "datapoint"
   ]
  },
  {
   "cell_type": "code",
   "execution_count": 959,
   "metadata": {},
   "outputs": [],
   "source": [
    "def g(model, datapoint):\n",
    "    def helper(h):\n",
    "        h_model = change_one_weight_model(model, h, 846)\n",
    "#         print(get_model_outputs(h_model, datapoint))\n",
    "        return get_model_outputs(h_model, datapoint)\n",
    "    return helper"
   ]
  },
  {
   "cell_type": "code",
   "execution_count": 960,
   "metadata": {},
   "outputs": [],
   "source": [
    "gx = []\n",
    "for i in range(10):\n",
    "    zero_model_gradients(m)\n",
    "    a = get_model_outputs(m, datapoint)[0][i]\n",
    "    a.backward()\n",
    "    vec = get_grad_params_vec(m)\n",
    "    gx.append(vec[846].detach().numpy())\n",
    "gx = np.array(gx)"
   ]
  },
  {
   "cell_type": "code",
   "execution_count": 969,
   "metadata": {},
   "outputs": [
    {
     "data": {
      "text/plain": [
       "tensor([[-3.8925e-04,  0.0000e+00,  0.0000e+00,  0.0000e+00,  1.9463e-04,\n",
       "          1.9463e-04, -1.9463e-04,  1.9463e-04, -2.4328e-05,  9.7314e-05]],\n",
       "       grad_fn=<DivBackward0>)"
      ]
     },
     "execution_count": 969,
     "metadata": {},
     "output_type": "execute_result"
    }
   ],
   "source": [
    "derivative(g(m, datapoint), 0, dx=0.07, n=2)"
   ]
  },
  {
   "cell_type": "code",
   "execution_count": 962,
   "metadata": {},
   "outputs": [
    {
     "data": {
      "text/plain": [
       "array([ 0.02647136,  0.09295355,  0.00877094, -0.09764019, -0.05024688,\n",
       "       -0.01779579, -0.08329073,  0.01977194,  0.11622747,  0.01112372],\n",
       "      dtype=float32)"
      ]
     },
     "execution_count": 962,
     "metadata": {},
     "output_type": "execute_result"
    }
   ],
   "source": [
    "gx"
   ]
  },
  {
   "cell_type": "code",
   "execution_count": 938,
   "metadata": {},
   "outputs": [
    {
     "data": {
      "text/plain": [
       "6.953558673450711e-05"
      ]
     },
     "execution_count": 938,
     "metadata": {},
     "output_type": "execute_result"
    }
   ],
   "source": [
    "# gx = derivative(g(m, datapoint), 0, dx=0.01, n=1).detach().numpy()[0]\n",
    "w = get_model_outputs(m, datapoint)[0].detach().numpy()\n",
    "S = softmax(w)\n",
    "t = gx.dot(S * (gx - gx.dot(S)))\n",
    "t"
   ]
  },
  {
   "cell_type": "code",
   "execution_count": null,
   "metadata": {},
   "outputs": [],
   "source": []
  }
 ],
 "metadata": {
  "kernelspec": {
   "display_name": "Python 3",
   "language": "python",
   "name": "python3"
  },
  "language_info": {
   "codemirror_mode": {
    "name": "ipython",
    "version": 3
   },
   "file_extension": ".py",
   "mimetype": "text/x-python",
   "name": "python",
   "nbconvert_exporter": "python",
   "pygments_lexer": "ipython3",
   "version": "3.7.3"
  }
 },
 "nbformat": 4,
 "nbformat_minor": 2
}
