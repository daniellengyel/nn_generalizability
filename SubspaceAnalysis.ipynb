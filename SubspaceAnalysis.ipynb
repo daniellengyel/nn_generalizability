{
 "cells": [
  {
   "cell_type": "code",
   "execution_count": 73,
   "metadata": {},
   "outputs": [
    {
     "name": "stdout",
     "output_type": "stream",
     "text": [
      "The autoreload extension is already loaded. To reload it, use:\n",
      "  %reload_ext autoreload\n"
     ]
    }
   ],
   "source": [
    "import pandas as pd\n",
    "import pickle,os, copy\n",
    "import matplotlib.pyplot as plt\n",
    "import torch\n",
    "from torch.utils.data import DataLoader\n",
    "import sys\n",
    "\n",
    "\n",
    "import re\n",
    "\n",
    "from sklearn.cluster import DBSCAN\n",
    "\n",
    "\n",
    "from nn_generalizability.nets import Nets\n",
    "from nn_generalizability.utils import *\n",
    "from nn_generalizability.postprocessing.postprocessing import *\n",
    "from nn_generalizability.postprocessing.stats_plotting import *\n",
    "from nn_generalizability.postprocessing.GA import *\n",
    "from nn_generalizability.save_load import *\n",
    "\n",
    "from nn_generalizability.postprocessing.sharpness_measures import *\n",
    "from nn_generalizability.postprocessing.stats_plotting import *\n",
    "from nn_generalizability.postprocessing.interpolation import *\n",
    "\n",
    "from nn_generalizability.data_getters import *\n",
    "\n",
    "%load_ext autoreload\n",
    "%autoreload 2\n",
    "\n",
    "plt.rcParams[\"figure.figsize\"] = (13,9)\n"
   ]
  },
  {
   "cell_type": "code",
   "execution_count": 25,
   "metadata": {},
   "outputs": [],
   "source": [
    "root_folder = os.environ[\"PATH_TO_GEN_FOLDER\"]\n",
    "data_name = \"CIFAR10\"\n",
    "exp = \"SimpleNet_high_steps\"\n",
    "experiment_folder = os.path.join(root_folder, \"experiments\", data_name, exp)"
   ]
  },
  {
   "cell_type": "code",
   "execution_count": 26,
   "metadata": {
    "scrolled": true
   },
   "outputs": [
    {
     "name": "stdout",
     "output_type": "stream",
     "text": [
      "Getting tsne.\n",
      "Error: tsne could not be found\n",
      "Getting runs.\n",
      "Getting trace.\n",
      "Getting acc.\n",
      "Getting dist.\n",
      "Error: dist could not be found\n",
      "Getting loss.\n",
      "Getting grad.\n",
      "Error: grad could not be found\n",
      "Getting eig.\n",
      "Error: eig could not be found\n"
     ]
    }
   ],
   "source": [
    "# get all sorts of data\n",
    "exp_dict = {}\n",
    "\n",
    "def get_stuff(experiment_folder):\n",
    "    stuff = {}\n",
    "\n",
    "    stuff_to_try = [\"tsne\", \"runs\", \"trace\", \"acc\", \"dist\", \"loss\", \"grad\", \"eig\"]\n",
    "\n",
    "    for singular_stuff in stuff_to_try:\n",
    "        print(\"Getting {}.\".format(singular_stuff))\n",
    "        data, meta = load_cached_data(experiment_folder, singular_stuff)\n",
    "        if data is None:\n",
    "            print(\"Error: {} could not be found\".format(singular_stuff))\n",
    "        else:\n",
    "            stuff[singular_stuff] = data\n",
    "    \n",
    "    stuff[\"configs\"] = load_configs(experiment_folder)\n",
    "    \n",
    "    return stuff\n",
    "\n",
    "exp_dict[\"stuff\"] = get_stuff(experiment_folder)\n",
    "exp_dict[\"models\"] = get_all_models(experiment_folder, -1)\n",
    "exp_dict[\"resampling_idxs\"] = get_sample_idxs(experiment_folder)"
   ]
  },
  {
   "cell_type": "code",
   "execution_count": 4,
   "metadata": {},
   "outputs": [
    {
     "name": "stdout",
     "output_type": "stream",
     "text": [
      "Error: No stats for 1594678537.6570415\n",
      "YO\n",
      "Error: No stats for 1594673313.8724134\n",
      "YO\n",
      "Error: No stats for 1594672291.0710459\n",
      "YO\n"
     ]
    }
   ],
   "source": [
    "stats_df = get_end_stats(exp_dict)\n"
   ]
  },
  {
   "cell_type": "code",
   "execution_count": 5,
   "metadata": {},
   "outputs": [
    {
     "data": {
      "text/html": [
       "<div>\n",
       "<style scoped>\n",
       "    .dataframe tbody tr th:only-of-type {\n",
       "        vertical-align: middle;\n",
       "    }\n",
       "\n",
       "    .dataframe tbody tr th {\n",
       "        vertical-align: top;\n",
       "    }\n",
       "\n",
       "    .dataframe thead th {\n",
       "        text-align: right;\n",
       "    }\n",
       "</style>\n",
       "<table border=\"1\" class=\"dataframe\">\n",
       "  <thead>\n",
       "    <tr style=\"text-align: right;\">\n",
       "      <th></th>\n",
       "      <th>Acc Test Max</th>\n",
       "      <th>Acc Test Mean</th>\n",
       "      <th>Acc Test Min</th>\n",
       "      <th>Acc Train Max</th>\n",
       "      <th>Acc Train Mean</th>\n",
       "      <th>Acc Train Min</th>\n",
       "      <th>Gap Mean</th>\n",
       "      <th>Loss Test Max</th>\n",
       "      <th>Loss Test Mean</th>\n",
       "      <th>Loss Test Min</th>\n",
       "      <th>...</th>\n",
       "      <th>Loss Train Mean</th>\n",
       "      <th>Loss Train Min</th>\n",
       "      <th>Norm Max</th>\n",
       "      <th>Norm Mean</th>\n",
       "      <th>Norm Min</th>\n",
       "      <th>Trace Max</th>\n",
       "      <th>Trace Mean</th>\n",
       "      <th>Trace Mean Std</th>\n",
       "      <th>Trace Min</th>\n",
       "      <th>batch_train_size</th>\n",
       "    </tr>\n",
       "  </thead>\n",
       "  <tbody>\n",
       "    <tr>\n",
       "      <th>1594673313.8724134</th>\n",
       "      <td>0.5218</td>\n",
       "      <td>0.52050</td>\n",
       "      <td>0.5192</td>\n",
       "      <td>1.00000</td>\n",
       "      <td>1.00000</td>\n",
       "      <td>1.00</td>\n",
       "      <td>-0.47950</td>\n",
       "      <td>6.284950</td>\n",
       "      <td>6.268951</td>\n",
       "      <td>6.252953</td>\n",
       "      <td>...</td>\n",
       "      <td>0.000034</td>\n",
       "      <td>0.000034</td>\n",
       "      <td>35.086926</td>\n",
       "      <td>35.047825</td>\n",
       "      <td>35.008724</td>\n",
       "      <td>5.102764</td>\n",
       "      <td>5.073478</td>\n",
       "      <td>0.422046</td>\n",
       "      <td>5.044191</td>\n",
       "      <td>256</td>\n",
       "    </tr>\n",
       "    <tr>\n",
       "      <th>1594678537.6570415</th>\n",
       "      <td>0.5125</td>\n",
       "      <td>0.51240</td>\n",
       "      <td>0.5123</td>\n",
       "      <td>1.00000</td>\n",
       "      <td>1.00000</td>\n",
       "      <td>1.00</td>\n",
       "      <td>-0.48760</td>\n",
       "      <td>6.762398</td>\n",
       "      <td>6.747038</td>\n",
       "      <td>6.731678</td>\n",
       "      <td>...</td>\n",
       "      <td>0.000044</td>\n",
       "      <td>0.000043</td>\n",
       "      <td>30.368324</td>\n",
       "      <td>30.281442</td>\n",
       "      <td>30.194559</td>\n",
       "      <td>16.183148</td>\n",
       "      <td>15.898602</td>\n",
       "      <td>0.903751</td>\n",
       "      <td>15.614057</td>\n",
       "      <td>4096</td>\n",
       "    </tr>\n",
       "    <tr>\n",
       "      <th>1594672291.0710459</th>\n",
       "      <td>0.5051</td>\n",
       "      <td>0.49945</td>\n",
       "      <td>0.4938</td>\n",
       "      <td>0.95368</td>\n",
       "      <td>0.95184</td>\n",
       "      <td>0.95</td>\n",
       "      <td>-0.45239</td>\n",
       "      <td>3.561881</td>\n",
       "      <td>3.524724</td>\n",
       "      <td>3.487566</td>\n",
       "      <td>...</td>\n",
       "      <td>0.147665</td>\n",
       "      <td>0.141272</td>\n",
       "      <td>87.128716</td>\n",
       "      <td>86.997990</td>\n",
       "      <td>86.867264</td>\n",
       "      <td>339.959930</td>\n",
       "      <td>331.146362</td>\n",
       "      <td>7.278381</td>\n",
       "      <td>322.332794</td>\n",
       "      <td>32</td>\n",
       "    </tr>\n",
       "  </tbody>\n",
       "</table>\n",
       "<p>3 rows × 21 columns</p>\n",
       "</div>"
      ],
      "text/plain": [
       "                    Acc Test Max  Acc Test Mean  Acc Test Min  Acc Train Max  \\\n",
       "1594673313.8724134        0.5218        0.52050        0.5192        1.00000   \n",
       "1594678537.6570415        0.5125        0.51240        0.5123        1.00000   \n",
       "1594672291.0710459        0.5051        0.49945        0.4938        0.95368   \n",
       "\n",
       "                    Acc Train Mean  Acc Train Min  Gap Mean  Loss Test Max  \\\n",
       "1594673313.8724134         1.00000           1.00  -0.47950       6.284950   \n",
       "1594678537.6570415         1.00000           1.00  -0.48760       6.762398   \n",
       "1594672291.0710459         0.95184           0.95  -0.45239       3.561881   \n",
       "\n",
       "                    Loss Test Mean  Loss Test Min  ...  Loss Train Mean  \\\n",
       "1594673313.8724134        6.268951       6.252953  ...         0.000034   \n",
       "1594678537.6570415        6.747038       6.731678  ...         0.000044   \n",
       "1594672291.0710459        3.524724       3.487566  ...         0.147665   \n",
       "\n",
       "                    Loss Train Min   Norm Max  Norm Mean   Norm Min  \\\n",
       "1594673313.8724134        0.000034  35.086926  35.047825  35.008724   \n",
       "1594678537.6570415        0.000043  30.368324  30.281442  30.194559   \n",
       "1594672291.0710459        0.141272  87.128716  86.997990  86.867264   \n",
       "\n",
       "                     Trace Max  Trace Mean  Trace Mean Std   Trace Min  \\\n",
       "1594673313.8724134    5.102764    5.073478        0.422046    5.044191   \n",
       "1594678537.6570415   16.183148   15.898602        0.903751   15.614057   \n",
       "1594672291.0710459  339.959930  331.146362        7.278381  322.332794   \n",
       "\n",
       "                    batch_train_size  \n",
       "1594673313.8724134               256  \n",
       "1594678537.6570415              4096  \n",
       "1594672291.0710459                32  \n",
       "\n",
       "[3 rows x 21 columns]"
      ]
     },
     "execution_count": 5,
     "metadata": {},
     "output_type": "execute_result"
    }
   ],
   "source": [
    "# stats_df = stats_df[stats_df[\"Acc Test Mean\"] > 0.15]\n",
    "stats_df.sort_values(by=\"Acc Test Max\", ascending=False)"
   ]
  },
  {
   "cell_type": "markdown",
   "metadata": {},
   "source": [
    "# Get data"
   ]
  },
  {
   "cell_type": "code",
   "execution_count": 6,
   "metadata": {},
   "outputs": [
    {
     "name": "stdout",
     "output_type": "stream",
     "text": [
      "Files already downloaded and verified\n",
      "Files already downloaded and verified\n"
     ]
    }
   ],
   "source": [
    "# get data\n",
    "seed = 0\n",
    "num_datapoints = 100\n",
    "on_test_set = False\n",
    "\n",
    "train_data, test_data = get_data_from_experiment(experiment_folder)\n",
    "if on_test_set:\n",
    "    data = get_random_data_subset(test_data, num_datapoints=num_datapoints, seed=seed)\n",
    "else:\n",
    "    data = get_random_data_subset(train_data, num_datapoints=num_datapoints, seed=seed)\n",
    "\n",
    "criterion = torch.nn.CrossEntropyLoss()\n",
    "\n"
   ]
  },
  {
   "cell_type": "markdown",
   "metadata": {},
   "source": [
    "# Model output scaling"
   ]
  },
  {
   "cell_type": "code",
   "execution_count": 7,
   "metadata": {},
   "outputs": [],
   "source": [
    "m = exp_dict[\"models\"][\"1594672291.0710459\"][\"0\"]"
   ]
  },
  {
   "cell_type": "code",
   "execution_count": 69,
   "metadata": {},
   "outputs": [
    {
     "data": {
      "text/plain": [
       "[tensor([[ 0.6314,  0.6157,  0.6235,  ..., -0.7647, -0.8118, -0.7725],\n",
       "         [-0.3882, -0.1765,  0.0667,  ...,  0.2392,  0.2549,  0.2471],\n",
       "         [-0.2314, -0.3255, -0.3333,  ...,  0.6314,  0.6471,  0.6471],\n",
       "         ...,\n",
       "         [-0.2784, -0.3020, -0.3412,  ...,  0.0980,  0.0902,  0.0902],\n",
       "         [ 0.5922,  0.6235,  0.6627,  ...,  0.5294,  0.5529,  0.5373],\n",
       "         [ 0.6941,  0.5765,  0.6471,  ..., -0.8431, -0.7725, -0.8667]]),\n",
       " tensor([4, 9, 9, 5, 8, 9, 7, 5, 3, 5, 6, 5, 8, 7, 1, 8, 5, 0, 7, 2, 8, 5, 4, 9,\n",
       "         6, 6, 8, 4, 6, 2, 5, 9, 6, 1, 5, 8, 4, 1, 2, 9, 0, 0, 5, 2, 5, 5, 3, 6,\n",
       "         7, 7, 2, 3, 1, 3, 1, 6, 7, 2, 5, 9, 3, 2, 4, 9, 3, 3, 3, 6, 1, 8, 1, 5,\n",
       "         3, 0, 9, 3, 9, 3, 3, 1, 8, 5, 0, 1, 5, 3, 6, 2, 7, 8, 6, 5, 5, 2, 3, 9,\n",
       "         1, 2, 8, 2])]"
      ]
     },
     "execution_count": 69,
     "metadata": {},
     "output_type": "execute_result"
    }
   ],
   "source": [
    "data"
   ]
  },
  {
   "cell_type": "code",
   "execution_count": 36,
   "metadata": {},
   "outputs": [],
   "source": [
    "model_outputs = get_model_outputs(m, data, softmax_outputs=False, device=None)\n",
    "_, predicted = torch.max(model_outputs, 1)\n",
    "correct_filter = (predicted == data[1]).detach().numpy()\n",
    "first_incorrect_idx = np.arange(0, len(data[0]))[~correct_filter][0]\n",
    "\n",
    "\n"
   ]
  },
  {
   "cell_type": "code",
   "execution_count": 64,
   "metadata": {},
   "outputs": [],
   "source": [
    "data[1][11] = 7\n",
    "\n",
    "max_alpha = 9\n",
    "\n",
    "scale_arr = []\n",
    "\n",
    "\n",
    "for alpha in np.linspace(0, max_alpha, 2): \n",
    "    scale_arr.append(scale_output_model(m, alpha))\n",
    "    \n",
    "model_dict = {str(i): scale_arr[i] for i in range(len(scale_arr))}"
   ]
  },
  {
   "cell_type": "code",
   "execution_count": 61,
   "metadata": {},
   "outputs": [
    {
     "data": {
      "text/plain": [
       "{'0': [133.23150634765625], '1': [-2147.7110595703125]}"
      ]
     },
     "execution_count": 61,
     "metadata": {},
     "output_type": "execute_result"
    }
   ],
   "source": [
    "get_point_traces(model_dict, [[data[0][first_incorrect_idx]], [data[1][first_incorrect_idx]]])# [data[1][first_incorrect_idx]]])\n",
    "# loss_dict, acc_dict = get_models_loss_acc(model_dict, full_train_loader, test_loader)"
   ]
  },
  {
   "cell_type": "code",
   "execution_count": 82,
   "metadata": {},
   "outputs": [
    {
     "data": {
      "text/plain": [
       "([[153.42253,\n",
       "   -137.5569,\n",
       "   -120.007515,\n",
       "   -107.93776,\n",
       "   -102.50538,\n",
       "   -91.39254,\n",
       "   -88.58853,\n",
       "   1.368904e-05,\n",
       "   -71.66885,\n",
       "   -63.719173,\n",
       "   -54.71403,\n",
       "   -43.429867,\n",
       "   -47.617702,\n",
       "   -18.73401,\n",
       "   124.34333,\n",
       "   42.590477,\n",
       "   44.789024,\n",
       "   51.19614,\n",
       "   61.29596,\n",
       "   102.77475,\n",
       "   100.36966,\n",
       "   97.17401,\n",
       "   71.42085,\n",
       "   85.29749,\n",
       "   79.42174]],\n",
       " [[8.9402533e-07,\n",
       "   2.327499e-06,\n",
       "   6.625031e-07,\n",
       "   4.1842793e-07,\n",
       "   1.03428455e-07,\n",
       "   1.8177042e-06,\n",
       "   5.357678e-07,\n",
       "   0.9998934,\n",
       "   2.28654e-06,\n",
       "   4.810786e-06,\n",
       "   1.47516275e-05,\n",
       "   1.7557171e-05,\n",
       "   6.5830895e-06,\n",
       "   2.668905e-10,\n",
       "   4.3996786e-07,\n",
       "   1.2755495e-05,\n",
       "   2.4390434e-05,\n",
       "   7.5727953e-06,\n",
       "   2.0061325e-06,\n",
       "   1.5542404e-06,\n",
       "   5.5037976e-08,\n",
       "   5.670602e-07,\n",
       "   1.1890304e-06,\n",
       "   2.7326384e-06,\n",
       "   5.5301217e-07]])"
      ]
     },
     "execution_count": 82,
     "metadata": {},
     "output_type": "execute_result"
    }
   ],
   "source": [
    "eigs = get_point_eig_density(model_dict, [[data[0][first_incorrect_idx]], [data[1][first_incorrect_idx]]])# [data[1][first_incorrect_idx]]])\n",
    "eigs[\"0\"][0]"
   ]
  },
  {
   "cell_type": "code",
   "execution_count": 81,
   "metadata": {},
   "outputs": [
    {
     "data": {
      "text/plain": [
       "-0.0014416869"
      ]
     },
     "execution_count": 81,
     "metadata": {},
     "output_type": "execute_result"
    }
   ],
   "source": [
    "np.array(x[0]).dot(np.array(y[0]))"
   ]
  },
  {
   "cell_type": "code",
   "execution_count": 83,
   "metadata": {},
   "outputs": [
    {
     "data": {
      "text/plain": [
       "-0.0014416869"
      ]
     },
     "execution_count": 83,
     "metadata": {},
     "output_type": "execute_result"
    }
   ],
   "source": [
    "np.array(x[0]).dot(np.array(y[0]))"
   ]
  },
  {
   "cell_type": "code",
   "execution_count": 79,
   "metadata": {},
   "outputs": [
    {
     "data": {
      "text/plain": [
       "<matplotlib.collections.PathCollection at 0x16eca4390>"
      ]
     },
     "execution_count": 79,
     "metadata": {},
     "output_type": "execute_result"
    },
    {
     "data": {
      "image/png": "[encoded data removed]",
      "text/plain": [
       "<Figure size 936x648 with 1 Axes>"
      ]
     },
     "metadata": {
      "needs_background": "light"
     },
     "output_type": "display_data"
    }
   ],
   "source": [
    "x, y = eigs[\"0\"][0]\n",
    "plt.scatter(x, y)"
   ]
  },
  {
   "cell_type": "code",
   "execution_count": 146,
   "metadata": {},
   "outputs": [],
   "source": [
    "model_a = exp_dict[\"models\"][\"1593847785.5662594\"][str(2)]\n",
    "model_a = exp_dict[\"models\"][\"1593841465.3004317\"][str(0)]\n",
    "# model_b = exp_dict[\"models\"][\"1592850561.9180126\"][str(1)]\n",
    "# model_c = exp_dict[\"models\"][\"1592850561.9180126\"][str(2)]\n"
   ]
  },
  {
   "cell_type": "code",
   "execution_count": 154,
   "metadata": {},
   "outputs": [],
   "source": [
    "\n"
   ]
  },
  {
   "cell_type": "markdown",
   "metadata": {},
   "source": [
    "# Interpolate two models"
   ]
  },
  {
   "cell_type": "code",
   "execution_count": 108,
   "metadata": {},
   "outputs": [],
   "source": [
    "# model_a = vec_to_net(v1_vec, model_c)\n",
    "# model_b = vec_to_net(v2_vec, model_c)\n",
    "\n",
    "beta_bound = [0, 20]\n",
    "num_inter_models = 2\n",
    "\n",
    "inter_arr = get_model_interpolate_arr(model_a, model_b, num_inter_models, beta_bound=beta_bound)\n",
    "\n",
    "model_dict = {str(i): inter_arr[i] for i in range(len(inter_arr))}\n",
    "\n",
    "\n",
    "\n"
   ]
  },
  {
   "cell_type": "code",
   "execution_count": 148,
   "metadata": {},
   "outputs": [
    {
     "name": "stdout",
     "output_type": "stream",
     "text": [
      "0\n",
      "1\n",
      "2\n",
      "3\n",
      "4\n",
      "5\n",
      "6\n",
      "7\n",
      "8\n",
      "9\n"
     ]
    }
   ],
   "source": [
    "eigenvals = get_models_eig(model_dict, train_loader, None, criterion, num_eigenthings=1)"
   ]
  },
  {
   "cell_type": "code",
   "execution_count": 143,
   "metadata": {},
   "outputs": [],
   "source": [
    "traces = get_models_trace(model_dict, full_train_loader, criterion, full_dataset=False)\n",
    "loss_dict, acc_dict = get_models_loss_acc(model_dict, full_train_loader, test_loader)"
   ]
  },
  {
   "cell_type": "code",
   "execution_count": 149,
   "metadata": {},
   "outputs": [
    {
     "name": "stdout",
     "output_type": "stream",
     "text": [
      "59.97638201713562\n"
     ]
    }
   ],
   "source": [
    "a = time.time()\n",
    "traces_batch = get_models_trace(model_dict, train_loader, criterion, full_dataset=False)\n",
    "loss_dict_batch, acc_dict_batch = get_models_loss_acc(model_dict, train_loader, test_loader)\n",
    "print(time.time() - a)"
   ]
  },
  {
   "cell_type": "code",
   "execution_count": 151,
   "metadata": {},
   "outputs": [
    {
     "data": {
      "text/plain": [
       "{'0': (2.3026678562164307, 2.3025851249694824),\n",
       " '1': (0.24088889360427856, 0.24736303091049194),\n",
       " '2': (0.08198236674070358, 0.034661777317523956),\n",
       " '3': (0.06260377913713455, 0.005912907887250185),\n",
       " '4': (0.0636124312877655, 0.0010521834483370185),\n",
       " '5': (0.06993412226438522, 0.00018892886873800308),\n",
       " '6': (0.07826332002878189, 3.397406908334233e-05),\n",
       " '7': (0.08755455911159515, 6.079655122448457e-06),\n",
       " '8': (0.09738297015428543, 1.0728830375228426e-06),\n",
       " '9': (0.1075439602136612, 2.3841855067985307e-07)}"
      ]
     },
     "execution_count": 151,
     "metadata": {},
     "output_type": "execute_result"
    }
   ],
   "source": [
    "loss_dict_batch"
   ]
  },
  {
   "cell_type": "code",
   "execution_count": 130,
   "metadata": {},
   "outputs": [
    {
     "data": {
      "text/plain": [
       "[372.0205357869466, 0.0058747010105954746, 1.1182875748648836e-07]"
      ]
     },
     "execution_count": 130,
     "metadata": {},
     "output_type": "execute_result"
    }
   ],
   "source": [
    "[np.mean(traces[t]) for t in traces]"
   ]
  },
  {
   "cell_type": "code",
   "execution_count": 111,
   "metadata": {},
   "outputs": [
    {
     "data": {
      "text/plain": [
       "{'0': array([35.490803], dtype=float32),\n",
       " '1': array([441948.06], dtype=float32)}"
      ]
     },
     "execution_count": 111,
     "metadata": {},
     "output_type": "execute_result"
    }
   ],
   "source": [
    "eigenvals"
   ]
  },
  {
   "cell_type": "code",
   "execution_count": 95,
   "metadata": {},
   "outputs": [],
   "source": [
    "dim = 5 \n",
    "nums = 20\n",
    "prob = 0.1\n",
    "ys = np.random.uniform(high=dim, size=nums).astype(\"int\")\n",
    "w = []\n",
    "for i in range(nums):\n",
    "    t = np.random.rand(dim)\n",
    "    eps = np.random.uniform()\n",
    "    if eps < prob:\n",
    "        idx = np.random.uniform(high=dim, size=1).astype(\"int\")\n",
    "        t[idx] = max(t) * 2\n",
    "    else:\n",
    "        t[ys[i]] = max(t) * 2\n",
    "    \n",
    "    w.append(t)\n",
    "\n"
   ]
  },
  {
   "cell_type": "code",
   "execution_count": 96,
   "metadata": {},
   "outputs": [],
   "source": [
    "def cross_entropy(w, y):\n",
    "    return - np.log(w[y]) # - np.sum(np.array([y[i] * np.log(w[i]) for i in range(len(w))]))\n",
    "\n",
    "def softmax_beta(w, beta):\n",
    "    denom = 0\n",
    "    for i in range(len(w)):\n",
    "        denom = denom + np.exp(beta * w[i])\n",
    "    return np.array([np.exp(beta * w[i])/denom for i in range(len(w))])\n"
   ]
  },
  {
   "cell_type": "code",
   "execution_count": 97,
   "metadata": {},
   "outputs": [],
   "source": [
    "res = []\n",
    "for a in np.linspace(0, 10, 100):\n",
    "\n",
    "    L = 0\n",
    "    for i in range(nums):\n",
    "        s = softmax_beta(w[i], a)\n",
    "        l = cross_entropy(s, ys[i])\n",
    "        L += l\n",
    "    res.append(L)\n",
    "\n"
   ]
  },
  {
   "cell_type": "code",
   "execution_count": 98,
   "metadata": {},
   "outputs": [
    {
     "data": {
      "text/plain": [
       "[<matplotlib.lines.Line2D at 0x17e9e8320>]"
      ]
     },
     "execution_count": 98,
     "metadata": {},
     "output_type": "execute_result"
    },
    {
     "data": {
      "image/png": "[encoded data removed]",
      "text/plain": [
       "<Figure size 432x288 with 1 Axes>"
      ]
     },
     "metadata": {
      "needs_background": "light"
     },
     "output_type": "display_data"
    }
   ],
   "source": [
    "plt.plot(res)"
   ]
  },
  {
   "cell_type": "code",
   "execution_count": 131,
   "metadata": {},
   "outputs": [
    {
     "ename": "ValueError",
     "evalue": "x and y must have same first dimension, but have shapes (3,) and (4,)",
     "output_type": "error",
     "traceback": [
      "\u001b[0;31m---------------------------------------------------------------------------\u001b[0m",
      "\u001b[0;31mValueError\u001b[0m                                Traceback (most recent call last)",
      "\u001b[0;32m<ipython-input-131-d1a88bee95cc>\u001b[0m in \u001b[0;36m<module>\u001b[0;34m\u001b[0m\n\u001b[1;32m      3\u001b[0m \u001b[0macc_arr\u001b[0m \u001b[0;34m=\u001b[0m \u001b[0;34m[\u001b[0m\u001b[0macc_dict_batch\u001b[0m\u001b[0;34m[\u001b[0m\u001b[0ma\u001b[0m\u001b[0;34m]\u001b[0m\u001b[0;34m[\u001b[0m\u001b[0;36m1\u001b[0m\u001b[0;34m]\u001b[0m \u001b[0;32mfor\u001b[0m \u001b[0ma\u001b[0m \u001b[0;32min\u001b[0m \u001b[0macc_dict_batch\u001b[0m\u001b[0;34m]\u001b[0m\u001b[0;34m\u001b[0m\u001b[0;34m\u001b[0m\u001b[0m\n\u001b[1;32m      4\u001b[0m \u001b[0;34m\u001b[0m\u001b[0m\n\u001b[0;32m----> 5\u001b[0;31m \u001b[0mplt\u001b[0m\u001b[0;34m.\u001b[0m\u001b[0mplot\u001b[0m\u001b[0;34m(\u001b[0m\u001b[0mxs\u001b[0m\u001b[0;34m,\u001b[0m \u001b[0mloss_arr\u001b[0m\u001b[0;34m)\u001b[0m\u001b[0;34m\u001b[0m\u001b[0;34m\u001b[0m\u001b[0m\n\u001b[0m\u001b[1;32m      6\u001b[0m \u001b[0;31m# plt.plot(xs, acc_arr)\u001b[0m\u001b[0;34m\u001b[0m\u001b[0;34m\u001b[0m\u001b[0;34m\u001b[0m\u001b[0m\n\u001b[1;32m      7\u001b[0m \u001b[0mplt\u001b[0m\u001b[0;34m.\u001b[0m\u001b[0mylim\u001b[0m\u001b[0;34m(\u001b[0m\u001b[0;34m[\u001b[0m\u001b[0;36m0\u001b[0m\u001b[0;34m,\u001b[0m \u001b[0;36m1\u001b[0m\u001b[0;34m]\u001b[0m\u001b[0;34m)\u001b[0m\u001b[0;34m\u001b[0m\u001b[0;34m\u001b[0m\u001b[0m\n",
      "\u001b[0;32m/usr/local/lib/python3.7/site-packages/matplotlib/pyplot.py\u001b[0m in \u001b[0;36mplot\u001b[0;34m(scalex, scaley, data, *args, **kwargs)\u001b[0m\n\u001b[1;32m   2809\u001b[0m     return gca().plot(\n\u001b[1;32m   2810\u001b[0m         *args, scalex=scalex, scaley=scaley, **({\"data\": data} if data\n\u001b[0;32m-> 2811\u001b[0;31m         is not None else {}), **kwargs)\n\u001b[0m\u001b[1;32m   2812\u001b[0m \u001b[0;34m\u001b[0m\u001b[0m\n\u001b[1;32m   2813\u001b[0m \u001b[0;34m\u001b[0m\u001b[0m\n",
      "\u001b[0;32m/usr/local/lib/python3.7/site-packages/matplotlib/__init__.py\u001b[0m in \u001b[0;36minner\u001b[0;34m(ax, data, *args, **kwargs)\u001b[0m\n\u001b[1;32m   1808\u001b[0m                         \u001b[0;34m\"the Matplotlib list!)\"\u001b[0m \u001b[0;34m%\u001b[0m \u001b[0;34m(\u001b[0m\u001b[0mlabel_namer\u001b[0m\u001b[0;34m,\u001b[0m \u001b[0mfunc\u001b[0m\u001b[0;34m.\u001b[0m\u001b[0m__name__\u001b[0m\u001b[0;34m)\u001b[0m\u001b[0;34m,\u001b[0m\u001b[0;34m\u001b[0m\u001b[0;34m\u001b[0m\u001b[0m\n\u001b[1;32m   1809\u001b[0m                         RuntimeWarning, stacklevel=2)\n\u001b[0;32m-> 1810\u001b[0;31m             \u001b[0;32mreturn\u001b[0m \u001b[0mfunc\u001b[0m\u001b[0;34m(\u001b[0m\u001b[0max\u001b[0m\u001b[0;34m,\u001b[0m \u001b[0;34m*\u001b[0m\u001b[0margs\u001b[0m\u001b[0;34m,\u001b[0m \u001b[0;34m**\u001b[0m\u001b[0mkwargs\u001b[0m\u001b[0;34m)\u001b[0m\u001b[0;34m\u001b[0m\u001b[0;34m\u001b[0m\u001b[0m\n\u001b[0m\u001b[1;32m   1811\u001b[0m \u001b[0;34m\u001b[0m\u001b[0m\n\u001b[1;32m   1812\u001b[0m         inner.__doc__ = _add_data_doc(inner.__doc__,\n",
      "\u001b[0;32m/usr/local/lib/python3.7/site-packages/matplotlib/axes/_axes.py\u001b[0m in \u001b[0;36mplot\u001b[0;34m(self, scalex, scaley, *args, **kwargs)\u001b[0m\n\u001b[1;32m   1609\u001b[0m         \u001b[0mkwargs\u001b[0m \u001b[0;34m=\u001b[0m \u001b[0mcbook\u001b[0m\u001b[0;34m.\u001b[0m\u001b[0mnormalize_kwargs\u001b[0m\u001b[0;34m(\u001b[0m\u001b[0mkwargs\u001b[0m\u001b[0;34m,\u001b[0m \u001b[0mmlines\u001b[0m\u001b[0;34m.\u001b[0m\u001b[0mLine2D\u001b[0m\u001b[0;34m.\u001b[0m\u001b[0m_alias_map\u001b[0m\u001b[0;34m)\u001b[0m\u001b[0;34m\u001b[0m\u001b[0;34m\u001b[0m\u001b[0m\n\u001b[1;32m   1610\u001b[0m \u001b[0;34m\u001b[0m\u001b[0m\n\u001b[0;32m-> 1611\u001b[0;31m         \u001b[0;32mfor\u001b[0m \u001b[0mline\u001b[0m \u001b[0;32min\u001b[0m \u001b[0mself\u001b[0m\u001b[0;34m.\u001b[0m\u001b[0m_get_lines\u001b[0m\u001b[0;34m(\u001b[0m\u001b[0;34m*\u001b[0m\u001b[0margs\u001b[0m\u001b[0;34m,\u001b[0m \u001b[0;34m**\u001b[0m\u001b[0mkwargs\u001b[0m\u001b[0;34m)\u001b[0m\u001b[0;34m:\u001b[0m\u001b[0;34m\u001b[0m\u001b[0;34m\u001b[0m\u001b[0m\n\u001b[0m\u001b[1;32m   1612\u001b[0m             \u001b[0mself\u001b[0m\u001b[0;34m.\u001b[0m\u001b[0madd_line\u001b[0m\u001b[0;34m(\u001b[0m\u001b[0mline\u001b[0m\u001b[0;34m)\u001b[0m\u001b[0;34m\u001b[0m\u001b[0;34m\u001b[0m\u001b[0m\n\u001b[1;32m   1613\u001b[0m             \u001b[0mlines\u001b[0m\u001b[0;34m.\u001b[0m\u001b[0mappend\u001b[0m\u001b[0;34m(\u001b[0m\u001b[0mline\u001b[0m\u001b[0;34m)\u001b[0m\u001b[0;34m\u001b[0m\u001b[0;34m\u001b[0m\u001b[0m\n",
      "\u001b[0;32m/usr/local/lib/python3.7/site-packages/matplotlib/axes/_base.py\u001b[0m in \u001b[0;36m_grab_next_args\u001b[0;34m(self, *args, **kwargs)\u001b[0m\n\u001b[1;32m    391\u001b[0m                 \u001b[0mthis\u001b[0m \u001b[0;34m+=\u001b[0m \u001b[0margs\u001b[0m\u001b[0;34m[\u001b[0m\u001b[0;36m0\u001b[0m\u001b[0;34m]\u001b[0m\u001b[0;34m,\u001b[0m\u001b[0;34m\u001b[0m\u001b[0;34m\u001b[0m\u001b[0m\n\u001b[1;32m    392\u001b[0m                 \u001b[0margs\u001b[0m \u001b[0;34m=\u001b[0m \u001b[0margs\u001b[0m\u001b[0;34m[\u001b[0m\u001b[0;36m1\u001b[0m\u001b[0;34m:\u001b[0m\u001b[0;34m]\u001b[0m\u001b[0;34m\u001b[0m\u001b[0;34m\u001b[0m\u001b[0m\n\u001b[0;32m--> 393\u001b[0;31m             \u001b[0;32myield\u001b[0m \u001b[0;32mfrom\u001b[0m \u001b[0mself\u001b[0m\u001b[0;34m.\u001b[0m\u001b[0m_plot_args\u001b[0m\u001b[0;34m(\u001b[0m\u001b[0mthis\u001b[0m\u001b[0;34m,\u001b[0m \u001b[0mkwargs\u001b[0m\u001b[0;34m)\u001b[0m\u001b[0;34m\u001b[0m\u001b[0;34m\u001b[0m\u001b[0m\n\u001b[0m\u001b[1;32m    394\u001b[0m \u001b[0;34m\u001b[0m\u001b[0m\n\u001b[1;32m    395\u001b[0m \u001b[0;34m\u001b[0m\u001b[0m\n",
      "\u001b[0;32m/usr/local/lib/python3.7/site-packages/matplotlib/axes/_base.py\u001b[0m in \u001b[0;36m_plot_args\u001b[0;34m(self, tup, kwargs)\u001b[0m\n\u001b[1;32m    368\u001b[0m             \u001b[0mx\u001b[0m\u001b[0;34m,\u001b[0m \u001b[0my\u001b[0m \u001b[0;34m=\u001b[0m \u001b[0mindex_of\u001b[0m\u001b[0;34m(\u001b[0m\u001b[0mtup\u001b[0m\u001b[0;34m[\u001b[0m\u001b[0;34m-\u001b[0m\u001b[0;36m1\u001b[0m\u001b[0;34m]\u001b[0m\u001b[0;34m)\u001b[0m\u001b[0;34m\u001b[0m\u001b[0;34m\u001b[0m\u001b[0m\n\u001b[1;32m    369\u001b[0m \u001b[0;34m\u001b[0m\u001b[0m\n\u001b[0;32m--> 370\u001b[0;31m         \u001b[0mx\u001b[0m\u001b[0;34m,\u001b[0m \u001b[0my\u001b[0m \u001b[0;34m=\u001b[0m \u001b[0mself\u001b[0m\u001b[0;34m.\u001b[0m\u001b[0m_xy_from_xy\u001b[0m\u001b[0;34m(\u001b[0m\u001b[0mx\u001b[0m\u001b[0;34m,\u001b[0m \u001b[0my\u001b[0m\u001b[0;34m)\u001b[0m\u001b[0;34m\u001b[0m\u001b[0;34m\u001b[0m\u001b[0m\n\u001b[0m\u001b[1;32m    371\u001b[0m \u001b[0;34m\u001b[0m\u001b[0m\n\u001b[1;32m    372\u001b[0m         \u001b[0;32mif\u001b[0m \u001b[0mself\u001b[0m\u001b[0;34m.\u001b[0m\u001b[0mcommand\u001b[0m \u001b[0;34m==\u001b[0m \u001b[0;34m'plot'\u001b[0m\u001b[0;34m:\u001b[0m\u001b[0;34m\u001b[0m\u001b[0;34m\u001b[0m\u001b[0m\n",
      "\u001b[0;32m/usr/local/lib/python3.7/site-packages/matplotlib/axes/_base.py\u001b[0m in \u001b[0;36m_xy_from_xy\u001b[0;34m(self, x, y)\u001b[0m\n\u001b[1;32m    229\u001b[0m         \u001b[0;32mif\u001b[0m \u001b[0mx\u001b[0m\u001b[0;34m.\u001b[0m\u001b[0mshape\u001b[0m\u001b[0;34m[\u001b[0m\u001b[0;36m0\u001b[0m\u001b[0;34m]\u001b[0m \u001b[0;34m!=\u001b[0m \u001b[0my\u001b[0m\u001b[0;34m.\u001b[0m\u001b[0mshape\u001b[0m\u001b[0;34m[\u001b[0m\u001b[0;36m0\u001b[0m\u001b[0;34m]\u001b[0m\u001b[0;34m:\u001b[0m\u001b[0;34m\u001b[0m\u001b[0;34m\u001b[0m\u001b[0m\n\u001b[1;32m    230\u001b[0m             raise ValueError(\"x and y must have same first dimension, but \"\n\u001b[0;32m--> 231\u001b[0;31m                              \"have shapes {} and {}\".format(x.shape, y.shape))\n\u001b[0m\u001b[1;32m    232\u001b[0m         \u001b[0;32mif\u001b[0m \u001b[0mx\u001b[0m\u001b[0;34m.\u001b[0m\u001b[0mndim\u001b[0m \u001b[0;34m>\u001b[0m \u001b[0;36m2\u001b[0m \u001b[0;32mor\u001b[0m \u001b[0my\u001b[0m\u001b[0;34m.\u001b[0m\u001b[0mndim\u001b[0m \u001b[0;34m>\u001b[0m \u001b[0;36m2\u001b[0m\u001b[0;34m:\u001b[0m\u001b[0;34m\u001b[0m\u001b[0;34m\u001b[0m\u001b[0m\n\u001b[1;32m    233\u001b[0m             raise ValueError(\"x and y can be no greater than 2-D, but have \"\n",
      "\u001b[0;31mValueError\u001b[0m: x and y must have same first dimension, but have shapes (3,) and (4,)"
     ]
    },
    {
     "data": {
      "image/png": "[encoded data removed]",
      "text/plain": [
       "<Figure size 432x288 with 1 Axes>"
      ]
     },
     "metadata": {
      "needs_background": "light"
     },
     "output_type": "display_data"
    }
   ],
   "source": [
    "\n",
    "xs = np.linspace(beta_bound[0], beta_bound[1], num_inter_models)\n",
    "loss_arr = [loss_dict_batch[a][0] for a in loss_dict_batch]\n",
    "acc_arr = [acc_dict_batch[a][1] for a in acc_dict_batch]\n",
    "\n",
    "plt.plot(xs, loss_arr)\n",
    "# plt.plot(xs, acc_arr)\n",
    "plt.ylim([0, 1])\n"
   ]
  },
  {
   "cell_type": "code",
   "execution_count": 156,
   "metadata": {},
   "outputs": [
    {
     "data": {
      "text/plain": [
       "(0, 1)"
      ]
     },
     "execution_count": 156,
     "metadata": {},
     "output_type": "execute_result"
    },
    {
     "data": {
      "image/png": "[encoded data removed]",
      "text/plain": [
       "<Figure size 432x288 with 1 Axes>"
      ]
     },
     "metadata": {
      "needs_background": "light"
     },
     "output_type": "display_data"
    }
   ],
   "source": [
    "\n",
    "xs =  np.linspace(0, max_alpha, num_inter_models)\n",
    "loss_arr = [loss_dict_batch[a][0] for a in loss_dict_batch]\n",
    "acc_arr = [acc_dict_batch[a][1] for a in acc_dict_batch]\n",
    "\n",
    "plt.plot(xs, loss_arr)\n",
    "# plt.plot(xs, acc_arr)\n",
    "plt.ylim([0, 1])\n"
   ]
  },
  {
   "cell_type": "code",
   "execution_count": 157,
   "metadata": {},
   "outputs": [
    {
     "name": "stdout",
     "output_type": "stream",
     "text": [
      "0\n"
     ]
    },
    {
     "data": {
      "text/plain": [
       "[<matplotlib.lines.Line2D at 0x17b57f978>]"
      ]
     },
     "execution_count": 157,
     "metadata": {},
     "output_type": "execute_result"
    },
    {
     "data": {
      "image/png": "[encoded data removed]",
      "text/plain": [
       "<Figure size 432x288 with 1 Axes>"
      ]
     },
     "metadata": {
      "needs_background": "light"
     },
     "output_type": "display_data"
    }
   ],
   "source": [
    "\n",
    "xs = np.linspace(0, max_alpha, num_inter_models)\n",
    "ys = [np.mean(traces_batch[a]) for a in traces_batch]\n",
    "ys_eigs = [eigenvals[i] for i in eigenvals]\n",
    "print(np.argmin(ys))\n",
    "# plt.plot(xs, ys)\n",
    "plt.plot(xs, ys_eigs)\n",
    "# plt.ylim([0, 10000])\n"
   ]
  },
  {
   "cell_type": "markdown",
   "metadata": {},
   "source": [
    "# 2D"
   ]
  },
  {
   "cell_type": "code",
   "execution_count": 54,
   "metadata": {},
   "outputs": [],
   "source": [
    "def create_offset_basis(offset, model1, model2):\n",
    "    v1_vec = get_params_vec(model1) - get_params_vec(offset)\n",
    "    w2_vec = get_params_vec(model2) - get_params_vec(offset)\n",
    "    proj_w2 = torch.matmul(v1_vec, w2_vec) * v1_vec / torch.norm(v1_vec) ** 2\n",
    "    assert torch.norm(proj_w2) != torch.norm(w2_vec) # make sure not lin dep\n",
    "    v2_vec = w2_vec - proj_w2\n",
    "    return offset, v1_vec, w2_vec"
   ]
  },
  {
   "cell_type": "code",
   "execution_count": 55,
   "metadata": {
    "scrolled": true
   },
   "outputs": [],
   "source": [
    "num_inter_models = 11\n",
    "alpha_bound = [-3, 3]\n",
    "beta_bound = [-3, 3]\n",
    "func = lambda x: get_net_loss(x, full_train_loader, full_dataset=False)\n",
    "# func = lambda net: np.mean(list(get_models_trace({\"net\": net}, d_t, criterion, full_dataset=False).values())[0])\n",
    "\n",
    "X = np.linspace(alpha_bound[0], alpha_bound[1], num_inter_models)\n",
    "Y = np.linspace(beta_bound[0], beta_bound[1], num_inter_models)\n",
    "\n",
    "offset, v1_vec, v2_vec = create_offset_basis(model_a, model_b, model_c)\n",
    "\n",
    "vals = get_model_interpolate_2d(offset, v1_vec, v2_vec, num_inter_models, alpha_bound, beta_bound, func)\n",
    "\n"
   ]
  },
  {
   "cell_type": "code",
   "execution_count": 56,
   "metadata": {},
   "outputs": [
    {
     "data": {
      "application/vnd.plotly.v1+json": {
       "config": {
        "plotlyServerURL": "https://plot.ly"
       },
       "data": [
        {
         "colorscale": [
          [
           0,
           "#440154"
          ],
          [
           0.1111111111111111,
           "#482878"
          ],
          [
           0.2222222222222222,
           "#3e4989"
          ],
          [
           0.3333333333333333,
           "#31688e"
          ],
          [
           0.4444444444444444,
           "#26828e"
          ],
          [
           0.5555555555555556,
           "#1f9e89"
          ],
          [
           0.6666666666666666,
           "#35b779"
          ],
          [
           0.7777777777777778,
           "#6ece58"
          ],
          [
           0.8888888888888888,
           "#b5de2b"
          ],
          [
           1,
           "#fde725"
          ]
         ],
         "type": "surface",
         "x": [
          -3,
          -2.4,
          -1.8,
          -1.2000000000000002,
          -0.6000000000000001,
          0,
          0.5999999999999996,
          1.2000000000000002,
          1.7999999999999998,
          2.3999999999999995,
          3
         ],
         "y": [
          -3,
          -2.4,
          -1.8,
          -1.2000000000000002,
          -0.6000000000000001,
          0,
          0.5999999999999996,
          1.2000000000000002,
          1.7999999999999998,
          2.3999999999999995,
          3
         ],
         "z": [
          [
           0.9099143147468567,
           0.908491849899292,
           0.9073300957679749,
           0.9064059853553772,
           0.9057018756866455,
           0.9051867723464966,
           0.9048082828521729,
           0.9045434594154358,
           0.904392421245575,
           0.9043210744857788,
           0.9042941927909851
          ],
          [
           0.9085267186164856,
           0.9073628187179565,
           0.9064366817474365,
           0.9057284593582153,
           0.9052092432975769,
           0.9048241972923279,
           0.9045534729957581,
           0.904392421245575,
           0.9043175578117371,
           0.904291033744812,
           0.904283344745636
          ],
          [
           0.9074007272720337,
           0.9064722657203674,
           0.9057599306106567,
           0.9052342176437378,
           0.904844343662262,
           0.9045661687850952,
           0.9043944478034973,
           0.9043164253234863,
           0.9042878150939941,
           0.9042796492576599,
           0.9042890667915344
          ],
          [
           0.9065110087394714,
           0.9057937860488892,
           0.9052609205245972,
           0.9048662185668945,
           0.9045814871788025,
           0.9043996334075928,
           0.9043158888816833,
           0.9042861461639404,
           0.9042763113975525,
           0.9042879343032837,
           0.9043828248977661
          ],
          [
           0.9058321118354797,
           0.9052897095680237,
           0.904890239238739,
           0.9045991897583008,
           0.9044071435928345,
           0.9043156504631042,
           0.9042844176292419,
           0.9042736291885376,
           0.9042881727218628,
           0.9043919444084167,
           0.9046508073806763
          ],
          [
           0.9053255915641785,
           0.9049175381660461,
           0.9046193957328796,
           0.9044188857078552,
           0.9043180346488953,
           0.9042831063270569,
           0.9042719006538391,
           0.904288649559021,
           0.9044023156166077,
           0.9046797752380371,
           0.9052502512931824
          ],
          [
           0.9049462676048279,
           0.9046421051025391,
           0.9044323563575745,
           0.90432208776474,
           0.9042811393737793,
           0.9042712450027466,
           0.9042904376983643,
           0.9044139981269836,
           0.9047116041183472,
           0.9053134918212891,
           0.906243085861206
          ],
          [
           0.9046661853790283,
           0.9044495224952698,
           0.904327392578125,
           0.9042815566062927,
           0.9042710661888123,
           0.9042927026748657,
           0.904426097869873,
           0.9047482013702393,
           0.9053803086280823,
           0.9063466191291809,
           0.9077402353286743
          ],
          [
           0.9044694304466248,
           0.9043347239494324,
           0.9042831063270569,
           0.9042701721191406,
           0.9042981863021851,
           0.9044420719146729,
           0.9047887325286865,
           0.9054505825042725,
           0.9064547419548035,
           0.9078894257545471,
           0.9097869396209717
          ],
          [
           0.9043421149253845,
           0.9042859673500061,
           0.9042714238166809,
           0.9043035507202148,
           0.9044577479362488,
           0.9048339128494263,
           0.905526340007782,
           0.9065679311752319,
           0.9080435633659363,
           0.9099878668785095,
           0.9125140905380249
          ],
          [
           0.9042909145355225,
           0.9042727947235107,
           0.9043108820915222,
           0.9044769406318665,
           0.9048854112625122,
           0.9056089520454407,
           0.9066869020462036,
           0.9082029461860657,
           0.9101946353912354,
           0.9127764701843262,
           0.9160087704658508
          ]
         ]
        }
       ],
       "layout": {
        "template": {
         "data": {
          "bar": [
           {
            "error_x": {
             "color": "#2a3f5f"
            },
            "error_y": {
             "color": "#2a3f5f"
            },
            "marker": {
             "line": {
              "color": "#E5ECF6",
              "width": 0.5
             }
            },
            "type": "bar"
           }
          ],
          "barpolar": [
           {
            "marker": {
             "line": {
              "color": "#E5ECF6",
              "width": 0.5
             }
            },
            "type": "barpolar"
           }
          ],
          "carpet": [
           {
            "aaxis": {
             "endlinecolor": "#2a3f5f",
             "gridcolor": "white",
             "linecolor": "white",
             "minorgridcolor": "white",
             "startlinecolor": "#2a3f5f"
            },
            "baxis": {
             "endlinecolor": "#2a3f5f",
             "gridcolor": "white",
             "linecolor": "white",
             "minorgridcolor": "white",
             "startlinecolor": "#2a3f5f"
            },
            "type": "carpet"
           }
          ],
          "choropleth": [
           {
            "colorbar": {
             "outlinewidth": 0,
             "ticks": ""
            },
            "type": "choropleth"
           }
          ],
          "contour": [
           {
            "colorbar": {
             "outlinewidth": 0,
             "ticks": ""
            },
            "colorscale": [
             [
              0,
              "#0d0887"
             ],
             [
              0.1111111111111111,
              "#46039f"
             ],
             [
              0.2222222222222222,
              "#7201a8"
             ],
             [
              0.3333333333333333,
              "#9c179e"
             ],
             [
              0.4444444444444444,
              "#bd3786"
             ],
             [
              0.5555555555555556,
              "#d8576b"
             ],
             [
              0.6666666666666666,
              "#ed7953"
             ],
             [
              0.7777777777777778,
              "#fb9f3a"
             ],
             [
              0.8888888888888888,
              "#fdca26"
             ],
             [
              1,
              "#f0f921"
             ]
            ],
            "type": "contour"
           }
          ],
          "contourcarpet": [
           {
            "colorbar": {
             "outlinewidth": 0,
             "ticks": ""
            },
            "type": "contourcarpet"
           }
          ],
          "heatmap": [
           {
            "colorbar": {
             "outlinewidth": 0,
             "ticks": ""
            },
            "colorscale": [
             [
              0,
              "#0d0887"
             ],
             [
              0.1111111111111111,
              "#46039f"
             ],
             [
              0.2222222222222222,
              "#7201a8"
             ],
             [
              0.3333333333333333,
              "#9c179e"
             ],
             [
              0.4444444444444444,
              "#bd3786"
             ],
             [
              0.5555555555555556,
              "#d8576b"
             ],
             [
              0.6666666666666666,
              "#ed7953"
             ],
             [
              0.7777777777777778,
              "#fb9f3a"
             ],
             [
              0.8888888888888888,
              "#fdca26"
             ],
             [
              1,
              "#f0f921"
             ]
            ],
            "type": "heatmap"
           }
          ],
          "heatmapgl": [
           {
            "colorbar": {
             "outlinewidth": 0,
             "ticks": ""
            },
            "colorscale": [
             [
              0,
              "#0d0887"
             ],
             [
              0.1111111111111111,
              "#46039f"
             ],
             [
              0.2222222222222222,
              "#7201a8"
             ],
             [
              0.3333333333333333,
              "#9c179e"
             ],
             [
              0.4444444444444444,
              "#bd3786"
             ],
             [
              0.5555555555555556,
              "#d8576b"
             ],
             [
              0.6666666666666666,
              "#ed7953"
             ],
             [
              0.7777777777777778,
              "#fb9f3a"
             ],
             [
              0.8888888888888888,
              "#fdca26"
             ],
             [
              1,
              "#f0f921"
             ]
            ],
            "type": "heatmapgl"
           }
          ],
          "histogram": [
           {
            "marker": {
             "colorbar": {
              "outlinewidth": 0,
              "ticks": ""
             }
            },
            "type": "histogram"
           }
          ],
          "histogram2d": [
           {
            "colorbar": {
             "outlinewidth": 0,
             "ticks": ""
            },
            "colorscale": [
             [
              0,
              "#0d0887"
             ],
             [
              0.1111111111111111,
              "#46039f"
             ],
             [
              0.2222222222222222,
              "#7201a8"
             ],
             [
              0.3333333333333333,
              "#9c179e"
             ],
             [
              0.4444444444444444,
              "#bd3786"
             ],
             [
              0.5555555555555556,
              "#d8576b"
             ],
             [
              0.6666666666666666,
              "#ed7953"
             ],
             [
              0.7777777777777778,
              "#fb9f3a"
             ],
             [
              0.8888888888888888,
              "#fdca26"
             ],
             [
              1,
              "#f0f921"
             ]
            ],
            "type": "histogram2d"
           }
          ],
          "histogram2dcontour": [
           {
            "colorbar": {
             "outlinewidth": 0,
             "ticks": ""
            },
            "colorscale": [
             [
              0,
              "#0d0887"
             ],
             [
              0.1111111111111111,
              "#46039f"
             ],
             [
              0.2222222222222222,
              "#7201a8"
             ],
             [
              0.3333333333333333,
              "#9c179e"
             ],
             [
              0.4444444444444444,
              "#bd3786"
             ],
             [
              0.5555555555555556,
              "#d8576b"
             ],
             [
              0.6666666666666666,
              "#ed7953"
             ],
             [
              0.7777777777777778,
              "#fb9f3a"
             ],
             [
              0.8888888888888888,
              "#fdca26"
             ],
             [
              1,
              "#f0f921"
             ]
            ],
            "type": "histogram2dcontour"
           }
          ],
          "mesh3d": [
           {
            "colorbar": {
             "outlinewidth": 0,
             "ticks": ""
            },
            "type": "mesh3d"
           }
          ],
          "parcoords": [
           {
            "line": {
             "colorbar": {
              "outlinewidth": 0,
              "ticks": ""
             }
            },
            "type": "parcoords"
           }
          ],
          "scatter": [
           {
            "marker": {
             "colorbar": {
              "outlinewidth": 0,
              "ticks": ""
             }
            },
            "type": "scatter"
           }
          ],
          "scatter3d": [
           {
            "line": {
             "colorbar": {
              "outlinewidth": 0,
              "ticks": ""
             }
            },
            "marker": {
             "colorbar": {
              "outlinewidth": 0,
              "ticks": ""
             }
            },
            "type": "scatter3d"
           }
          ],
          "scattercarpet": [
           {
            "marker": {
             "colorbar": {
              "outlinewidth": 0,
              "ticks": ""
             }
            },
            "type": "scattercarpet"
           }
          ],
          "scattergeo": [
           {
            "marker": {
             "colorbar": {
              "outlinewidth": 0,
              "ticks": ""
             }
            },
            "type": "scattergeo"
           }
          ],
          "scattergl": [
           {
            "marker": {
             "colorbar": {
              "outlinewidth": 0,
              "ticks": ""
             }
            },
            "type": "scattergl"
           }
          ],
          "scattermapbox": [
           {
            "marker": {
             "colorbar": {
              "outlinewidth": 0,
              "ticks": ""
             }
            },
            "type": "scattermapbox"
           }
          ],
          "scatterpolar": [
           {
            "marker": {
             "colorbar": {
              "outlinewidth": 0,
              "ticks": ""
             }
            },
            "type": "scatterpolar"
           }
          ],
          "scatterpolargl": [
           {
            "marker": {
             "colorbar": {
              "outlinewidth": 0,
              "ticks": ""
             }
            },
            "type": "scatterpolargl"
           }
          ],
          "scatterternary": [
           {
            "marker": {
             "colorbar": {
              "outlinewidth": 0,
              "ticks": ""
             }
            },
            "type": "scatterternary"
           }
          ],
          "surface": [
           {
            "colorbar": {
             "outlinewidth": 0,
             "ticks": ""
            },
            "colorscale": [
             [
              0,
              "#0d0887"
             ],
             [
              0.1111111111111111,
              "#46039f"
             ],
             [
              0.2222222222222222,
              "#7201a8"
             ],
             [
              0.3333333333333333,
              "#9c179e"
             ],
             [
              0.4444444444444444,
              "#bd3786"
             ],
             [
              0.5555555555555556,
              "#d8576b"
             ],
             [
              0.6666666666666666,
              "#ed7953"
             ],
             [
              0.7777777777777778,
              "#fb9f3a"
             ],
             [
              0.8888888888888888,
              "#fdca26"
             ],
             [
              1,
              "#f0f921"
             ]
            ],
            "type": "surface"
           }
          ],
          "table": [
           {
            "cells": {
             "fill": {
              "color": "#EBF0F8"
             },
             "line": {
              "color": "white"
             }
            },
            "header": {
             "fill": {
              "color": "#C8D4E3"
             },
             "line": {
              "color": "white"
             }
            },
            "type": "table"
           }
          ]
         },
         "layout": {
          "annotationdefaults": {
           "arrowcolor": "#2a3f5f",
           "arrowhead": 0,
           "arrowwidth": 1
          },
          "colorscale": {
           "diverging": [
            [
             0,
             "#8e0152"
            ],
            [
             0.1,
             "#c51b7d"
            ],
            [
             0.2,
             "#de77ae"
            ],
            [
             0.3,
             "#f1b6da"
            ],
            [
             0.4,
             "#fde0ef"
            ],
            [
             0.5,
             "#f7f7f7"
            ],
            [
             0.6,
             "#e6f5d0"
            ],
            [
             0.7,
             "#b8e186"
            ],
            [
             0.8,
             "#7fbc41"
            ],
            [
             0.9,
             "#4d9221"
            ],
            [
             1,
             "#276419"
            ]
           ],
           "sequential": [
            [
             0,
             "#0d0887"
            ],
            [
             0.1111111111111111,
             "#46039f"
            ],
            [
             0.2222222222222222,
             "#7201a8"
            ],
            [
             0.3333333333333333,
             "#9c179e"
            ],
            [
             0.4444444444444444,
             "#bd3786"
            ],
            [
             0.5555555555555556,
             "#d8576b"
            ],
            [
             0.6666666666666666,
             "#ed7953"
            ],
            [
             0.7777777777777778,
             "#fb9f3a"
            ],
            [
             0.8888888888888888,
             "#fdca26"
            ],
            [
             1,
             "#f0f921"
            ]
           ],
           "sequentialminus": [
            [
             0,
             "#0d0887"
            ],
            [
             0.1111111111111111,
             "#46039f"
            ],
            [
             0.2222222222222222,
             "#7201a8"
            ],
            [
             0.3333333333333333,
             "#9c179e"
            ],
            [
             0.4444444444444444,
             "#bd3786"
            ],
            [
             0.5555555555555556,
             "#d8576b"
            ],
            [
             0.6666666666666666,
             "#ed7953"
            ],
            [
             0.7777777777777778,
             "#fb9f3a"
            ],
            [
             0.8888888888888888,
             "#fdca26"
            ],
            [
             1,
             "#f0f921"
            ]
           ]
          },
          "colorway": [
           "#636efa",
           "#EF553B",
           "#00cc96",
           "#ab63fa",
           "#FFA15A",
           "#19d3f3",
           "#FF6692",
           "#B6E880",
           "#FF97FF",
           "#FECB52"
          ],
          "font": {
           "color": "#2a3f5f"
          },
          "geo": {
           "bgcolor": "white",
           "lakecolor": "white",
           "landcolor": "#E5ECF6",
           "showlakes": true,
           "showland": true,
           "subunitcolor": "white"
          },
          "hoverlabel": {
           "align": "left"
          },
          "hovermode": "closest",
          "mapbox": {
           "style": "light"
          },
          "paper_bgcolor": "white",
          "plot_bgcolor": "#E5ECF6",
          "polar": {
           "angularaxis": {
            "gridcolor": "white",
            "linecolor": "white",
            "ticks": ""
           },
           "bgcolor": "#E5ECF6",
           "radialaxis": {
            "gridcolor": "white",
            "linecolor": "white",
            "ticks": ""
           }
          },
          "scene": {
           "xaxis": {
            "backgroundcolor": "#E5ECF6",
            "gridcolor": "white",
            "gridwidth": 2,
            "linecolor": "white",
            "showbackground": true,
            "ticks": "",
            "zerolinecolor": "white"
           },
           "yaxis": {
            "backgroundcolor": "#E5ECF6",
            "gridcolor": "white",
            "gridwidth": 2,
            "linecolor": "white",
            "showbackground": true,
            "ticks": "",
            "zerolinecolor": "white"
           },
           "zaxis": {
            "backgroundcolor": "#E5ECF6",
            "gridcolor": "white",
            "gridwidth": 2,
            "linecolor": "white",
            "showbackground": true,
            "ticks": "",
            "zerolinecolor": "white"
           }
          },
          "shapedefaults": {
           "line": {
            "color": "#2a3f5f"
           }
          },
          "ternary": {
           "aaxis": {
            "gridcolor": "white",
            "linecolor": "white",
            "ticks": ""
           },
           "baxis": {
            "gridcolor": "white",
            "linecolor": "white",
            "ticks": ""
           },
           "bgcolor": "#E5ECF6",
           "caxis": {
            "gridcolor": "white",
            "linecolor": "white",
            "ticks": ""
           }
          },
          "title": {
           "x": 0.05
          },
          "xaxis": {
           "automargin": true,
           "gridcolor": "white",
           "linecolor": "white",
           "ticks": "",
           "zerolinecolor": "white",
           "zerolinewidth": 2
          },
          "yaxis": {
           "automargin": true,
           "gridcolor": "white",
           "linecolor": "white",
           "ticks": "",
           "zerolinecolor": "white",
           "zerolinewidth": 2
          }
         }
        }
       }
      },
      "text/html": [
       "<div>\n",
       "        \n",
       "        \n",
       "            <div id=\"92aa730d-3a5d-4685-a3b0-ccf86f21be86\" class=\"plotly-graph-div\" style=\"height:525px; width:100%;\"></div>\n",
       "            <script type=\"text/javascript\">\n",
       "                require([\"plotly\"], function(Plotly) {\n",
       "                    window.PLOTLYENV=window.PLOTLYENV || {};\n",
       "                    \n",
       "                if (document.getElementById(\"92aa730d-3a5d-4685-a3b0-ccf86f21be86\")) {\n",
       "                    Plotly.newPlot(\n",
       "                        '92aa730d-3a5d-4685-a3b0-ccf86f21be86',\n",
       "                        [{\"colorscale\": [[0.0, \"#440154\"], [0.1111111111111111, \"#482878\"], [0.2222222222222222, \"#3e4989\"], [0.3333333333333333, \"#31688e\"], [0.4444444444444444, \"#26828e\"], [0.5555555555555556, \"#1f9e89\"], [0.6666666666666666, \"#35b779\"], [0.7777777777777778, \"#6ece58\"], [0.8888888888888888, \"#b5de2b\"], [1.0, \"#fde725\"]], \"type\": \"surface\", \"x\": [-3.0, -2.4, -1.8, -1.2000000000000002, -0.6000000000000001, 0.0, 0.5999999999999996, 1.2000000000000002, 1.7999999999999998, 2.3999999999999995, 3.0], \"y\": [-3.0, -2.4, -1.8, -1.2000000000000002, -0.6000000000000001, 0.0, 0.5999999999999996, 1.2000000000000002, 1.7999999999999998, 2.3999999999999995, 3.0], \"z\": [[0.9099143147468567, 0.908491849899292, 0.9073300957679749, 0.9064059853553772, 0.9057018756866455, 0.9051867723464966, 0.9048082828521729, 0.9045434594154358, 0.904392421245575, 0.9043210744857788, 0.9042941927909851], [0.9085267186164856, 0.9073628187179565, 0.9064366817474365, 0.9057284593582153, 0.9052092432975769, 0.9048241972923279, 0.9045534729957581, 0.904392421245575, 0.9043175578117371, 0.904291033744812, 0.904283344745636], [0.9074007272720337, 0.9064722657203674, 0.9057599306106567, 0.9052342176437378, 0.904844343662262, 0.9045661687850952, 0.9043944478034973, 0.9043164253234863, 0.9042878150939941, 0.9042796492576599, 0.9042890667915344], [0.9065110087394714, 0.9057937860488892, 0.9052609205245972, 0.9048662185668945, 0.9045814871788025, 0.9043996334075928, 0.9043158888816833, 0.9042861461639404, 0.9042763113975525, 0.9042879343032837, 0.9043828248977661], [0.9058321118354797, 0.9052897095680237, 0.904890239238739, 0.9045991897583008, 0.9044071435928345, 0.9043156504631042, 0.9042844176292419, 0.9042736291885376, 0.9042881727218628, 0.9043919444084167, 0.9046508073806763], [0.9053255915641785, 0.9049175381660461, 0.9046193957328796, 0.9044188857078552, 0.9043180346488953, 0.9042831063270569, 0.9042719006538391, 0.904288649559021, 0.9044023156166077, 0.9046797752380371, 0.9052502512931824], [0.9049462676048279, 0.9046421051025391, 0.9044323563575745, 0.90432208776474, 0.9042811393737793, 0.9042712450027466, 0.9042904376983643, 0.9044139981269836, 0.9047116041183472, 0.9053134918212891, 0.906243085861206], [0.9046661853790283, 0.9044495224952698, 0.904327392578125, 0.9042815566062927, 0.9042710661888123, 0.9042927026748657, 0.904426097869873, 0.9047482013702393, 0.9053803086280823, 0.9063466191291809, 0.9077402353286743], [0.9044694304466248, 0.9043347239494324, 0.9042831063270569, 0.9042701721191406, 0.9042981863021851, 0.9044420719146729, 0.9047887325286865, 0.9054505825042725, 0.9064547419548035, 0.9078894257545471, 0.9097869396209717], [0.9043421149253845, 0.9042859673500061, 0.9042714238166809, 0.9043035507202148, 0.9044577479362488, 0.9048339128494263, 0.905526340007782, 0.9065679311752319, 0.9080435633659363, 0.9099878668785095, 0.9125140905380249], [0.9042909145355225, 0.9042727947235107, 0.9043108820915222, 0.9044769406318665, 0.9048854112625122, 0.9056089520454407, 0.9066869020462036, 0.9082029461860657, 0.9101946353912354, 0.9127764701843262, 0.9160087704658508]]}],\n",
       "                        {\"template\": {\"data\": {\"bar\": [{\"error_x\": {\"color\": \"#2a3f5f\"}, \"error_y\": {\"color\": \"#2a3f5f\"}, \"marker\": {\"line\": {\"color\": \"#E5ECF6\", \"width\": 0.5}}, \"type\": \"bar\"}], \"barpolar\": [{\"marker\": {\"line\": {\"color\": \"#E5ECF6\", \"width\": 0.5}}, \"type\": \"barpolar\"}], \"carpet\": [{\"aaxis\": {\"endlinecolor\": \"#2a3f5f\", \"gridcolor\": \"white\", \"linecolor\": \"white\", \"minorgridcolor\": \"white\", \"startlinecolor\": \"#2a3f5f\"}, \"baxis\": {\"endlinecolor\": \"#2a3f5f\", \"gridcolor\": \"white\", \"linecolor\": \"white\", \"minorgridcolor\": \"white\", \"startlinecolor\": \"#2a3f5f\"}, \"type\": \"carpet\"}], \"choropleth\": [{\"colorbar\": {\"outlinewidth\": 0, \"ticks\": \"\"}, \"type\": \"choropleth\"}], \"contour\": [{\"colorbar\": {\"outlinewidth\": 0, \"ticks\": \"\"}, \"colorscale\": [[0.0, \"#0d0887\"], [0.1111111111111111, \"#46039f\"], [0.2222222222222222, \"#7201a8\"], [0.3333333333333333, \"#9c179e\"], [0.4444444444444444, \"#bd3786\"], [0.5555555555555556, \"#d8576b\"], [0.6666666666666666, \"#ed7953\"], [0.7777777777777778, \"#fb9f3a\"], [0.8888888888888888, \"#fdca26\"], [1.0, \"#f0f921\"]], \"type\": \"contour\"}], \"contourcarpet\": [{\"colorbar\": {\"outlinewidth\": 0, \"ticks\": \"\"}, \"type\": \"contourcarpet\"}], \"heatmap\": [{\"colorbar\": {\"outlinewidth\": 0, \"ticks\": \"\"}, \"colorscale\": [[0.0, \"#0d0887\"], [0.1111111111111111, \"#46039f\"], [0.2222222222222222, \"#7201a8\"], [0.3333333333333333, \"#9c179e\"], [0.4444444444444444, \"#bd3786\"], [0.5555555555555556, \"#d8576b\"], [0.6666666666666666, \"#ed7953\"], [0.7777777777777778, \"#fb9f3a\"], [0.8888888888888888, \"#fdca26\"], [1.0, \"#f0f921\"]], \"type\": \"heatmap\"}], \"heatmapgl\": [{\"colorbar\": {\"outlinewidth\": 0, \"ticks\": \"\"}, \"colorscale\": [[0.0, \"#0d0887\"], [0.1111111111111111, \"#46039f\"], [0.2222222222222222, \"#7201a8\"], [0.3333333333333333, \"#9c179e\"], [0.4444444444444444, \"#bd3786\"], [0.5555555555555556, \"#d8576b\"], [0.6666666666666666, \"#ed7953\"], [0.7777777777777778, \"#fb9f3a\"], [0.8888888888888888, \"#fdca26\"], [1.0, \"#f0f921\"]], \"type\": \"heatmapgl\"}], \"histogram\": [{\"marker\": {\"colorbar\": {\"outlinewidth\": 0, \"ticks\": \"\"}}, \"type\": \"histogram\"}], \"histogram2d\": [{\"colorbar\": {\"outlinewidth\": 0, \"ticks\": \"\"}, \"colorscale\": [[0.0, \"#0d0887\"], [0.1111111111111111, \"#46039f\"], [0.2222222222222222, \"#7201a8\"], [0.3333333333333333, \"#9c179e\"], [0.4444444444444444, \"#bd3786\"], [0.5555555555555556, \"#d8576b\"], [0.6666666666666666, \"#ed7953\"], [0.7777777777777778, \"#fb9f3a\"], [0.8888888888888888, \"#fdca26\"], [1.0, \"#f0f921\"]], \"type\": \"histogram2d\"}], \"histogram2dcontour\": [{\"colorbar\": {\"outlinewidth\": 0, \"ticks\": \"\"}, \"colorscale\": [[0.0, \"#0d0887\"], [0.1111111111111111, \"#46039f\"], [0.2222222222222222, \"#7201a8\"], [0.3333333333333333, \"#9c179e\"], [0.4444444444444444, \"#bd3786\"], [0.5555555555555556, \"#d8576b\"], [0.6666666666666666, \"#ed7953\"], [0.7777777777777778, \"#fb9f3a\"], [0.8888888888888888, \"#fdca26\"], [1.0, \"#f0f921\"]], \"type\": \"histogram2dcontour\"}], \"mesh3d\": [{\"colorbar\": {\"outlinewidth\": 0, \"ticks\": \"\"}, \"type\": \"mesh3d\"}], \"parcoords\": [{\"line\": {\"colorbar\": {\"outlinewidth\": 0, \"ticks\": \"\"}}, \"type\": \"parcoords\"}], \"scatter\": [{\"marker\": {\"colorbar\": {\"outlinewidth\": 0, \"ticks\": \"\"}}, \"type\": \"scatter\"}], \"scatter3d\": [{\"line\": {\"colorbar\": {\"outlinewidth\": 0, \"ticks\": \"\"}}, \"marker\": {\"colorbar\": {\"outlinewidth\": 0, \"ticks\": \"\"}}, \"type\": \"scatter3d\"}], \"scattercarpet\": [{\"marker\": {\"colorbar\": {\"outlinewidth\": 0, \"ticks\": \"\"}}, \"type\": \"scattercarpet\"}], \"scattergeo\": [{\"marker\": {\"colorbar\": {\"outlinewidth\": 0, \"ticks\": \"\"}}, \"type\": \"scattergeo\"}], \"scattergl\": [{\"marker\": {\"colorbar\": {\"outlinewidth\": 0, \"ticks\": \"\"}}, \"type\": \"scattergl\"}], \"scattermapbox\": [{\"marker\": {\"colorbar\": {\"outlinewidth\": 0, \"ticks\": \"\"}}, \"type\": \"scattermapbox\"}], \"scatterpolar\": [{\"marker\": {\"colorbar\": {\"outlinewidth\": 0, \"ticks\": \"\"}}, \"type\": \"scatterpolar\"}], \"scatterpolargl\": [{\"marker\": {\"colorbar\": {\"outlinewidth\": 0, \"ticks\": \"\"}}, \"type\": \"scatterpolargl\"}], \"scatterternary\": [{\"marker\": {\"colorbar\": {\"outlinewidth\": 0, \"ticks\": \"\"}}, \"type\": \"scatterternary\"}], \"surface\": [{\"colorbar\": {\"outlinewidth\": 0, \"ticks\": \"\"}, \"colorscale\": [[0.0, \"#0d0887\"], [0.1111111111111111, \"#46039f\"], [0.2222222222222222, \"#7201a8\"], [0.3333333333333333, \"#9c179e\"], [0.4444444444444444, \"#bd3786\"], [0.5555555555555556, \"#d8576b\"], [0.6666666666666666, \"#ed7953\"], [0.7777777777777778, \"#fb9f3a\"], [0.8888888888888888, \"#fdca26\"], [1.0, \"#f0f921\"]], \"type\": \"surface\"}], \"table\": [{\"cells\": {\"fill\": {\"color\": \"#EBF0F8\"}, \"line\": {\"color\": \"white\"}}, \"header\": {\"fill\": {\"color\": \"#C8D4E3\"}, \"line\": {\"color\": \"white\"}}, \"type\": \"table\"}]}, \"layout\": {\"annotationdefaults\": {\"arrowcolor\": \"#2a3f5f\", \"arrowhead\": 0, \"arrowwidth\": 1}, \"colorscale\": {\"diverging\": [[0, \"#8e0152\"], [0.1, \"#c51b7d\"], [0.2, \"#de77ae\"], [0.3, \"#f1b6da\"], [0.4, \"#fde0ef\"], [0.5, \"#f7f7f7\"], [0.6, \"#e6f5d0\"], [0.7, \"#b8e186\"], [0.8, \"#7fbc41\"], [0.9, \"#4d9221\"], [1, \"#276419\"]], \"sequential\": [[0.0, \"#0d0887\"], [0.1111111111111111, \"#46039f\"], [0.2222222222222222, \"#7201a8\"], [0.3333333333333333, \"#9c179e\"], [0.4444444444444444, \"#bd3786\"], [0.5555555555555556, \"#d8576b\"], [0.6666666666666666, \"#ed7953\"], [0.7777777777777778, \"#fb9f3a\"], [0.8888888888888888, \"#fdca26\"], [1.0, \"#f0f921\"]], \"sequentialminus\": [[0.0, \"#0d0887\"], [0.1111111111111111, \"#46039f\"], [0.2222222222222222, \"#7201a8\"], [0.3333333333333333, \"#9c179e\"], [0.4444444444444444, \"#bd3786\"], [0.5555555555555556, \"#d8576b\"], [0.6666666666666666, \"#ed7953\"], [0.7777777777777778, \"#fb9f3a\"], [0.8888888888888888, \"#fdca26\"], [1.0, \"#f0f921\"]]}, \"colorway\": [\"#636efa\", \"#EF553B\", \"#00cc96\", \"#ab63fa\", \"#FFA15A\", \"#19d3f3\", \"#FF6692\", \"#B6E880\", \"#FF97FF\", \"#FECB52\"], \"font\": {\"color\": \"#2a3f5f\"}, \"geo\": {\"bgcolor\": \"white\", \"lakecolor\": \"white\", \"landcolor\": \"#E5ECF6\", \"showlakes\": true, \"showland\": true, \"subunitcolor\": \"white\"}, \"hoverlabel\": {\"align\": \"left\"}, \"hovermode\": \"closest\", \"mapbox\": {\"style\": \"light\"}, \"paper_bgcolor\": \"white\", \"plot_bgcolor\": \"#E5ECF6\", \"polar\": {\"angularaxis\": {\"gridcolor\": \"white\", \"linecolor\": \"white\", \"ticks\": \"\"}, \"bgcolor\": \"#E5ECF6\", \"radialaxis\": {\"gridcolor\": \"white\", \"linecolor\": \"white\", \"ticks\": \"\"}}, \"scene\": {\"xaxis\": {\"backgroundcolor\": \"#E5ECF6\", \"gridcolor\": \"white\", \"gridwidth\": 2, \"linecolor\": \"white\", \"showbackground\": true, \"ticks\": \"\", \"zerolinecolor\": \"white\"}, \"yaxis\": {\"backgroundcolor\": \"#E5ECF6\", \"gridcolor\": \"white\", \"gridwidth\": 2, \"linecolor\": \"white\", \"showbackground\": true, \"ticks\": \"\", \"zerolinecolor\": \"white\"}, \"zaxis\": {\"backgroundcolor\": \"#E5ECF6\", \"gridcolor\": \"white\", \"gridwidth\": 2, \"linecolor\": \"white\", \"showbackground\": true, \"ticks\": \"\", \"zerolinecolor\": \"white\"}}, \"shapedefaults\": {\"line\": {\"color\": \"#2a3f5f\"}}, \"ternary\": {\"aaxis\": {\"gridcolor\": \"white\", \"linecolor\": \"white\", \"ticks\": \"\"}, \"baxis\": {\"gridcolor\": \"white\", \"linecolor\": \"white\", \"ticks\": \"\"}, \"bgcolor\": \"#E5ECF6\", \"caxis\": {\"gridcolor\": \"white\", \"linecolor\": \"white\", \"ticks\": \"\"}}, \"title\": {\"x\": 0.05}, \"xaxis\": {\"automargin\": true, \"gridcolor\": \"white\", \"linecolor\": \"white\", \"ticks\": \"\", \"zerolinecolor\": \"white\", \"zerolinewidth\": 2}, \"yaxis\": {\"automargin\": true, \"gridcolor\": \"white\", \"linecolor\": \"white\", \"ticks\": \"\", \"zerolinecolor\": \"white\", \"zerolinewidth\": 2}}}},\n",
       "                        {\"responsive\": true}\n",
       "                    ).then(function(){\n",
       "                            \n",
       "var gd = document.getElementById('92aa730d-3a5d-4685-a3b0-ccf86f21be86');\n",
       "var x = new MutationObserver(function (mutations, observer) {{\n",
       "        var display = window.getComputedStyle(gd).display;\n",
       "        if (!display || display === 'none') {{\n",
       "            console.log([gd, 'removed!']);\n",
       "            Plotly.purge(gd);\n",
       "            observer.disconnect();\n",
       "        }}\n",
       "}});\n",
       "\n",
       "// Listen for the removal of the full notebook cells\n",
       "var notebookContainer = gd.closest('#notebook-container');\n",
       "if (notebookContainer) {{\n",
       "    x.observe(notebookContainer, {childList: true});\n",
       "}}\n",
       "\n",
       "// Listen for the clearing of the current output cell\n",
       "var outputEl = gd.closest('.output');\n",
       "if (outputEl) {{\n",
       "    x.observe(outputEl, {childList: true});\n",
       "}}\n",
       "\n",
       "                        })\n",
       "                };\n",
       "                });\n",
       "            </script>\n",
       "        </div>"
      ]
     },
     "metadata": {},
     "output_type": "display_data"
    }
   ],
   "source": [
    "import plotly.graph_objects as go\n",
    "\n",
    "fig = go.Figure(data=[go.Surface(z=vals, x=X, y=Y, colorscale=\"Viridis\")])\n",
    "\n",
    "# fig.update_layout(title='Function', autosize=False,\n",
    "#                   width=1000, height=800,\n",
    "#                   margin=dict(l=65, r=50, b=65, t=90))\n",
    "\n",
    "fig.show()"
   ]
  },
  {
   "cell_type": "code",
   "execution_count": 507,
   "metadata": {},
   "outputs": [
    {
     "data": {
      "application/vnd.plotly.v1+json": {
       "config": {
        "plotlyServerURL": "https://plot.ly"
       },
       "data": [
        {
         "colorscale": [
          [
           0,
           "#440154"
          ],
          [
           0.1111111111111111,
           "#482878"
          ],
          [
           0.2222222222222222,
           "#3e4989"
          ],
          [
           0.3333333333333333,
           "#31688e"
          ],
          [
           0.4444444444444444,
           "#26828e"
          ],
          [
           0.5555555555555556,
           "#1f9e89"
          ],
          [
           0.6666666666666666,
           "#35b779"
          ],
          [
           0.7777777777777778,
           "#6ece58"
          ],
          [
           0.8888888888888888,
           "#b5de2b"
          ],
          [
           1,
           "#fde725"
          ]
         ],
         "type": "surface",
         "x": [
          -5,
          -4.5,
          -4,
          -3.5,
          -3,
          -2.5,
          -2,
          -1.5,
          -1,
          -0.5,
          0,
          0.5,
          1,
          1.5,
          2,
          2.5,
          3,
          3.5,
          4,
          4.5,
          5
         ],
         "y": [
          -5,
          -4.5,
          -4,
          -3.5,
          -3,
          -2.5,
          -2,
          -1.5,
          -1,
          -0.5,
          0,
          0.5,
          1,
          1.5,
          2,
          2.5,
          3,
          3.5,
          4,
          4.5,
          5
         ],
         "z": [
          [
           75.33202787546011,
           73.66577453613282,
           82.8327663823178,
           122.21858455516674,
           136.88404761420355,
           67.12491607666016,
           11.50008192062378,
           10.841675907373428,
           22.0537371635437,
           20.465711491448538,
           31.22170571927671,
           49.127482891082764,
           55.07804437117143,
           63.610762131519806,
           62.46411559892737,
           35.748077034950256,
           28.124570105969905,
           30.30319021145503,
           28.30048681050539,
           -0.5111770629882812,
           31.273060265041533
          ],
          [
           69.2999267578125,
           71.07870082855224,
           94.44968159993489,
           101.04894971847534,
           137.60225677490234,
           110.01078727028586,
           17.680323759714764,
           8.02114725112915,
           18.344419797261555,
           26.5863196849823,
           28.773803844008334,
           34.238768918173655,
           31.27167871263292,
           54.03976900437299,
           57.981266479492184,
           44.43396198048311,
           38.29238210035407,
           27.34210989977184,
           34.488179271871395,
           26.90200503119107,
           28.616739604784094
          ],
          [
           85.62090301513672,
           70.1272345043364,
           108.06336466471355,
           92.04675567626953,
           131.56238174438477,
           142.78908457074846,
           37.365156173706055,
           7.563302993774414,
           12.392707135942247,
           24.470263838768005,
           26.38397683037652,
           29.46360128266471,
           42.3431822458903,
           59.425825119018555,
           50.79788212342696,
           42.299200503031415,
           36.14294425676118,
           27.642034176517935,
           33.449530919392906,
           34.13954599698385,
           7.084409475326538
          ],
          [
           80.17115609305246,
           73.27271747589111,
           73.23611145019531,
           87.4263875749376,
           115.64483727349176,
           144.0253151558541,
           88.05184936523438,
           11.22048595339753,
           14.903464317321777,
           20.428239822387695,
           22.849421664646695,
           31.708135017981895,
           35.14676834106445,
           53.425430692475416,
           57.507377277721055,
           51.779372453689575,
           47.930179595947266,
           35.16386640071869,
           34.05100497760271,
           26.956089591979982,
           30.127711832523346
          ],
          [
           78.2880744934082,
           73.67492178212042,
           77.42658969334194,
           89.63487255212033,
           95.83205947875976,
           138.8791389465332,
           114.94838047027588,
           18.65492647344416,
           8.003371909812644,
           21.005340417226154,
           20.116476369940717,
           26.64749104636056,
           33.31240487098694,
           49.53971862792969,
           53.49288099783438,
           52.17852882777943,
           49.02135340372721,
           47.503052711486816,
           5.278434753417969,
           26.307866443287242,
           0.26166200637817383
          ],
          [
           74.45029858180455,
           73.3193244934082,
           81.20860862731934,
           86.55659866333008,
           106.65573556082589,
           134.19034313333447,
           145.7184966694225,
           33.9487553914388,
           7.938600771129131,
           11.455937427023184,
           21.262603600819904,
           25.129373788833618,
           31.641570150852203,
           44.729834513230756,
           60.04227924346924,
           60.29077657063802,
           60.88937835693359,
           40.430376699992586,
           30.527108038465183,
           4.535427451133728,
           36.30615037002347
          ],
          [
           66.17482285272507,
           77.53967612130302,
           78.00498784383139,
           80.57964361281623,
           93.0872683317765,
           114.40234107971192,
           129.5547332763672,
           81.09790910993304,
           10.614673658858898,
           7.895513296127319,
           20.406913936138153,
           24.537725756245276,
           29.762623768226774,
           35.53764191380254,
           38.86324795809659,
           60.89164573267887,
           48.125493427492536,
           67.79371476173401,
           32.23519651412964,
           25.754150196909904,
           26.64209008216858
          ],
          [
           79.2372599515048,
           70.37153047834124,
           76.14150197882401,
           82.41742599010468,
           89.48689339377664,
           110.55178887503487,
           141.22521432240805,
           119.47723554953551,
           16.480538281527433,
           5.376633326212565,
           15.292731285095215,
           20.422591333803922,
           27.72107760111491,
           26.81294600168864,
           48.199562072753906,
           71.14173859816331,
           49.052798664931096,
           59.63281296624078,
           34.87140654115116,
           31.821983513547412,
           25.67990390981237
          ],
          [
           62.76073360443115,
           63.642479823185845,
           81.15639332362584,
           67.14530563354492,
           84.61699401855469,
           116.40193245627664,
           136.77738441120493,
           147.2038787841797,
           39.184949747721355,
           7.308993746252621,
           11.656067869879983,
           19.51838524201337,
           23.26737649300519,
           30.562962168738956,
           40.708578745524086,
           49.84118571648231,
           49.458618310781624,
           63.7656870061701,
           40.565649828740526,
           31.470214932053178,
           30.807829367487056
          ],
          [
           79.3244457244873,
           62.68839433458116,
           80.81385451096754,
           79.10206026349749,
           94.5157241821289,
           82.95029774418583,
           119.93950751519972,
           147.32640012105307,
           86.72378492355347,
           9.417552822514585,
           8.691616477966308,
           17.137766944037544,
           21.50339107124173,
           30.73267779811736,
           33.698037870002516,
           49.53502238880504,
           55.04427685457117,
           54.052680378868466,
           60.75155679039333,
           34.91533906351436,
           27.020350870158936
          ],
          [
           60.80622641245524,
           76.06606101989746,
           77.91230692182269,
           73.85468578338623,
           73.14050565447126,
           99.89581330617268,
           118.88520332618997,
           99.88775889078777,
           116.41068158830915,
           16.0232141494751,
           6.032636826688593,
           14.772343277931213,
           22.722182967446066,
           29.074535293579103,
           33.72585320472717,
           46.289547644163434,
           57.69215106964111,
           55.86387325735653,
           48.827921245409094,
           40.92101152059509,
           30.356656261795276
          ],
          [
           63.61740074157715,
           70.15500119837318,
           76.60205793380737,
           78.9653844833374,
           76.8808923448835,
           80.11318751743862,
           84.20260467529297,
           137.9058649163497,
           138.86988939557756,
           40.25603831255877,
           7.2191760540008545,
           10.286372469692695,
           17.74336338043213,
           24.516152629852296,
           28.247622687241126,
           43.83718967437744,
           57.57224082946777,
           62.07907802302663,
           51.53029566797717,
           53.186657969156904,
           32.18238800764084
          ],
          [
           59.35502977371216,
           68.1460355122884,
           67.72625192006429,
           73.4054788861956,
           80.49170737430967,
           89.14947424994574,
           90.0537055015564,
           116.53725671768188,
           147.4682689666748,
           79.5979338021114,
           9.025523196567189,
           7.546122443291448,
           19.716769218444824,
           21.701874415079754,
           30.272760915756226,
           33.17003591060639,
           43.43120486919697,
           64.51534444635564,
           49.987254558465416,
           55.6770656020553,
           27.985174912672775
          ],
          [
           55.1086960960837,
           68.7100814183553,
           73.38278983621036,
           81.17417744227818,
           73.56014878409249,
           84.22619141472711,
           94.14151815934615,
           110.1733410358429,
           146.2376335144043,
           128.98109879604607,
           14.914310296376547,
           6.528194270235427,
           14.163062699635823,
           21.163806533813478,
           24.592056274414062,
           31.0213979419909,
           49.107610855102536,
           52.01870568593343,
           58.39886707729764,
           59.89347720146179,
           49.00110054016113
          ],
          [
           52.68799567222595,
           59.182021882798935,
           69.99719066004599,
           78.28224664804887,
           68.4655595002351,
           83.82572495937347,
           84.48202238411739,
           88.3635622660319,
           131.76812962123327,
           149.67449079241072,
           37.80632232217228,
           6.156470192803277,
           11.959177342328159,
           17.456072745784635,
           23.747333486874897,
           29.18138195037842,
           33.23791772492078,
           46.02251850474965,
           60.605852187948024,
           54.19725010312837,
           48.87314203050401
          ],
          [
           51.59060607637678,
           59.476128578186035,
           70.5007543892696,
           67.23239883422852,
           74.67955816359748,
           84.43214232833297,
           75.464663369315,
           86.45667042451747,
           116.29115295410156,
           168.15254656473795,
           91.96763229370117,
           7.025304822360768,
           7.003759741783142,
           16.408460475780345,
           20.7806660701067,
           30.904718081156414,
           32.7970038822719,
           45.603708600997926,
           58.39559402046623,
           62.14871044158936,
           53.861764430999756
          ],
          [
           50.75743611653646,
           60.55087871551514,
           68.34979309082031,
           78.60457469798901,
           92.2699862028423,
           77.35308376111482,
           86.98651014055524,
           94.44002855741061,
           107.47708020891461,
           152.18653361002603,
           113.42039987315302,
           15.688257751010713,
           5.450419247150421,
           13.465388334714449,
           17.47514153335054,
           22.77876345316569,
           32.99405319626267,
           39.173767065390564,
           53.19131964606208,
           58.92365577697754,
           62.3341869354248
          ],
          [
           49.382965428488596,
           58.05132884070987,
           56.745869636535645,
           64.78989334106446,
           76.44420742458767,
           82.02171522995522,
           76.56878153483073,
           89.5752867530374,
           98.66535530090331,
           137.1364060835405,
           151.46985953194755,
           39.37473771378801,
           4.930863454937935,
           10.546037469591413,
           22.621660028185165,
           21.128063559532166,
           29.55809721033624,
           35.36368967692057,
           45.071997902610086,
           63.00963066719674,
           58.62186035743127
          ],
          [
           47.847292355128694,
           57.26952414512634,
           61.09656162261963,
           73.07206026713054,
           77.21781463623047,
           76.52428418114071,
           92.26353073120117,
           85.84356740315755,
           101.36472157069615,
           117.32784921982709,
           154.90632909138998,
           98.40125603511416,
           7.209883712586903,
           6.576194063476894,
           16.921653613448143,
           19.33971290027394,
           29.245210717364056,
           26.390479505062103,
           47.10451983062314,
           54.6562764784869,
           54.01212426890498
          ],
          [
           40.40026117407757,
           43.15572726726532,
           64.91820425736277,
           66.91708968026298,
           84.95739756992884,
           88.29584688753695,
           67.05389611617379,
           93.07800786635455,
           87.44545066356659,
           106.42769513811383,
           147.99710982186454,
           125.28311190397844,
           16.742841919263203,
           5.046321495159252,
           12.888640198053098,
           17.145787119865417,
           26.861962694110293,
           32.71294759568714,
           43.98071503639221,
           48.64141037350609,
           51.695292154947914
          ],
          [
           47.30810032468854,
           44.9986956914266,
           57.85690995418664,
           70.54534710154815,
           80.87978717258999,
           83.29575538635254,
           76.75055471280726,
           82.73106145858765,
           85.41413206212661,
           100.01976642608642,
           133.95890846252442,
           144.5762168265678,
           43.539892297042044,
           4.888276020685832,
           7.597243785858154,
           15.601192084225742,
           22.251930276552837,
           28.16628105409684,
           35.115843878852,
           41.52954563498497,
           56.39016460550243
          ]
         ]
        }
       ],
       "layout": {
        "template": {
         "data": {
          "bar": [
           {
            "error_x": {
             "color": "#2a3f5f"
            },
            "error_y": {
             "color": "#2a3f5f"
            },
            "marker": {
             "line": {
              "color": "#E5ECF6",
              "width": 0.5
             }
            },
            "type": "bar"
           }
          ],
          "barpolar": [
           {
            "marker": {
             "line": {
              "color": "#E5ECF6",
              "width": 0.5
             }
            },
            "type": "barpolar"
           }
          ],
          "carpet": [
           {
            "aaxis": {
             "endlinecolor": "#2a3f5f",
             "gridcolor": "white",
             "linecolor": "white",
             "minorgridcolor": "white",
             "startlinecolor": "#2a3f5f"
            },
            "baxis": {
             "endlinecolor": "#2a3f5f",
             "gridcolor": "white",
             "linecolor": "white",
             "minorgridcolor": "white",
             "startlinecolor": "#2a3f5f"
            },
            "type": "carpet"
           }
          ],
          "choropleth": [
           {
            "colorbar": {
             "outlinewidth": 0,
             "ticks": ""
            },
            "type": "choropleth"
           }
          ],
          "contour": [
           {
            "colorbar": {
             "outlinewidth": 0,
             "ticks": ""
            },
            "colorscale": [
             [
              0,
              "#0d0887"
             ],
             [
              0.1111111111111111,
              "#46039f"
             ],
             [
              0.2222222222222222,
              "#7201a8"
             ],
             [
              0.3333333333333333,
              "#9c179e"
             ],
             [
              0.4444444444444444,
              "#bd3786"
             ],
             [
              0.5555555555555556,
              "#d8576b"
             ],
             [
              0.6666666666666666,
              "#ed7953"
             ],
             [
              0.7777777777777778,
              "#fb9f3a"
             ],
             [
              0.8888888888888888,
              "#fdca26"
             ],
             [
              1,
              "#f0f921"
             ]
            ],
            "type": "contour"
           }
          ],
          "contourcarpet": [
           {
            "colorbar": {
             "outlinewidth": 0,
             "ticks": ""
            },
            "type": "contourcarpet"
           }
          ],
          "heatmap": [
           {
            "colorbar": {
             "outlinewidth": 0,
             "ticks": ""
            },
            "colorscale": [
             [
              0,
              "#0d0887"
             ],
             [
              0.1111111111111111,
              "#46039f"
             ],
             [
              0.2222222222222222,
              "#7201a8"
             ],
             [
              0.3333333333333333,
              "#9c179e"
             ],
             [
              0.4444444444444444,
              "#bd3786"
             ],
             [
              0.5555555555555556,
              "#d8576b"
             ],
             [
              0.6666666666666666,
              "#ed7953"
             ],
             [
              0.7777777777777778,
              "#fb9f3a"
             ],
             [
              0.8888888888888888,
              "#fdca26"
             ],
             [
              1,
              "#f0f921"
             ]
            ],
            "type": "heatmap"
           }
          ],
          "heatmapgl": [
           {
            "colorbar": {
             "outlinewidth": 0,
             "ticks": ""
            },
            "colorscale": [
             [
              0,
              "#0d0887"
             ],
             [
              0.1111111111111111,
              "#46039f"
             ],
             [
              0.2222222222222222,
              "#7201a8"
             ],
             [
              0.3333333333333333,
              "#9c179e"
             ],
             [
              0.4444444444444444,
              "#bd3786"
             ],
             [
              0.5555555555555556,
              "#d8576b"
             ],
             [
              0.6666666666666666,
              "#ed7953"
             ],
             [
              0.7777777777777778,
              "#fb9f3a"
             ],
             [
              0.8888888888888888,
              "#fdca26"
             ],
             [
              1,
              "#f0f921"
             ]
            ],
            "type": "heatmapgl"
           }
          ],
          "histogram": [
           {
            "marker": {
             "colorbar": {
              "outlinewidth": 0,
              "ticks": ""
             }
            },
            "type": "histogram"
           }
          ],
          "histogram2d": [
           {
            "colorbar": {
             "outlinewidth": 0,
             "ticks": ""
            },
            "colorscale": [
             [
              0,
              "#0d0887"
             ],
             [
              0.1111111111111111,
              "#46039f"
             ],
             [
              0.2222222222222222,
              "#7201a8"
             ],
             [
              0.3333333333333333,
              "#9c179e"
             ],
             [
              0.4444444444444444,
              "#bd3786"
             ],
             [
              0.5555555555555556,
              "#d8576b"
             ],
             [
              0.6666666666666666,
              "#ed7953"
             ],
             [
              0.7777777777777778,
              "#fb9f3a"
             ],
             [
              0.8888888888888888,
              "#fdca26"
             ],
             [
              1,
              "#f0f921"
             ]
            ],
            "type": "histogram2d"
           }
          ],
          "histogram2dcontour": [
           {
            "colorbar": {
             "outlinewidth": 0,
             "ticks": ""
            },
            "colorscale": [
             [
              0,
              "#0d0887"
             ],
             [
              0.1111111111111111,
              "#46039f"
             ],
             [
              0.2222222222222222,
              "#7201a8"
             ],
             [
              0.3333333333333333,
              "#9c179e"
             ],
             [
              0.4444444444444444,
              "#bd3786"
             ],
             [
              0.5555555555555556,
              "#d8576b"
             ],
             [
              0.6666666666666666,
              "#ed7953"
             ],
             [
              0.7777777777777778,
              "#fb9f3a"
             ],
             [
              0.8888888888888888,
              "#fdca26"
             ],
             [
              1,
              "#f0f921"
             ]
            ],
            "type": "histogram2dcontour"
           }
          ],
          "mesh3d": [
           {
            "colorbar": {
             "outlinewidth": 0,
             "ticks": ""
            },
            "type": "mesh3d"
           }
          ],
          "parcoords": [
           {
            "line": {
             "colorbar": {
              "outlinewidth": 0,
              "ticks": ""
             }
            },
            "type": "parcoords"
           }
          ],
          "scatter": [
           {
            "marker": {
             "colorbar": {
              "outlinewidth": 0,
              "ticks": ""
             }
            },
            "type": "scatter"
           }
          ],
          "scatter3d": [
           {
            "line": {
             "colorbar": {
              "outlinewidth": 0,
              "ticks": ""
             }
            },
            "marker": {
             "colorbar": {
              "outlinewidth": 0,
              "ticks": ""
             }
            },
            "type": "scatter3d"
           }
          ],
          "scattercarpet": [
           {
            "marker": {
             "colorbar": {
              "outlinewidth": 0,
              "ticks": ""
             }
            },
            "type": "scattercarpet"
           }
          ],
          "scattergeo": [
           {
            "marker": {
             "colorbar": {
              "outlinewidth": 0,
              "ticks": ""
             }
            },
            "type": "scattergeo"
           }
          ],
          "scattergl": [
           {
            "marker": {
             "colorbar": {
              "outlinewidth": 0,
              "ticks": ""
             }
            },
            "type": "scattergl"
           }
          ],
          "scattermapbox": [
           {
            "marker": {
             "colorbar": {
              "outlinewidth": 0,
              "ticks": ""
             }
            },
            "type": "scattermapbox"
           }
          ],
          "scatterpolar": [
           {
            "marker": {
             "colorbar": {
              "outlinewidth": 0,
              "ticks": ""
             }
            },
            "type": "scatterpolar"
           }
          ],
          "scatterpolargl": [
           {
            "marker": {
             "colorbar": {
              "outlinewidth": 0,
              "ticks": ""
             }
            },
            "type": "scatterpolargl"
           }
          ],
          "scatterternary": [
           {
            "marker": {
             "colorbar": {
              "outlinewidth": 0,
              "ticks": ""
             }
            },
            "type": "scatterternary"
           }
          ],
          "surface": [
           {
            "colorbar": {
             "outlinewidth": 0,
             "ticks": ""
            },
            "colorscale": [
             [
              0,
              "#0d0887"
             ],
             [
              0.1111111111111111,
              "#46039f"
             ],
             [
              0.2222222222222222,
              "#7201a8"
             ],
             [
              0.3333333333333333,
              "#9c179e"
             ],
             [
              0.4444444444444444,
              "#bd3786"
             ],
             [
              0.5555555555555556,
              "#d8576b"
             ],
             [
              0.6666666666666666,
              "#ed7953"
             ],
             [
              0.7777777777777778,
              "#fb9f3a"
             ],
             [
              0.8888888888888888,
              "#fdca26"
             ],
             [
              1,
              "#f0f921"
             ]
            ],
            "type": "surface"
           }
          ],
          "table": [
           {
            "cells": {
             "fill": {
              "color": "#EBF0F8"
             },
             "line": {
              "color": "white"
             }
            },
            "header": {
             "fill": {
              "color": "#C8D4E3"
             },
             "line": {
              "color": "white"
             }
            },
            "type": "table"
           }
          ]
         },
         "layout": {
          "annotationdefaults": {
           "arrowcolor": "#2a3f5f",
           "arrowhead": 0,
           "arrowwidth": 1
          },
          "colorscale": {
           "diverging": [
            [
             0,
             "#8e0152"
            ],
            [
             0.1,
             "#c51b7d"
            ],
            [
             0.2,
             "#de77ae"
            ],
            [
             0.3,
             "#f1b6da"
            ],
            [
             0.4,
             "#fde0ef"
            ],
            [
             0.5,
             "#f7f7f7"
            ],
            [
             0.6,
             "#e6f5d0"
            ],
            [
             0.7,
             "#b8e186"
            ],
            [
             0.8,
             "#7fbc41"
            ],
            [
             0.9,
             "#4d9221"
            ],
            [
             1,
             "#276419"
            ]
           ],
           "sequential": [
            [
             0,
             "#0d0887"
            ],
            [
             0.1111111111111111,
             "#46039f"
            ],
            [
             0.2222222222222222,
             "#7201a8"
            ],
            [
             0.3333333333333333,
             "#9c179e"
            ],
            [
             0.4444444444444444,
             "#bd3786"
            ],
            [
             0.5555555555555556,
             "#d8576b"
            ],
            [
             0.6666666666666666,
             "#ed7953"
            ],
            [
             0.7777777777777778,
             "#fb9f3a"
            ],
            [
             0.8888888888888888,
             "#fdca26"
            ],
            [
             1,
             "#f0f921"
            ]
           ],
           "sequentialminus": [
            [
             0,
             "#0d0887"
            ],
            [
             0.1111111111111111,
             "#46039f"
            ],
            [
             0.2222222222222222,
             "#7201a8"
            ],
            [
             0.3333333333333333,
             "#9c179e"
            ],
            [
             0.4444444444444444,
             "#bd3786"
            ],
            [
             0.5555555555555556,
             "#d8576b"
            ],
            [
             0.6666666666666666,
             "#ed7953"
            ],
            [
             0.7777777777777778,
             "#fb9f3a"
            ],
            [
             0.8888888888888888,
             "#fdca26"
            ],
            [
             1,
             "#f0f921"
            ]
           ]
          },
          "colorway": [
           "#636efa",
           "#EF553B",
           "#00cc96",
           "#ab63fa",
           "#FFA15A",
           "#19d3f3",
           "#FF6692",
           "#B6E880",
           "#FF97FF",
           "#FECB52"
          ],
          "font": {
           "color": "#2a3f5f"
          },
          "geo": {
           "bgcolor": "white",
           "lakecolor": "white",
           "landcolor": "#E5ECF6",
           "showlakes": true,
           "showland": true,
           "subunitcolor": "white"
          },
          "hoverlabel": {
           "align": "left"
          },
          "hovermode": "closest",
          "mapbox": {
           "style": "light"
          },
          "paper_bgcolor": "white",
          "plot_bgcolor": "#E5ECF6",
          "polar": {
           "angularaxis": {
            "gridcolor": "white",
            "linecolor": "white",
            "ticks": ""
           },
           "bgcolor": "#E5ECF6",
           "radialaxis": {
            "gridcolor": "white",
            "linecolor": "white",
            "ticks": ""
           }
          },
          "scene": {
           "xaxis": {
            "backgroundcolor": "#E5ECF6",
            "gridcolor": "white",
            "gridwidth": 2,
            "linecolor": "white",
            "showbackground": true,
            "ticks": "",
            "zerolinecolor": "white"
           },
           "yaxis": {
            "backgroundcolor": "#E5ECF6",
            "gridcolor": "white",
            "gridwidth": 2,
            "linecolor": "white",
            "showbackground": true,
            "ticks": "",
            "zerolinecolor": "white"
           },
           "zaxis": {
            "backgroundcolor": "#E5ECF6",
            "gridcolor": "white",
            "gridwidth": 2,
            "linecolor": "white",
            "showbackground": true,
            "ticks": "",
            "zerolinecolor": "white"
           }
          },
          "shapedefaults": {
           "line": {
            "color": "#2a3f5f"
           }
          },
          "ternary": {
           "aaxis": {
            "gridcolor": "white",
            "linecolor": "white",
            "ticks": ""
           },
           "baxis": {
            "gridcolor": "white",
            "linecolor": "white",
            "ticks": ""
           },
           "bgcolor": "#E5ECF6",
           "caxis": {
            "gridcolor": "white",
            "linecolor": "white",
            "ticks": ""
           }
          },
          "title": {
           "x": 0.05
          },
          "xaxis": {
           "automargin": true,
           "gridcolor": "white",
           "linecolor": "white",
           "ticks": "",
           "zerolinecolor": "white",
           "zerolinewidth": 2
          },
          "yaxis": {
           "automargin": true,
           "gridcolor": "white",
           "linecolor": "white",
           "ticks": "",
           "zerolinecolor": "white",
           "zerolinewidth": 2
          }
         }
        }
       }
      },
      "text/html": [
       "<div>\n",
       "        \n",
       "        \n",
       "            <div id=\"d93b6ae0-ce7c-460b-b049-4304c33861dd\" class=\"plotly-graph-div\" style=\"height:525px; width:100%;\"></div>\n",
       "            <script type=\"text/javascript\">\n",
       "                require([\"plotly\"], function(Plotly) {\n",
       "                    window.PLOTLYENV=window.PLOTLYENV || {};\n",
       "                    \n",
       "                if (document.getElementById(\"d93b6ae0-ce7c-460b-b049-4304c33861dd\")) {\n",
       "                    Plotly.newPlot(\n",
       "                        'd93b6ae0-ce7c-460b-b049-4304c33861dd',\n",
       "                        [{\"colorscale\": [[0.0, \"#440154\"], [0.1111111111111111, \"#482878\"], [0.2222222222222222, \"#3e4989\"], [0.3333333333333333, \"#31688e\"], [0.4444444444444444, \"#26828e\"], [0.5555555555555556, \"#1f9e89\"], [0.6666666666666666, \"#35b779\"], [0.7777777777777778, \"#6ece58\"], [0.8888888888888888, \"#b5de2b\"], [1.0, \"#fde725\"]], \"type\": \"surface\", \"x\": [-5.0, -4.5, -4.0, -3.5, -3.0, -2.5, -2.0, -1.5, -1.0, -0.5, 0.0, 0.5, 1.0, 1.5, 2.0, 2.5, 3.0, 3.5, 4.0, 4.5, 5.0], \"y\": [-5.0, -4.5, -4.0, -3.5, -3.0, -2.5, -2.0, -1.5, -1.0, -0.5, 0.0, 0.5, 1.0, 1.5, 2.0, 2.5, 3.0, 3.5, 4.0, 4.5, 5.0], \"z\": [[75.33202787546011, 73.66577453613282, 82.8327663823178, 122.21858455516674, 136.88404761420355, 67.12491607666016, 11.50008192062378, 10.841675907373428, 22.0537371635437, 20.465711491448538, 31.22170571927671, 49.127482891082764, 55.07804437117143, 63.610762131519806, 62.46411559892737, 35.748077034950256, 28.124570105969905, 30.30319021145503, 28.30048681050539, -0.5111770629882812, 31.273060265041533], [69.2999267578125, 71.07870082855224, 94.44968159993489, 101.04894971847534, 137.60225677490234, 110.01078727028586, 17.680323759714764, 8.02114725112915, 18.344419797261555, 26.5863196849823, 28.773803844008334, 34.238768918173655, 31.27167871263292, 54.03976900437299, 57.981266479492184, 44.43396198048311, 38.29238210035407, 27.34210989977184, 34.488179271871395, 26.90200503119107, 28.616739604784094], [85.62090301513672, 70.1272345043364, 108.06336466471355, 92.04675567626953, 131.56238174438477, 142.78908457074846, 37.365156173706055, 7.563302993774414, 12.392707135942247, 24.470263838768005, 26.38397683037652, 29.46360128266471, 42.3431822458903, 59.425825119018555, 50.79788212342696, 42.299200503031415, 36.14294425676118, 27.642034176517935, 33.449530919392906, 34.13954599698385, 7.084409475326538], [80.17115609305246, 73.27271747589111, 73.23611145019531, 87.4263875749376, 115.64483727349176, 144.0253151558541, 88.05184936523438, 11.22048595339753, 14.903464317321777, 20.428239822387695, 22.849421664646695, 31.708135017981895, 35.14676834106445, 53.425430692475416, 57.507377277721055, 51.779372453689575, 47.930179595947266, 35.16386640071869, 34.05100497760271, 26.956089591979982, 30.127711832523346], [78.2880744934082, 73.67492178212042, 77.42658969334194, 89.63487255212033, 95.83205947875976, 138.8791389465332, 114.94838047027588, 18.65492647344416, 8.003371909812644, 21.005340417226154, 20.116476369940717, 26.64749104636056, 33.31240487098694, 49.53971862792969, 53.49288099783438, 52.17852882777943, 49.02135340372721, 47.503052711486816, 5.278434753417969, 26.307866443287242, 0.26166200637817383], [74.45029858180455, 73.3193244934082, 81.20860862731934, 86.55659866333008, 106.65573556082589, 134.19034313333447, 145.7184966694225, 33.9487553914388, 7.938600771129131, 11.455937427023184, 21.262603600819904, 25.129373788833618, 31.641570150852203, 44.729834513230756, 60.04227924346924, 60.29077657063802, 60.88937835693359, 40.430376699992586, 30.527108038465183, 4.535427451133728, 36.30615037002347], [66.17482285272507, 77.53967612130302, 78.00498784383139, 80.57964361281623, 93.0872683317765, 114.40234107971192, 129.5547332763672, 81.09790910993304, 10.614673658858898, 7.895513296127319, 20.406913936138153, 24.537725756245276, 29.762623768226774, 35.53764191380254, 38.86324795809659, 60.89164573267887, 48.125493427492536, 67.79371476173401, 32.23519651412964, 25.754150196909904, 26.64209008216858], [79.2372599515048, 70.37153047834124, 76.14150197882401, 82.41742599010468, 89.48689339377664, 110.55178887503487, 141.22521432240805, 119.47723554953551, 16.480538281527433, 5.376633326212565, 15.292731285095215, 20.422591333803922, 27.72107760111491, 26.81294600168864, 48.199562072753906, 71.14173859816331, 49.052798664931096, 59.63281296624078, 34.87140654115116, 31.821983513547412, 25.67990390981237], [62.76073360443115, 63.642479823185845, 81.15639332362584, 67.14530563354492, 84.61699401855469, 116.40193245627664, 136.77738441120493, 147.2038787841797, 39.184949747721355, 7.308993746252621, 11.656067869879983, 19.51838524201337, 23.26737649300519, 30.562962168738956, 40.708578745524086, 49.84118571648231, 49.458618310781624, 63.7656870061701, 40.565649828740526, 31.470214932053178, 30.807829367487056], [79.3244457244873, 62.68839433458116, 80.81385451096754, 79.10206026349749, 94.5157241821289, 82.95029774418583, 119.93950751519972, 147.32640012105307, 86.72378492355347, 9.417552822514585, 8.691616477966308, 17.137766944037544, 21.50339107124173, 30.73267779811736, 33.698037870002516, 49.53502238880504, 55.04427685457117, 54.052680378868466, 60.75155679039333, 34.91533906351436, 27.020350870158936], [60.80622641245524, 76.06606101989746, 77.91230692182269, 73.85468578338623, 73.14050565447126, 99.89581330617268, 118.88520332618997, 99.88775889078777, 116.41068158830915, 16.0232141494751, 6.032636826688593, 14.772343277931213, 22.722182967446066, 29.074535293579103, 33.72585320472717, 46.289547644163434, 57.69215106964111, 55.86387325735653, 48.827921245409094, 40.92101152059509, 30.356656261795276], [63.61740074157715, 70.15500119837318, 76.60205793380737, 78.9653844833374, 76.8808923448835, 80.11318751743862, 84.20260467529297, 137.9058649163497, 138.86988939557756, 40.25603831255877, 7.2191760540008545, 10.286372469692695, 17.74336338043213, 24.516152629852296, 28.247622687241126, 43.83718967437744, 57.57224082946777, 62.07907802302663, 51.53029566797717, 53.186657969156904, 32.18238800764084], [59.35502977371216, 68.1460355122884, 67.72625192006429, 73.4054788861956, 80.49170737430967, 89.14947424994574, 90.0537055015564, 116.53725671768188, 147.4682689666748, 79.5979338021114, 9.025523196567189, 7.546122443291448, 19.716769218444824, 21.701874415079754, 30.272760915756226, 33.17003591060639, 43.43120486919697, 64.51534444635564, 49.987254558465416, 55.6770656020553, 27.985174912672775], [55.1086960960837, 68.7100814183553, 73.38278983621036, 81.17417744227818, 73.56014878409249, 84.22619141472711, 94.14151815934615, 110.1733410358429, 146.2376335144043, 128.98109879604607, 14.914310296376547, 6.528194270235427, 14.163062699635823, 21.163806533813478, 24.592056274414062, 31.0213979419909, 49.107610855102536, 52.01870568593343, 58.39886707729764, 59.89347720146179, 49.00110054016113], [52.68799567222595, 59.182021882798935, 69.99719066004599, 78.28224664804887, 68.4655595002351, 83.82572495937347, 84.48202238411739, 88.3635622660319, 131.76812962123327, 149.67449079241072, 37.80632232217228, 6.156470192803277, 11.959177342328159, 17.456072745784635, 23.747333486874897, 29.18138195037842, 33.23791772492078, 46.02251850474965, 60.605852187948024, 54.19725010312837, 48.87314203050401], [51.59060607637678, 59.476128578186035, 70.5007543892696, 67.23239883422852, 74.67955816359748, 84.43214232833297, 75.464663369315, 86.45667042451747, 116.29115295410156, 168.15254656473795, 91.96763229370117, 7.025304822360768, 7.003759741783142, 16.408460475780345, 20.7806660701067, 30.904718081156414, 32.7970038822719, 45.603708600997926, 58.39559402046623, 62.14871044158936, 53.861764430999756], [50.75743611653646, 60.55087871551514, 68.34979309082031, 78.60457469798901, 92.2699862028423, 77.35308376111482, 86.98651014055524, 94.44002855741061, 107.47708020891461, 152.18653361002603, 113.42039987315302, 15.688257751010713, 5.450419247150421, 13.465388334714449, 17.47514153335054, 22.77876345316569, 32.99405319626267, 39.173767065390564, 53.19131964606208, 58.92365577697754, 62.3341869354248], [49.382965428488596, 58.05132884070987, 56.745869636535645, 64.78989334106446, 76.44420742458767, 82.02171522995522, 76.56878153483073, 89.5752867530374, 98.66535530090331, 137.1364060835405, 151.46985953194755, 39.37473771378801, 4.930863454937935, 10.546037469591413, 22.621660028185165, 21.128063559532166, 29.55809721033624, 35.36368967692057, 45.071997902610086, 63.00963066719674, 58.62186035743127], [47.847292355128694, 57.26952414512634, 61.09656162261963, 73.07206026713054, 77.21781463623047, 76.52428418114071, 92.26353073120117, 85.84356740315755, 101.36472157069615, 117.32784921982709, 154.90632909138998, 98.40125603511416, 7.209883712586903, 6.576194063476894, 16.921653613448143, 19.33971290027394, 29.245210717364056, 26.390479505062103, 47.10451983062314, 54.6562764784869, 54.01212426890498], [40.40026117407757, 43.15572726726532, 64.91820425736277, 66.91708968026298, 84.95739756992884, 88.29584688753695, 67.05389611617379, 93.07800786635455, 87.44545066356659, 106.42769513811383, 147.99710982186454, 125.28311190397844, 16.742841919263203, 5.046321495159252, 12.888640198053098, 17.145787119865417, 26.861962694110293, 32.71294759568714, 43.98071503639221, 48.64141037350609, 51.695292154947914], [47.30810032468854, 44.9986956914266, 57.85690995418664, 70.54534710154815, 80.87978717258999, 83.29575538635254, 76.75055471280726, 82.73106145858765, 85.41413206212661, 100.01976642608642, 133.95890846252442, 144.5762168265678, 43.539892297042044, 4.888276020685832, 7.597243785858154, 15.601192084225742, 22.251930276552837, 28.16628105409684, 35.115843878852, 41.52954563498497, 56.39016460550243]]}],\n",
       "                        {\"template\": {\"data\": {\"bar\": [{\"error_x\": {\"color\": \"#2a3f5f\"}, \"error_y\": {\"color\": \"#2a3f5f\"}, \"marker\": {\"line\": {\"color\": \"#E5ECF6\", \"width\": 0.5}}, \"type\": \"bar\"}], \"barpolar\": [{\"marker\": {\"line\": {\"color\": \"#E5ECF6\", \"width\": 0.5}}, \"type\": \"barpolar\"}], \"carpet\": [{\"aaxis\": {\"endlinecolor\": \"#2a3f5f\", \"gridcolor\": \"white\", \"linecolor\": \"white\", \"minorgridcolor\": \"white\", \"startlinecolor\": \"#2a3f5f\"}, \"baxis\": {\"endlinecolor\": \"#2a3f5f\", \"gridcolor\": \"white\", \"linecolor\": \"white\", \"minorgridcolor\": \"white\", \"startlinecolor\": \"#2a3f5f\"}, \"type\": \"carpet\"}], \"choropleth\": [{\"colorbar\": {\"outlinewidth\": 0, \"ticks\": \"\"}, \"type\": \"choropleth\"}], \"contour\": [{\"colorbar\": {\"outlinewidth\": 0, \"ticks\": \"\"}, \"colorscale\": [[0.0, \"#0d0887\"], [0.1111111111111111, \"#46039f\"], [0.2222222222222222, \"#7201a8\"], [0.3333333333333333, \"#9c179e\"], [0.4444444444444444, \"#bd3786\"], [0.5555555555555556, \"#d8576b\"], [0.6666666666666666, \"#ed7953\"], [0.7777777777777778, \"#fb9f3a\"], [0.8888888888888888, \"#fdca26\"], [1.0, \"#f0f921\"]], \"type\": \"contour\"}], \"contourcarpet\": [{\"colorbar\": {\"outlinewidth\": 0, \"ticks\": \"\"}, \"type\": \"contourcarpet\"}], \"heatmap\": [{\"colorbar\": {\"outlinewidth\": 0, \"ticks\": \"\"}, \"colorscale\": [[0.0, \"#0d0887\"], [0.1111111111111111, \"#46039f\"], [0.2222222222222222, \"#7201a8\"], [0.3333333333333333, \"#9c179e\"], [0.4444444444444444, \"#bd3786\"], [0.5555555555555556, \"#d8576b\"], [0.6666666666666666, \"#ed7953\"], [0.7777777777777778, \"#fb9f3a\"], [0.8888888888888888, \"#fdca26\"], [1.0, \"#f0f921\"]], \"type\": \"heatmap\"}], \"heatmapgl\": [{\"colorbar\": {\"outlinewidth\": 0, \"ticks\": \"\"}, \"colorscale\": [[0.0, \"#0d0887\"], [0.1111111111111111, \"#46039f\"], [0.2222222222222222, \"#7201a8\"], [0.3333333333333333, \"#9c179e\"], [0.4444444444444444, \"#bd3786\"], [0.5555555555555556, \"#d8576b\"], [0.6666666666666666, \"#ed7953\"], [0.7777777777777778, \"#fb9f3a\"], [0.8888888888888888, \"#fdca26\"], [1.0, \"#f0f921\"]], \"type\": \"heatmapgl\"}], \"histogram\": [{\"marker\": {\"colorbar\": {\"outlinewidth\": 0, \"ticks\": \"\"}}, \"type\": \"histogram\"}], \"histogram2d\": [{\"colorbar\": {\"outlinewidth\": 0, \"ticks\": \"\"}, \"colorscale\": [[0.0, \"#0d0887\"], [0.1111111111111111, \"#46039f\"], [0.2222222222222222, \"#7201a8\"], [0.3333333333333333, \"#9c179e\"], [0.4444444444444444, \"#bd3786\"], [0.5555555555555556, \"#d8576b\"], [0.6666666666666666, \"#ed7953\"], [0.7777777777777778, \"#fb9f3a\"], [0.8888888888888888, \"#fdca26\"], [1.0, \"#f0f921\"]], \"type\": \"histogram2d\"}], \"histogram2dcontour\": [{\"colorbar\": {\"outlinewidth\": 0, \"ticks\": \"\"}, \"colorscale\": [[0.0, \"#0d0887\"], [0.1111111111111111, \"#46039f\"], [0.2222222222222222, \"#7201a8\"], [0.3333333333333333, \"#9c179e\"], [0.4444444444444444, \"#bd3786\"], [0.5555555555555556, \"#d8576b\"], [0.6666666666666666, \"#ed7953\"], [0.7777777777777778, \"#fb9f3a\"], [0.8888888888888888, \"#fdca26\"], [1.0, \"#f0f921\"]], \"type\": \"histogram2dcontour\"}], \"mesh3d\": [{\"colorbar\": {\"outlinewidth\": 0, \"ticks\": \"\"}, \"type\": \"mesh3d\"}], \"parcoords\": [{\"line\": {\"colorbar\": {\"outlinewidth\": 0, \"ticks\": \"\"}}, \"type\": \"parcoords\"}], \"scatter\": [{\"marker\": {\"colorbar\": {\"outlinewidth\": 0, \"ticks\": \"\"}}, \"type\": \"scatter\"}], \"scatter3d\": [{\"line\": {\"colorbar\": {\"outlinewidth\": 0, \"ticks\": \"\"}}, \"marker\": {\"colorbar\": {\"outlinewidth\": 0, \"ticks\": \"\"}}, \"type\": \"scatter3d\"}], \"scattercarpet\": [{\"marker\": {\"colorbar\": {\"outlinewidth\": 0, \"ticks\": \"\"}}, \"type\": \"scattercarpet\"}], \"scattergeo\": [{\"marker\": {\"colorbar\": {\"outlinewidth\": 0, \"ticks\": \"\"}}, \"type\": \"scattergeo\"}], \"scattergl\": [{\"marker\": {\"colorbar\": {\"outlinewidth\": 0, \"ticks\": \"\"}}, \"type\": \"scattergl\"}], \"scattermapbox\": [{\"marker\": {\"colorbar\": {\"outlinewidth\": 0, \"ticks\": \"\"}}, \"type\": \"scattermapbox\"}], \"scatterpolar\": [{\"marker\": {\"colorbar\": {\"outlinewidth\": 0, \"ticks\": \"\"}}, \"type\": \"scatterpolar\"}], \"scatterpolargl\": [{\"marker\": {\"colorbar\": {\"outlinewidth\": 0, \"ticks\": \"\"}}, \"type\": \"scatterpolargl\"}], \"scatterternary\": [{\"marker\": {\"colorbar\": {\"outlinewidth\": 0, \"ticks\": \"\"}}, \"type\": \"scatterternary\"}], \"surface\": [{\"colorbar\": {\"outlinewidth\": 0, \"ticks\": \"\"}, \"colorscale\": [[0.0, \"#0d0887\"], [0.1111111111111111, \"#46039f\"], [0.2222222222222222, \"#7201a8\"], [0.3333333333333333, \"#9c179e\"], [0.4444444444444444, \"#bd3786\"], [0.5555555555555556, \"#d8576b\"], [0.6666666666666666, \"#ed7953\"], [0.7777777777777778, \"#fb9f3a\"], [0.8888888888888888, \"#fdca26\"], [1.0, \"#f0f921\"]], \"type\": \"surface\"}], \"table\": [{\"cells\": {\"fill\": {\"color\": \"#EBF0F8\"}, \"line\": {\"color\": \"white\"}}, \"header\": {\"fill\": {\"color\": \"#C8D4E3\"}, \"line\": {\"color\": \"white\"}}, \"type\": \"table\"}]}, \"layout\": {\"annotationdefaults\": {\"arrowcolor\": \"#2a3f5f\", \"arrowhead\": 0, \"arrowwidth\": 1}, \"colorscale\": {\"diverging\": [[0, \"#8e0152\"], [0.1, \"#c51b7d\"], [0.2, \"#de77ae\"], [0.3, \"#f1b6da\"], [0.4, \"#fde0ef\"], [0.5, \"#f7f7f7\"], [0.6, \"#e6f5d0\"], [0.7, \"#b8e186\"], [0.8, \"#7fbc41\"], [0.9, \"#4d9221\"], [1, \"#276419\"]], \"sequential\": [[0.0, \"#0d0887\"], [0.1111111111111111, \"#46039f\"], [0.2222222222222222, \"#7201a8\"], [0.3333333333333333, \"#9c179e\"], [0.4444444444444444, \"#bd3786\"], [0.5555555555555556, \"#d8576b\"], [0.6666666666666666, \"#ed7953\"], [0.7777777777777778, \"#fb9f3a\"], [0.8888888888888888, \"#fdca26\"], [1.0, \"#f0f921\"]], \"sequentialminus\": [[0.0, \"#0d0887\"], [0.1111111111111111, \"#46039f\"], [0.2222222222222222, \"#7201a8\"], [0.3333333333333333, \"#9c179e\"], [0.4444444444444444, \"#bd3786\"], [0.5555555555555556, \"#d8576b\"], [0.6666666666666666, \"#ed7953\"], [0.7777777777777778, \"#fb9f3a\"], [0.8888888888888888, \"#fdca26\"], [1.0, \"#f0f921\"]]}, \"colorway\": [\"#636efa\", \"#EF553B\", \"#00cc96\", \"#ab63fa\", \"#FFA15A\", \"#19d3f3\", \"#FF6692\", \"#B6E880\", \"#FF97FF\", \"#FECB52\"], \"font\": {\"color\": \"#2a3f5f\"}, \"geo\": {\"bgcolor\": \"white\", \"lakecolor\": \"white\", \"landcolor\": \"#E5ECF6\", \"showlakes\": true, \"showland\": true, \"subunitcolor\": \"white\"}, \"hoverlabel\": {\"align\": \"left\"}, \"hovermode\": \"closest\", \"mapbox\": {\"style\": \"light\"}, \"paper_bgcolor\": \"white\", \"plot_bgcolor\": \"#E5ECF6\", \"polar\": {\"angularaxis\": {\"gridcolor\": \"white\", \"linecolor\": \"white\", \"ticks\": \"\"}, \"bgcolor\": \"#E5ECF6\", \"radialaxis\": {\"gridcolor\": \"white\", \"linecolor\": \"white\", \"ticks\": \"\"}}, \"scene\": {\"xaxis\": {\"backgroundcolor\": \"#E5ECF6\", \"gridcolor\": \"white\", \"gridwidth\": 2, \"linecolor\": \"white\", \"showbackground\": true, \"ticks\": \"\", \"zerolinecolor\": \"white\"}, \"yaxis\": {\"backgroundcolor\": \"#E5ECF6\", \"gridcolor\": \"white\", \"gridwidth\": 2, \"linecolor\": \"white\", \"showbackground\": true, \"ticks\": \"\", \"zerolinecolor\": \"white\"}, \"zaxis\": {\"backgroundcolor\": \"#E5ECF6\", \"gridcolor\": \"white\", \"gridwidth\": 2, \"linecolor\": \"white\", \"showbackground\": true, \"ticks\": \"\", \"zerolinecolor\": \"white\"}}, \"shapedefaults\": {\"line\": {\"color\": \"#2a3f5f\"}}, \"ternary\": {\"aaxis\": {\"gridcolor\": \"white\", \"linecolor\": \"white\", \"ticks\": \"\"}, \"baxis\": {\"gridcolor\": \"white\", \"linecolor\": \"white\", \"ticks\": \"\"}, \"bgcolor\": \"#E5ECF6\", \"caxis\": {\"gridcolor\": \"white\", \"linecolor\": \"white\", \"ticks\": \"\"}}, \"title\": {\"x\": 0.05}, \"xaxis\": {\"automargin\": true, \"gridcolor\": \"white\", \"linecolor\": \"white\", \"ticks\": \"\", \"zerolinecolor\": \"white\", \"zerolinewidth\": 2}, \"yaxis\": {\"automargin\": true, \"gridcolor\": \"white\", \"linecolor\": \"white\", \"ticks\": \"\", \"zerolinecolor\": \"white\", \"zerolinewidth\": 2}}}},\n",
       "                        {\"responsive\": true}\n",
       "                    ).then(function(){\n",
       "                            \n",
       "var gd = document.getElementById('d93b6ae0-ce7c-460b-b049-4304c33861dd');\n",
       "var x = new MutationObserver(function (mutations, observer) {{\n",
       "        var display = window.getComputedStyle(gd).display;\n",
       "        if (!display || display === 'none') {{\n",
       "            console.log([gd, 'removed!']);\n",
       "            Plotly.purge(gd);\n",
       "            observer.disconnect();\n",
       "        }}\n",
       "}});\n",
       "\n",
       "// Listen for the removal of the full notebook cells\n",
       "var notebookContainer = gd.closest('#notebook-container');\n",
       "if (notebookContainer) {{\n",
       "    x.observe(notebookContainer, {childList: true});\n",
       "}}\n",
       "\n",
       "// Listen for the clearing of the current output cell\n",
       "var outputEl = gd.closest('.output');\n",
       "if (outputEl) {{\n",
       "    x.observe(outputEl, {childList: true});\n",
       "}}\n",
       "\n",
       "                        })\n",
       "                };\n",
       "                });\n",
       "            </script>\n",
       "        </div>"
      ]
     },
     "metadata": {},
     "output_type": "display_data"
    }
   ],
   "source": [
    "import plotly.graph_objects as go\n",
    "\n",
    "fig = go.Figure(data=[go.Surface(z=vals, x=X, y=Y, colorscale=\"Viridis\")])\n",
    "\n",
    "# fig.update_layout(title='Function', autosize=False,\n",
    "#                   width=1000, height=800,\n",
    "#                   margin=dict(l=65, r=50, b=65, t=90))\n",
    "\n",
    "fig.show()"
   ]
  },
  {
   "cell_type": "code",
   "execution_count": 232,
   "metadata": {},
   "outputs": [],
   "source": [
    "\n",
    "exp_id = \"1590496353.8190389\" # sharp\n",
    "# exp_id = \"1590496353.106369\" # flat\n",
    "\n",
    "exp_id = \"1590274168.6045089\"\n",
    "\n",
    "model_a = exp_dict[\"models\"][exp_id][str(0)]\n",
    "net = copy.deepcopy(model_a)\n"
   ]
  },
  {
   "cell_type": "code",
   "execution_count": 410,
   "metadata": {},
   "outputs": [],
   "source": [
    "d_t = []\n",
    "for i, (data, target) in enumerate(train_loader):\n",
    "    d_t.append((data, target))\n",
    "    \n",
    "    break"
   ]
  },
  {
   "cell_type": "code",
   "execution_count": 36,
   "metadata": {},
   "outputs": [],
   "source": [
    "\n",
    "beta_bound = [-3,3]\n",
    "num_inter_models = 20\n",
    "\n",
    "inter_a = get_model_interpolate_arr(model_c, model_d, num_inter_models, beta_bound=beta_bound)"
   ]
  },
  {
   "cell_type": "code",
   "execution_count": 37,
   "metadata": {},
   "outputs": [],
   "source": [
    "model_dict = {str(i): inter_a[i] for i in range(len(inter_a))}"
   ]
  },
  {
   "cell_type": "code",
   "execution_count": 38,
   "metadata": {},
   "outputs": [
    {
     "name": "stdout",
     "output_type": "stream",
     "text": [
      "0\n",
      "1\n",
      "2\n",
      "3\n",
      "4\n",
      "5\n",
      "6\n",
      "7\n",
      "8\n",
      "9\n",
      "10\n",
      "11\n",
      "12\n",
      "13\n",
      "14\n",
      "15\n",
      "16\n",
      "17\n",
      "18\n",
      "19\n"
     ]
    }
   ],
   "source": [
    "traces = get_models_trace(model_dict, full_train_loader, criterion, full_dataset=False)\n",
    "loss_dict,acc_dict = get_models_loss_acc(model_dict, full_train_loader, test_loader)"
   ]
  },
  {
   "cell_type": "code",
   "execution_count": 365,
   "metadata": {},
   "outputs": [],
   "source": [
    "def get_gap(b):\n",
    "    a = list(b.values())[0]\n",
    "    return a[1] - a[0]"
   ]
  },
  {
   "cell_type": "code",
   "execution_count": 94,
   "metadata": {},
   "outputs": [
    {
     "name": "stdout",
     "output_type": "stream",
     "text": [
      "Trace flat: 2.773572015762329\n",
      "Acc flat: -0.055400000000000005\n",
      "Loss flat: 0.23567577661015093\n"
     ]
    }
   ],
   "source": [
    "print(\"Trace flat: {}\".format(np.mean(list(trace.values())[0])))\n",
    "\n",
    "print(\"Acc flat: {}\".format(get_gap(acc_dict)))\n",
    "print(\"Loss flat: {}\".format(get_gap(loss_dict)))"
   ]
  },
  {
   "cell_type": "code",
   "execution_count": 39,
   "metadata": {},
   "outputs": [
    {
     "name": "stdout",
     "output_type": "stream",
     "text": [
      "19\n"
     ]
    },
    {
     "data": {
      "text/plain": [
       "[<matplotlib.lines.Line2D at 0x1901968d0>]"
      ]
     },
     "execution_count": 39,
     "metadata": {},
     "output_type": "execute_result"
    },
    {
     "data": {
      "image/png": "[encoded data removed]",
      "text/plain": [
       "<Figure size 432x288 with 1 Axes>"
      ]
     },
     "metadata": {
      "needs_background": "light"
     },
     "output_type": "display_data"
    }
   ],
   "source": [
    "\n",
    "xs = np.linspace(beta_bound[0], beta_bound[1], num_inter_models)\n",
    "ys = [np.mean(traces[a]) for a in traces]\n",
    "print(np.argmin(ys))\n",
    "plt.plot(xs, ys)"
   ]
  },
  {
   "cell_type": "code",
   "execution_count": 40,
   "metadata": {},
   "outputs": [
    {
     "name": "stdout",
     "output_type": "stream",
     "text": [
      "19\n"
     ]
    },
    {
     "data": {
      "text/plain": [
       "[<matplotlib.lines.Line2D at 0x190672438>]"
      ]
     },
     "execution_count": 40,
     "metadata": {},
     "output_type": "execute_result"
    },
    {
     "data": {
      "image/png": "[encoded data removed]",
      "text/plain": [
       "<Figure size 432x288 with 1 Axes>"
      ]
     },
     "metadata": {
      "needs_background": "light"
     },
     "output_type": "display_data"
    }
   ],
   "source": [
    "\n",
    "xs = np.linspace(beta_bound[0], beta_bound[1], num_inter_models)\n",
    "ys = [loss_dict[a][0] for a in loss_dict]\n",
    "print(np.argmin(ys))\n",
    "plt.plot(xs, ys)"
   ]
  },
  {
   "cell_type": "code",
   "execution_count": 207,
   "metadata": {},
   "outputs": [
    {
     "name": "stdout",
     "output_type": "stream",
     "text": [
      "19\n"
     ]
    },
    {
     "data": {
      "text/plain": [
       "[<matplotlib.lines.Line2D at 0x173b6b358>]"
      ]
     },
     "execution_count": 207,
     "metadata": {},
     "output_type": "execute_result"
    },
    {
     "data": {
      "image/png": "[encoded data removed]",
      "text/plain": [
       "<Figure size 432x288 with 1 Axes>"
      ]
     },
     "metadata": {
      "needs_background": "light"
     },
     "output_type": "display_data"
    }
   ],
   "source": [
    "\n",
    "xs = np.linspace(beta_bound[0], beta_bound[1], 50)\n",
    "loss_arr = [loss_dict[a][0] for a in loss_dict]\n",
    "acc_arr = [acc_dict[a][0] for a in acc_dict]\n",
    "trace_arr = [np.mean(traces[a]) for a in traces]\n",
    "\n",
    "print(np.argmin(ys))\n",
    "plt.plot(xs, loss_arr)\n",
    "plt.plot(xs, acc_arr)\n",
    "# plt.plot(xs, trace_arr)"
   ]
  },
  {
   "cell_type": "code",
   "execution_count": 150,
   "metadata": {},
   "outputs": [
    {
     "name": "stdout",
     "output_type": "stream",
     "text": [
      "16\n"
     ]
    },
    {
     "data": {
      "text/plain": [
       "[<matplotlib.lines.Line2D at 0x15f100f98>]"
      ]
     },
     "execution_count": 150,
     "metadata": {},
     "output_type": "execute_result"
    },
    {
     "data": {
      "image/png": "[encoded data removed]",
      "text/plain": [
       "<Figure size 432x288 with 1 Axes>"
      ]
     },
     "metadata": {
      "needs_background": "light"
     },
     "output_type": "display_data"
    }
   ],
   "source": [
    "xs = np.linspace(beta_bound[0], beta_bound[1], num_inter_models)\n",
    "ys = [float(a[0]) for a in i_a[1]]\n",
    "print(np.argmin(ys))\n",
    "\n",
    "plt.plot(xs, ys)"
   ]
  },
  {
   "cell_type": "code",
   "execution_count": null,
   "metadata": {},
   "outputs": [],
   "source": [
    "def project_onto(net, v1, v2):\n",
    "    v1_norm = v1/torch.norm(v1)\n",
    "    v2_norm = v2/torch.norm(v2)\n",
    "    \n",
    "    net_vect = get_params_vec(net)\n",
    "    alpha = torch.matmul(v1_norm, net_vect)\n",
    "    beta = torch.matmul(v2_norm, net_vec)\n",
    "    \n",
    "    return alpha, beta"
   ]
  },
  {
   "cell_type": "code",
   "execution_count": 195,
   "metadata": {},
   "outputs": [
    {
     "data": {
      "text/plain": [
       "3.7462845257262665e+108"
      ]
     },
     "execution_count": 195,
     "metadata": {},
     "output_type": "execute_result"
    }
   ],
   "source": [
    "np.e**250 - np.e**240"
   ]
  },
  {
   "cell_type": "code",
   "execution_count": 196,
   "metadata": {},
   "outputs": [],
   "source": [
    "x=  np.random.normal(scale=1, size=(1000, 2))\n",
    "y = 1 * (x[:, 0] >= 0)\n",
    "ct = 0\n",
    "def flip(val, alpha):\n",
    "    should_flip = np.random.uniform(0, 1)<alpha\n",
    "    global ct\n",
    "    if should_flip:\n",
    "        ct += 1\n",
    "        if val == 0:\n",
    "            val = 1\n",
    "        elif val == 1:\n",
    "            val = 0\n",
    "    return val\n",
    "y = [flip(a, 0.05) for a in y]\n",
    "x += np.random.normal(scale=0.15, size=x.shape)"
   ]
  },
  {
   "cell_type": "code",
   "execution_count": 197,
   "metadata": {},
   "outputs": [],
   "source": [
    "c = 0\n",
    "for a, b in zip(x, y):\n",
    "    if (a[0] < 0) and (b == 1):\n",
    "        c+=1\n",
    "    elif (a[0] > 0) and (b == 0):\n",
    "        c+=1 "
   ]
  },
  {
   "cell_type": "code",
   "execution_count": 90,
   "metadata": {},
   "outputs": [],
   "source": [
    "def get_max(n, mu, cov):\n",
    "    Xs = np.random.multivariate_normal(mu, cov, n)\n",
    "    Xs_sq = [np.linalg.norm(x)**2 for x in Xs]\n",
    "    return np.linalg.norm(Xs[np.argmax(Xs_sq)])\n",
    "\n",
    "def get_mean(mu, cov, num_rv_samples, N):\n",
    "    Rs = []\n",
    "    for _ in range(num_rv_samples):\n",
    "        Rs.append(get_max(N, mu, cov))\n",
    "        \n",
    "    return np.mean(Rs)"
   ]
  },
  {
   "cell_type": "code",
   "execution_count": 92,
   "metadata": {},
   "outputs": [],
   "source": [
    "from scipy.stats import ortho_group  # Requires version 0.18 of scipy\n",
    "\n"
   ]
  },
  {
   "cell_type": "code",
   "execution_count": 93,
   "metadata": {},
   "outputs": [],
   "source": [
    "N = 20\n",
    "res = []\n",
    "dim = 5\n",
    "\n",
    "mu = np.zeros(dim)\n",
    "\n",
    "\n",
    "\n",
    "\n",
    "for _ in range(0, 1000, 1):\n",
    "    eigs = np.random.uniform(0, 100, dim)\n",
    "    d_eigs = np.diag(eigs)\n",
    "    P = ortho_group.rvs(dim=dim)\n",
    "\n",
    "    cov = P.T.dot(d_eigs.dot(P))\n",
    "    a =  np.sqrt(eigs.dot(eigs))\n",
    "    res.append((a, get_mean(mu, cov, 100, N)))\n",
    "res = np.array(res)"
   ]
  },
  {
   "cell_type": "code",
   "execution_count": 94,
   "metadata": {},
   "outputs": [
    {
     "data": {
      "text/plain": [
       "<matplotlib.collections.PathCollection at 0x1589c3b38>"
      ]
     },
     "execution_count": 94,
     "metadata": {},
     "output_type": "execute_result"
    },
    {
     "data": {
      "image/png": "[encoded data removed]",
      "text/plain": [
       "<Figure size 432x288 with 1 Axes>"
      ]
     },
     "metadata": {
      "needs_background": "light"
     },
     "output_type": "display_data"
    }
   ],
   "source": [
    "plt.scatter(res[:, 0], res[:, 1])"
   ]
  },
  {
   "cell_type": "code",
   "execution_count": 55,
   "metadata": {},
   "outputs": [],
   "source": [
    "N = 20\n",
    "res = []\n",
    "mu = np.array([0, 0])\n",
    "for a in range(1000):\n",
    "    res.append((a, 5*((a**2 + 1**2 + 500**2))**0.5))\n",
    "res = np.array(res)"
   ]
  },
  {
   "cell_type": "code",
   "execution_count": 239,
   "metadata": {},
   "outputs": [],
   "source": [
    "u, s, vh = np.linalg.svd(np.array([a.detach().numpy() for a in grad_arr]), full_matrices=False)"
   ]
  },
  {
   "cell_type": "code",
   "execution_count": 235,
   "metadata": {},
   "outputs": [
    {
     "name": "stdout",
     "output_type": "stream",
     "text": [
      "0\n",
      "tensor(0.0088, grad_fn=<NllLossBackward>)\n",
      "\n",
      "100\n",
      "tensor(0.0081, grad_fn=<NllLossBackward>)\n",
      "\n",
      "200\n",
      "tensor(0.0076, grad_fn=<NllLossBackward>)\n",
      "\n",
      "300\n",
      "tensor(0.0071, grad_fn=<NllLossBackward>)\n",
      "\n",
      "400\n",
      "tensor(0.0067, grad_fn=<NllLossBackward>)\n",
      "\n",
      "500\n",
      "tensor(0.0063, grad_fn=<NllLossBackward>)\n",
      "\n",
      "600\n",
      "tensor(0.0060, grad_fn=<NllLossBackward>)\n",
      "\n",
      "700\n",
      "tensor(0.0057, grad_fn=<NllLossBackward>)\n",
      "\n",
      "800\n",
      "tensor(0.0054, grad_fn=<NllLossBackward>)\n",
      "\n",
      "900\n",
      "tensor(0.0052, grad_fn=<NllLossBackward>)\n",
      "\n"
     ]
    }
   ],
   "source": [
    "# get data\n",
    "train_data, test_data = get_postprocessing_data(experiment_folder, vectorized=True)\n",
    "train_loader = DataLoader(train_data, batch_size=32, shuffle=True)  # fix the batch size\n",
    "full_train_loader = DataLoader(train_data, batch_size=len(train_data), shuffle=True)  # fix the batch size\n",
    "\n",
    "test_loader = DataLoader(test_data, batch_size=1 ) #len(test_data))\n",
    "\n",
    "criterion = torch.nn.CrossEntropyLoss()\n",
    "cfs_dict = exp_dict[\"stuff\"][\"configs\"].loc[exp_id].to_dict()\n",
    "optimizer = optim.SGD(net.parameters(), lr=cfs_dict[\"learning_rate\"],\n",
    "                                    momentum=cfs_dict[\"momentum\"])\n",
    "num_steps = 1000\n",
    "\n",
    "data = next(iter(full_train_loader))\n",
    "\n",
    "model_b, grad_arr, projs = take_n_gd_steps(net, optimizer, criterion, data, n=num_steps, get_grad=False,\n",
    "                                           v1=None, v2=None, offset=model_a)\n",
    "\n"
   ]
  }
 ],
 "metadata": {
  "kernelspec": {
   "display_name": "Python 3",
   "language": "python",
   "name": "python3"
  },
  "language_info": {
   "codemirror_mode": {
    "name": "ipython",
    "version": 3
   },
   "file_extension": ".py",
   "mimetype": "text/x-python",
   "name": "python",
   "nbconvert_exporter": "python",
   "pygments_lexer": "ipython3",
   "version": "3.7.3"
  }
 },
 "nbformat": 4,
 "nbformat_minor": 2
}
