{
 "cells": [
  {
   "cell_type": "code",
   "execution_count": 2,
   "metadata": {},
   "outputs": [],
   "source": [
    "import pandas as pd\n",
    "import pickle,os, copy\n",
    "import matplotlib.pyplot as plt\n",
    "import torch\n",
    "from torch.utils.data import DataLoader\n",
    "import sys\n",
    "\n",
    "\n",
    "import re\n",
    "\n",
    "from sklearn.cluster import DBSCAN\n",
    "\n",
    "\n",
    "from nn_generalizability.nets import Nets\n",
    "from nn_generalizability.utils import *\n",
    "from nn_generalizability.postprocessing.postprocessing import *\n",
    "from nn_generalizability.postprocessing.stats_plotting import *\n",
    "from nn_generalizability.postprocessing.GA import *\n",
    "from nn_generalizability.save_load import *\n",
    "\n",
    "from nn_generalizability.postprocessing.sharpness_measures import *\n",
    "from nn_generalizability.postprocessing.stats_plotting import *\n",
    "\n",
    "from nn_generalizability.data_getters import *\n",
    "\n",
    "%load_ext autoreload\n",
    "%autoreload 2\n",
    "\n",
    "plt.rcParams[\"figure.figsize\"] = (13,9)\n"
   ]
  },
  {
   "cell_type": "code",
   "execution_count": 3,
   "metadata": {},
   "outputs": [],
   "source": [
    "root_folder = os.environ[\"PATH_TO_GEN_FOLDER\"]\n",
    "data_name = \"CIFAR10\"\n",
    "exp = \"SimpleNet_high_steps\"\n",
    "experiment_folder = os.path.join(root_folder, \"experiments\", data_name, exp)"
   ]
  },
  {
   "cell_type": "code",
   "execution_count": 4,
   "metadata": {
    "scrolled": true
   },
   "outputs": [
    {
     "name": "stdout",
     "output_type": "stream",
     "text": [
      "Getting tsne.\n",
      "Error: tsne could not be found\n",
      "Getting runs.\n",
      "Getting trace.\n",
      "Getting acc.\n",
      "Getting dist.\n",
      "Error: dist could not be found\n",
      "Getting loss.\n",
      "Getting grad.\n",
      "Error: grad could not be found\n",
      "Getting eig.\n",
      "Error: eig could not be found\n"
     ]
    }
   ],
   "source": [
    "# get all sorts of data\n",
    "exp_dict = {}\n",
    "\n",
    "def get_stuff(experiment_folder):\n",
    "    stuff = {}\n",
    "\n",
    "    stuff_to_try = [\"tsne\", \"runs\", \"trace\", \"acc\", \"dist\", \"loss\", \"grad\", \"eig\"]\n",
    "\n",
    "    for singular_stuff in stuff_to_try:\n",
    "        print(\"Getting {}.\".format(singular_stuff))\n",
    "        data, meta = load_cached_data(experiment_folder, singular_stuff)\n",
    "        if data is None:\n",
    "            print(\"Error: {} could not be found\".format(singular_stuff))\n",
    "        else:\n",
    "            stuff[singular_stuff] = data\n",
    "    \n",
    "    stuff[\"configs\"] = load_configs(experiment_folder)\n",
    "    \n",
    "    return stuff\n",
    "\n",
    "exp_dict[\"stuff\"] = get_stuff(experiment_folder)\n",
    "exp_dict[\"models\"] = get_all_models(experiment_folder, -1)\n",
    "exp_dict[\"resampling_idxs\"] = get_sample_idxs(experiment_folder)"
   ]
  },
  {
   "cell_type": "code",
   "execution_count": 5,
   "metadata": {},
   "outputs": [
    {
     "name": "stdout",
     "output_type": "stream",
     "text": [
      "Error: No stats for 1594678537.6570415\n",
      "YO\n",
      "Error: No stats for 1594673313.8724134\n",
      "YO\n",
      "Error: No stats for 1594672291.0710459\n",
      "YO\n"
     ]
    }
   ],
   "source": [
    "stats_df = get_end_stats(exp_dict)\n"
   ]
  },
  {
   "cell_type": "code",
   "execution_count": 6,
   "metadata": {},
   "outputs": [
    {
     "data": {
      "text/html": [
       "<div>\n",
       "<style scoped>\n",
       "    .dataframe tbody tr th:only-of-type {\n",
       "        vertical-align: middle;\n",
       "    }\n",
       "\n",
       "    .dataframe tbody tr th {\n",
       "        vertical-align: top;\n",
       "    }\n",
       "\n",
       "    .dataframe thead th {\n",
       "        text-align: right;\n",
       "    }\n",
       "</style>\n",
       "<table border=\"1\" class=\"dataframe\">\n",
       "  <thead>\n",
       "    <tr style=\"text-align: right;\">\n",
       "      <th></th>\n",
       "      <th>Acc Test Max</th>\n",
       "      <th>Acc Test Mean</th>\n",
       "      <th>Acc Test Min</th>\n",
       "      <th>Acc Train Max</th>\n",
       "      <th>Acc Train Mean</th>\n",
       "      <th>Acc Train Min</th>\n",
       "      <th>Gap Mean</th>\n",
       "      <th>Loss Test Max</th>\n",
       "      <th>Loss Test Mean</th>\n",
       "      <th>Loss Test Min</th>\n",
       "      <th>...</th>\n",
       "      <th>Loss Train Mean</th>\n",
       "      <th>Loss Train Min</th>\n",
       "      <th>Norm Max</th>\n",
       "      <th>Norm Mean</th>\n",
       "      <th>Norm Min</th>\n",
       "      <th>Trace Max</th>\n",
       "      <th>Trace Mean</th>\n",
       "      <th>Trace Mean Std</th>\n",
       "      <th>Trace Min</th>\n",
       "      <th>batch_train_size</th>\n",
       "    </tr>\n",
       "  </thead>\n",
       "  <tbody>\n",
       "    <tr>\n",
       "      <th>1594673313.8724134</th>\n",
       "      <td>0.5218</td>\n",
       "      <td>0.52050</td>\n",
       "      <td>0.5192</td>\n",
       "      <td>1.00000</td>\n",
       "      <td>1.00000</td>\n",
       "      <td>1.00</td>\n",
       "      <td>-0.47950</td>\n",
       "      <td>6.284950</td>\n",
       "      <td>6.268951</td>\n",
       "      <td>6.252953</td>\n",
       "      <td>...</td>\n",
       "      <td>0.000034</td>\n",
       "      <td>0.000034</td>\n",
       "      <td>35.086926</td>\n",
       "      <td>35.047825</td>\n",
       "      <td>35.008724</td>\n",
       "      <td>5.102764</td>\n",
       "      <td>5.073478</td>\n",
       "      <td>0.422046</td>\n",
       "      <td>5.044191</td>\n",
       "      <td>256</td>\n",
       "    </tr>\n",
       "    <tr>\n",
       "      <th>1594678537.6570415</th>\n",
       "      <td>0.5125</td>\n",
       "      <td>0.51240</td>\n",
       "      <td>0.5123</td>\n",
       "      <td>1.00000</td>\n",
       "      <td>1.00000</td>\n",
       "      <td>1.00</td>\n",
       "      <td>-0.48760</td>\n",
       "      <td>6.762398</td>\n",
       "      <td>6.747038</td>\n",
       "      <td>6.731678</td>\n",
       "      <td>...</td>\n",
       "      <td>0.000044</td>\n",
       "      <td>0.000043</td>\n",
       "      <td>30.368324</td>\n",
       "      <td>30.281442</td>\n",
       "      <td>30.194559</td>\n",
       "      <td>16.183148</td>\n",
       "      <td>15.898602</td>\n",
       "      <td>0.903751</td>\n",
       "      <td>15.614057</td>\n",
       "      <td>4096</td>\n",
       "    </tr>\n",
       "    <tr>\n",
       "      <th>1594672291.0710459</th>\n",
       "      <td>0.5051</td>\n",
       "      <td>0.49945</td>\n",
       "      <td>0.4938</td>\n",
       "      <td>0.95368</td>\n",
       "      <td>0.95184</td>\n",
       "      <td>0.95</td>\n",
       "      <td>-0.45239</td>\n",
       "      <td>3.561881</td>\n",
       "      <td>3.524724</td>\n",
       "      <td>3.487566</td>\n",
       "      <td>...</td>\n",
       "      <td>0.147665</td>\n",
       "      <td>0.141272</td>\n",
       "      <td>87.128716</td>\n",
       "      <td>86.997990</td>\n",
       "      <td>86.867264</td>\n",
       "      <td>339.959930</td>\n",
       "      <td>331.146362</td>\n",
       "      <td>7.278381</td>\n",
       "      <td>322.332794</td>\n",
       "      <td>32</td>\n",
       "    </tr>\n",
       "  </tbody>\n",
       "</table>\n",
       "<p>3 rows × 21 columns</p>\n",
       "</div>"
      ],
      "text/plain": [
       "                    Acc Test Max  Acc Test Mean  Acc Test Min  Acc Train Max  \\\n",
       "1594673313.8724134        0.5218        0.52050        0.5192        1.00000   \n",
       "1594678537.6570415        0.5125        0.51240        0.5123        1.00000   \n",
       "1594672291.0710459        0.5051        0.49945        0.4938        0.95368   \n",
       "\n",
       "                    Acc Train Mean  Acc Train Min  Gap Mean  Loss Test Max  \\\n",
       "1594673313.8724134         1.00000           1.00  -0.47950       6.284950   \n",
       "1594678537.6570415         1.00000           1.00  -0.48760       6.762398   \n",
       "1594672291.0710459         0.95184           0.95  -0.45239       3.561881   \n",
       "\n",
       "                    Loss Test Mean  Loss Test Min  ...  Loss Train Mean  \\\n",
       "1594673313.8724134        6.268951       6.252953  ...         0.000034   \n",
       "1594678537.6570415        6.747038       6.731678  ...         0.000044   \n",
       "1594672291.0710459        3.524724       3.487566  ...         0.147665   \n",
       "\n",
       "                    Loss Train Min   Norm Max  Norm Mean   Norm Min  \\\n",
       "1594673313.8724134        0.000034  35.086926  35.047825  35.008724   \n",
       "1594678537.6570415        0.000043  30.368324  30.281442  30.194559   \n",
       "1594672291.0710459        0.141272  87.128716  86.997990  86.867264   \n",
       "\n",
       "                     Trace Max  Trace Mean  Trace Mean Std   Trace Min  \\\n",
       "1594673313.8724134    5.102764    5.073478        0.422046    5.044191   \n",
       "1594678537.6570415   16.183148   15.898602        0.903751   15.614057   \n",
       "1594672291.0710459  339.959930  331.146362        7.278381  322.332794   \n",
       "\n",
       "                    batch_train_size  \n",
       "1594673313.8724134               256  \n",
       "1594678537.6570415              4096  \n",
       "1594672291.0710459                32  \n",
       "\n",
       "[3 rows x 21 columns]"
      ]
     },
     "execution_count": 6,
     "metadata": {},
     "output_type": "execute_result"
    }
   ],
   "source": [
    "# stats_df = stats_df[stats_df[\"Acc Test Mean\"] > 0.15]\n",
    "stats_df.sort_values(by=\"Acc Test Max\", ascending=False)"
   ]
  },
  {
   "cell_type": "markdown",
   "metadata": {},
   "source": [
    "# Get data"
   ]
  },
  {
   "cell_type": "code",
   "execution_count": 120,
   "metadata": {},
   "outputs": [
    {
     "name": "stdout",
     "output_type": "stream",
     "text": [
      "Files already downloaded and verified\n",
      "Files already downloaded and verified\n"
     ]
    }
   ],
   "source": [
    "# get data\n",
    "train_data, test_data = get_postprocessing_data(experiment_folder, vectorized=True)\n",
    "train_loader = DataLoader(train_data, batch_size=5000, shuffle=True)  # fix the batch size\n",
    "full_train_loader = DataLoader(train_data, batch_size=len(train_data), shuffle=True)  # fix the batch size\n",
    "\n",
    "test_loader = DataLoader(test_data, batch_size=1)\n",
    "\n",
    "criterion = torch.nn.CrossEntropyLoss()\n",
    "\n",
    "data = next(iter(train_loader))"
   ]
  },
  {
   "cell_type": "code",
   "execution_count": 6,
   "metadata": {},
   "outputs": [
    {
     "ename": "NameError",
     "evalue": "name 'net' is not defined",
     "output_type": "error",
     "traceback": [
      "\u001b[0;31m---------------------------------------------------------------------------\u001b[0m",
      "\u001b[0;31mNameError\u001b[0m                                 Traceback (most recent call last)",
      "\u001b[0;32m<ipython-input-6-228ff8586e61>\u001b[0m in \u001b[0;36m<module>\u001b[0;34m\u001b[0m\n\u001b[1;32m      1\u001b[0m \u001b[0mcfs_dict\u001b[0m \u001b[0;34m=\u001b[0m \u001b[0mexp_dict\u001b[0m\u001b[0;34m[\u001b[0m\u001b[0;34m\"stuff\"\u001b[0m\u001b[0;34m]\u001b[0m\u001b[0;34m[\u001b[0m\u001b[0;34m\"configs\"\u001b[0m\u001b[0;34m]\u001b[0m\u001b[0;34m.\u001b[0m\u001b[0mloc\u001b[0m\u001b[0;34m[\u001b[0m\u001b[0;34m\"1593841465.3004317\"\u001b[0m\u001b[0;34m]\u001b[0m\u001b[0;34m.\u001b[0m\u001b[0mto_dict\u001b[0m\u001b[0;34m(\u001b[0m\u001b[0;34m)\u001b[0m\u001b[0;34m\u001b[0m\u001b[0;34m\u001b[0m\u001b[0m\n\u001b[0;32m----> 2\u001b[0;31m optimizer = optim.SGD(net.parameters(), lr=cfs_dict[\"learning_rate\"],\n\u001b[0m\u001b[1;32m      3\u001b[0m                                     momentum=cfs_dict[\"momentum\"])\n",
      "\u001b[0;31mNameError\u001b[0m: name 'net' is not defined"
     ]
    }
   ],
   "source": [
    "cfs_dict = exp_dict[\"stuff\"][\"configs\"].loc[\"1593841465.3004317\"].to_dict()\n",
    "optimizer = optim.SGD(net.parameters(), lr=cfs_dict[\"learning_rate\"],\n",
    "                                    momentum=cfs_dict[\"momentum\"])"
   ]
  },
  {
   "cell_type": "code",
   "execution_count": 252,
   "metadata": {},
   "outputs": [],
   "source": [
    "criterion = torch.nn.CrossEntropyLoss()\n",
    "data_loader = train_loader\n",
    "loss_sum = 0\n",
    "device = None\n",
    "net = model_a\n",
    "i = 1\n",
    "vecs = {}\n",
    "for idx, (inputs, labels) in enumerate(data_loader):\n",
    "    inp = inputs\n",
    "    if device is not None:\n",
    "        inputs, labels = inputs.to(device).type(torch.cuda.FloatTensor), labels.to(device).type(\n",
    "            torch.cuda.LongTensor)\n",
    "    else:\n",
    "        inputs = inputs.float()\n",
    "\n",
    "    \n",
    "    # Compute gradients for input.\n",
    "    inputs.requires_grad = True\n",
    "\n",
    "    # zero the parameter gradients\n",
    "    optimizer.zero_grad()\n",
    "\n",
    "    # forward + backward + optimize\n",
    "    outputs = net(inputs)\n",
    "    loss = criterion(outputs, labels)\n",
    "    loss.backward(retain_graph=True)\n",
    "\n",
    "    if torch.max(outputs,1)[1] != labels[0]:\n",
    "        if labels[0].item() not in vecs:\n",
    "            vecs[labels[0].item()] = []\n",
    "        vecs[labels[0].item()].append(copy.deepcopy(get_grad_params_vec(net)))\n",
    "    \n",
    "#     if idx > 1000:\n",
    "#         break\n",
    "for i in vecs:\n",
    "    vecs[i] = torch.stack(vecs[i])\n"
   ]
  },
  {
   "cell_type": "code",
   "execution_count": 278,
   "metadata": {},
   "outputs": [],
   "source": [
    "flat_vecs_np = []\n",
    "for i in vecs:\n",
    "    for j in vecs[i]:\n",
    "        flat_vecs_np.append(np.array(j.detach().numpy()))\n",
    "\n",
    "flat_vecs_np = np.array(flat_vecs_np)        \n",
    "\n",
    "X_embedded = TSNE(n_components=2, perplexity=1).fit_transform(flat_vecs_np)"
   ]
  },
  {
   "cell_type": "code",
   "execution_count": 285,
   "metadata": {},
   "outputs": [
    {
     "name": "stdout",
     "output_type": "stream",
     "text": [
      "[ 0  1  2  3  4  0  0  5  6  7  7  0 -1 -1  6  7  8  1  9 10  2 11  1  1\n",
      " 12 12 12 13 10  7  4  1 -1 -1 10  7  1 12 -1 13 -1  9 13 10  3  4  5 -1\n",
      " -1 11  7 11 11  8]\n"
     ]
    }
   ],
   "source": [
    "db = DBSCAN(eps=200, min_samples=2).fit(flat_vecs_np)\n",
    "print(db.labels_)"
   ]
  },
  {
   "cell_type": "code",
   "execution_count": 283,
   "metadata": {},
   "outputs": [
    {
     "data": {
      "text/plain": [
       "array([-1, -1, -1, -1, -1, -1, -1, -1, -1, -1, -1, -1, -1, -1, -1, -1, -1,\n",
       "       -1, -1, -1, -1, -1, -1, -1, -1, -1, -1, -1, -1, -1, -1, -1, -1, -1,\n",
       "       -1, -1, -1, -1, -1, -1, -1, -1, -1, -1, -1, -1, -1, -1, -1, -1, -1,\n",
       "       -1, -1, -1])"
      ]
     },
     "execution_count": 283,
     "metadata": {},
     "output_type": "execute_result"
    }
   ],
   "source": []
  },
  {
   "cell_type": "code",
   "execution_count": 279,
   "metadata": {},
   "outputs": [
    {
     "data": {
      "text/plain": [
       "<matplotlib.collections.PathCollection at 0x180de9240>"
      ]
     },
     "execution_count": 279,
     "metadata": {},
     "output_type": "execute_result"
    },
    {
     "data": {
      "image/png": "[encoded data removed]",
      "text/plain": [
       "<Figure size 432x288 with 1 Axes>"
      ]
     },
     "metadata": {
      "needs_background": "light"
     },
     "output_type": "display_data"
    }
   ],
   "source": [
    "plt.scatter(X_embedded.T[0], X_embedded.T[1])"
   ]
  },
  {
   "cell_type": "code",
   "execution_count": 267,
   "metadata": {},
   "outputs": [
    {
     "name": "stdout",
     "output_type": "stream",
     "text": [
      "Compare 5 to 5\n",
      "tensor(848.9959)\n",
      "Compare 5 to 3\n",
      "tensor(756.9948)\n",
      "Compare 5 to 0\n",
      "tensor(867.3851)\n",
      "Compare 5 to 1\n",
      "tensor(925.5228)\n",
      "Compare 5 to 6\n",
      "tensor(744.2813)\n",
      "Compare 5 to 4\n",
      "tensor(723.2651)\n",
      "Compare 5 to 2\n",
      "tensor(761.4974)\n",
      "Compare 5 to 9\n",
      "tensor(1086.9741)\n",
      "Compare 5 to 7\n",
      "tensor(1119.8187)\n",
      "Compare 5 to 8\n",
      "tensor(1405.6899)\n",
      "\n",
      "Compare 5 to 5\n",
      "tensor(705.5246)\n",
      "Compare 5 to 3\n",
      "tensor(634.7265)\n",
      "Compare 5 to 0\n",
      "tensor(716.3167)\n",
      "Compare 5 to 1\n",
      "tensor(758.4686)\n",
      "Compare 5 to 6\n",
      "tensor(527.7464)\n",
      "Compare 5 to 4\n",
      "tensor(509.2116)\n",
      "Compare 5 to 2\n",
      "tensor(549.1084)\n",
      "Compare 5 to 9\n",
      "tensor(920.9528)\n",
      "Compare 5 to 7\n",
      "tensor(963.1396)\n",
      "Compare 5 to 8\n",
      "tensor(1277.8446)\n",
      "\n",
      "Compare 5 to 5\n",
      "tensor(517.8299)\n",
      "Compare 5 to 3\n",
      "tensor(577.6951)\n",
      "Compare 5 to 0\n",
      "tensor(550.2623)\n",
      "Compare 5 to 1\n",
      "tensor(457.0186)\n",
      "Compare 5 to 6\n",
      "tensor(656.5865)\n",
      "Compare 5 to 4\n",
      "tensor(649.9917)\n",
      "Compare 5 to 2\n",
      "tensor(685.2084)\n",
      "Compare 5 to 9\n",
      "tensor(435.0884)\n",
      "Compare 5 to 7\n",
      "tensor(489.1157)\n",
      "Compare 5 to 8\n",
      "tensor(624.7555)\n",
      "\n",
      "Compare 5 to 5\n",
      "tensor(562.1635)\n",
      "Compare 5 to 3\n",
      "tensor(704.6182)\n",
      "Compare 5 to 0\n",
      "tensor(620.4987)\n",
      "Compare 5 to 1\n",
      "tensor(581.9355)\n",
      "Compare 5 to 6\n",
      "tensor(770.4443)\n",
      "Compare 5 to 4\n",
      "tensor(801.9242)\n",
      "Compare 5 to 2\n",
      "tensor(776.9634)\n",
      "Compare 5 to 9\n",
      "tensor(460.1497)\n",
      "Compare 5 to 7\n",
      "tensor(452.1855)\n",
      "Compare 5 to 8\n",
      "tensor(443.4116)\n",
      "\n",
      "Compare 5 to 5\n",
      "tensor(693.1694)\n",
      "Compare 5 to 3\n",
      "tensor(866.9534)\n",
      "Compare 5 to 0\n",
      "tensor(747.4717)\n",
      "Compare 5 to 1\n",
      "tensor(702.6301)\n",
      "Compare 5 to 6\n",
      "tensor(892.9993)\n",
      "Compare 5 to 4\n",
      "tensor(944.7193)\n",
      "Compare 5 to 2\n",
      "tensor(892.4278)\n",
      "Compare 5 to 9\n",
      "tensor(589.0262)\n",
      "Compare 5 to 7\n",
      "tensor(545.3672)\n",
      "Compare 5 to 8\n",
      "tensor(323.1337)\n",
      "\n",
      "Compare 3 to 5\n",
      "tensor(842.2001)\n",
      "Compare 3 to 3\n",
      "tensor(750.1988)\n",
      "Compare 3 to 0\n",
      "tensor(860.7020)\n",
      "Compare 3 to 1\n",
      "tensor(917.8885)\n",
      "Compare 3 to 6\n",
      "tensor(738.3936)\n",
      "Compare 3 to 4\n",
      "tensor(716.0044)\n",
      "Compare 3 to 2\n",
      "tensor(754.8648)\n",
      "Compare 3 to 9\n",
      "tensor(1081.5208)\n",
      "Compare 3 to 7\n",
      "tensor(1113.0681)\n",
      "Compare 3 to 8\n",
      "tensor(1398.7485)\n",
      "\n",
      "Compare 3 to 5\n",
      "tensor(789.5066)\n",
      "Compare 3 to 3\n",
      "tensor(695.5663)\n",
      "Compare 3 to 0\n",
      "tensor(804.2231)\n",
      "Compare 3 to 1\n",
      "tensor(856.8099)\n",
      "Compare 3 to 6\n",
      "tensor(669.0594)\n",
      "Compare 3 to 4\n",
      "tensor(646.7025)\n",
      "Compare 3 to 2\n",
      "tensor(685.6499)\n",
      "Compare 3 to 9\n",
      "tensor(1025.1025)\n",
      "Compare 3 to 7\n",
      "tensor(1059.8464)\n",
      "Compare 3 to 8\n",
      "tensor(1355.2137)\n",
      "\n",
      "Compare 3 to 5\n",
      "tensor(554.1880)\n",
      "Compare 3 to 3\n",
      "tensor(411.9912)\n",
      "Compare 3 to 0\n",
      "tensor(421.6391)\n",
      "Compare 3 to 1\n",
      "tensor(485.2863)\n",
      "Compare 3 to 6\n",
      "tensor(428.7014)\n",
      "Compare 3 to 4\n",
      "tensor(445.0602)\n",
      "Compare 3 to 2\n",
      "tensor(367.9441)\n",
      "Compare 3 to 9\n",
      "tensor(530.0265)\n",
      "Compare 3 to 7\n",
      "tensor(550.7004)\n",
      "Compare 3 to 8\n",
      "tensor(972.9990)\n",
      "\n",
      "Compare 3 to 5\n",
      "tensor(581.1526)\n",
      "Compare 3 to 3\n",
      "tensor(498.3121)\n",
      "Compare 3 to 0\n",
      "tensor(463.8169)\n",
      "Compare 3 to 1\n",
      "tensor(493.6360)\n",
      "Compare 3 to 6\n",
      "tensor(549.6465)\n",
      "Compare 3 to 4\n",
      "tensor(590.3874)\n",
      "Compare 3 to 2\n",
      "tensor(534.2076)\n",
      "Compare 3 to 9\n",
      "tensor(424.2786)\n",
      "Compare 3 to 7\n",
      "tensor(482.9861)\n",
      "Compare 3 to 8\n",
      "tensor(838.9443)\n",
      "\n",
      "Compare 3 to 5\n",
      "tensor(548.9496)\n",
      "Compare 3 to 3\n",
      "tensor(619.8846)\n",
      "Compare 3 to 0\n",
      "tensor(585.2375)\n",
      "Compare 3 to 1\n",
      "tensor(526.2603)\n",
      "Compare 3 to 6\n",
      "tensor(712.9500)\n",
      "Compare 3 to 4\n",
      "tensor(722.7783)\n",
      "Compare 3 to 2\n",
      "tensor(738.5463)\n",
      "Compare 3 to 9\n",
      "tensor(455.9591)\n",
      "Compare 3 to 7\n",
      "tensor(488.2834)\n",
      "Compare 3 to 8\n",
      "tensor(550.3093)\n",
      "\n",
      "Compare 3 to 5\n",
      "tensor(562.7805)\n",
      "Compare 3 to 3\n",
      "tensor(645.9588)\n",
      "Compare 3 to 0\n",
      "tensor(600.2301)\n",
      "Compare 3 to 1\n",
      "tensor(547.6176)\n",
      "Compare 3 to 6\n",
      "tensor(734.2630)\n",
      "Compare 3 to 4\n",
      "tensor(748.9698)\n",
      "Compare 3 to 2\n",
      "tensor(754.0948)\n",
      "Compare 3 to 9\n",
      "tensor(465.1894)\n",
      "Compare 3 to 7\n",
      "tensor(490.3149)\n",
      "Compare 3 to 8\n",
      "tensor(535.1222)\n",
      "\n",
      "Compare 0 to 5\n",
      "tensor(813.7647)\n",
      "Compare 0 to 3\n",
      "tensor(720.7473)\n",
      "Compare 0 to 0\n",
      "tensor(828.3856)\n",
      "Compare 0 to 1\n",
      "tensor(886.0765)\n",
      "Compare 0 to 6\n",
      "tensor(702.9409)\n",
      "Compare 0 to 4\n",
      "tensor(680.9449)\n",
      "Compare 0 to 2\n",
      "tensor(720.0196)\n",
      "Compare 0 to 9\n",
      "tensor(1051.8041)\n",
      "Compare 0 to 7\n",
      "tensor(1085.3401)\n",
      "Compare 0 to 8\n",
      "tensor(1376.1625)\n",
      "\n",
      "Compare 0 to 5\n",
      "tensor(612.2311)\n",
      "Compare 0 to 3\n",
      "tensor(515.2947)\n",
      "Compare 0 to 0\n",
      "tensor(523.3657)\n",
      "Compare 0 to 1\n",
      "tensor(584.8410)\n",
      "Compare 0 to 6\n",
      "tensor(422.8883)\n",
      "Compare 0 to 4\n",
      "tensor(410.7657)\n",
      "Compare 0 to 2\n",
      "tensor(402.1532)\n",
      "Compare 0 to 9\n",
      "tensor(701.3070)\n",
      "Compare 0 to 7\n",
      "tensor(753.0432)\n",
      "Compare 0 to 8\n",
      "tensor(1099.3049)\n",
      "\n",
      "Compare 0 to 5\n",
      "tensor(541.2886)\n",
      "Compare 0 to 3\n",
      "tensor(415.2033)\n",
      "Compare 0 to 0\n",
      "tensor(393.5665)\n",
      "Compare 0 to 1\n",
      "tensor(468.4543)\n",
      "Compare 0 to 6\n",
      "tensor(434.0849)\n",
      "Compare 0 to 4\n",
      "tensor(463.7928)\n",
      "Compare 0 to 2\n",
      "tensor(383.8852)\n",
      "Compare 0 to 9\n",
      "tensor(481.6953)\n",
      "Compare 0 to 7\n",
      "tensor(495.1084)\n",
      "Compare 0 to 8\n",
      "tensor(935.5325)\n",
      "\n",
      "Compare 0 to 5\n",
      "tensor(574.6451)\n",
      "Compare 0 to 3\n",
      "tensor(499.3185)\n",
      "Compare 0 to 0\n",
      "tensor(458.9419)\n",
      "Compare 0 to 1\n",
      "tensor(487.4097)\n",
      "Compare 0 to 6\n",
      "tensor(550.7440)\n",
      "Compare 0 to 4\n",
      "tensor(588.4851)\n",
      "Compare 0 to 2\n",
      "tensor(540.3605)\n",
      "Compare 0 to 9\n",
      "tensor(419.2488)\n",
      "Compare 0 to 7\n",
      "tensor(483.2193)\n",
      "Compare 0 to 8\n",
      "tensor(830.5764)\n",
      "\n",
      "Compare 0 to 5\n",
      "tensor(568.9375)\n",
      "Compare 0 to 3\n",
      "tensor(664.8641)\n",
      "Compare 0 to 0\n",
      "tensor(607.8938)\n",
      "Compare 0 to 1\n",
      "tensor(562.7850)\n",
      "Compare 0 to 6\n",
      "tensor(748.4304)\n",
      "Compare 0 to 4\n",
      "tensor(766.4793)\n",
      "Compare 0 to 2\n",
      "tensor(765.6396)\n",
      "Compare 0 to 9\n",
      "tensor(473.1116)\n",
      "Compare 0 to 7\n",
      "tensor(492.7280)\n",
      "Compare 0 to 8\n",
      "tensor(525.7549)\n",
      "\n",
      "Compare 0 to 5\n",
      "tensor(832.3298)\n",
      "Compare 0 to 3\n",
      "tensor(985.3101)\n",
      "Compare 0 to 0\n",
      "tensor(840.7758)\n",
      "Compare 0 to 1\n",
      "tensor(834.3784)\n",
      "Compare 0 to 6\n",
      "tensor(1012.9949)\n",
      "Compare 0 to 4\n",
      "tensor(1056.8318)\n",
      "Compare 0 to 2\n",
      "tensor(1012.9368)\n",
      "Compare 0 to 9\n",
      "tensor(774.1706)\n",
      "Compare 0 to 7\n",
      "tensor(690.2258)\n",
      "Compare 0 to 8\n",
      "tensor(331.1390)\n",
      "\n",
      "Compare 1 to 5\n",
      "tensor(747.0560)\n",
      "Compare 1 to 3\n",
      "tensor(657.1129)\n",
      "Compare 1 to 0\n",
      "tensor(759.4291)\n",
      "Compare 1 to 1\n",
      "tensor(795.3437)\n",
      "Compare 1 to 6\n",
      "tensor(599.9297)\n",
      "Compare 1 to 4\n",
      "tensor(575.8632)\n",
      "Compare 1 to 2\n",
      "tensor(616.0853)\n",
      "Compare 1 to 9\n",
      "tensor(971.4283)\n",
      "Compare 1 to 7\n",
      "tensor(1009.5994)\n",
      "Compare 1 to 8\n",
      "tensor(1316.5459)\n",
      "\n",
      "Compare 1 to 5\n",
      "tensor(596.1803)\n",
      "Compare 1 to 3\n",
      "tensor(490.6936)\n",
      "Compare 1 to 0\n",
      "tensor(503.2299)\n",
      "Compare 1 to 1\n",
      "tensor(538.5391)\n",
      "Compare 1 to 6\n",
      "tensor(421.7356)\n",
      "Compare 1 to 4\n",
      "tensor(414.7047)\n",
      "Compare 1 to 2\n",
      "tensor(375.4490)\n",
      "Compare 1 to 9\n",
      "tensor(643.8192)\n",
      "Compare 1 to 7\n",
      "tensor(702.2484)\n",
      "Compare 1 to 8\n",
      "tensor(1067.9839)\n",
      "\n",
      "Compare 1 to 5\n",
      "tensor(521.4036)\n",
      "Compare 1 to 3\n",
      "tensor(549.5748)\n",
      "Compare 1 to 0\n",
      "tensor(502.3753)\n",
      "Compare 1 to 1\n",
      "tensor(413.6653)\n",
      "Compare 1 to 6\n",
      "tensor(602.7480)\n",
      "Compare 1 to 4\n",
      "tensor(608.3984)\n",
      "Compare 1 to 2\n",
      "tensor(626.7632)\n",
      "Compare 1 to 9\n",
      "tensor(351.7382)\n",
      "Compare 1 to 7\n",
      "tensor(451.1922)\n",
      "Compare 1 to 8\n",
      "tensor(662.2850)\n",
      "\n",
      "Compare 1 to 5\n",
      "tensor(529.2378)\n",
      "Compare 1 to 3\n",
      "tensor(572.1956)\n",
      "Compare 1 to 0\n",
      "tensor(548.4657)\n",
      "Compare 1 to 1\n",
      "tensor(451.2480)\n",
      "Compare 1 to 6\n",
      "tensor(651.4755)\n",
      "Compare 1 to 4\n",
      "tensor(644.1732)\n",
      "Compare 1 to 2\n",
      "tensor(678.8335)\n",
      "Compare 1 to 9\n",
      "tensor(435.7541)\n",
      "Compare 1 to 7\n",
      "tensor(492.5544)\n",
      "Compare 1 to 8\n",
      "tensor(651.5316)\n",
      "\n",
      "Compare 1 to 5\n",
      "tensor(766.6385)\n",
      "Compare 1 to 3\n",
      "tensor(931.0456)\n",
      "Compare 1 to 0\n",
      "tensor(801.6333)\n",
      "Compare 1 to 1\n",
      "tensor(752.2906)\n",
      "Compare 1 to 6\n",
      "tensor(957.1367)\n",
      "Compare 1 to 4\n",
      "tensor(1005.1874)\n",
      "Compare 1 to 2\n",
      "tensor(958.2461)\n",
      "Compare 1 to 9\n",
      "tensor(681.8858)\n",
      "Compare 1 to 7\n",
      "tensor(599.3907)\n",
      "Compare 1 to 8\n",
      "tensor(237.7791)\n",
      "\n",
      "Compare 6 to 5\n",
      "tensor(738.0026)\n",
      "Compare 6 to 3\n",
      "tensor(652.3796)\n",
      "Compare 6 to 0\n",
      "tensor(749.3232)\n",
      "Compare 6 to 1\n",
      "tensor(786.9827)\n",
      "Compare 6 to 6\n",
      "tensor(580.3404)\n",
      "Compare 6 to 4\n",
      "tensor(555.6710)\n",
      "Compare 6 to 2\n",
      "tensor(597.2145)\n",
      "Compare 6 to 9\n",
      "tensor(960.3063)\n",
      "Compare 6 to 7\n",
      "tensor(999.0129)\n",
      "Compare 6 to 8\n",
      "tensor(1306.5237)\n",
      "\n",
      "Compare 6 to 5\n",
      "tensor(709.2506)\n",
      "Compare 6 to 3\n",
      "tensor(635.5839)\n",
      "Compare 6 to 0\n",
      "tensor(720.0600)\n",
      "Compare 6 to 1\n",
      "tensor(761.4126)\n",
      "Compare 6 to 6\n",
      "tensor(534.2690)\n",
      "Compare 6 to 4\n",
      "tensor(513.8503)\n",
      "Compare 6 to 2\n",
      "tensor(555.7762)\n",
      "Compare 6 to 9\n",
      "tensor(925.8644)\n",
      "Compare 6 to 7\n",
      "tensor(967.5731)\n",
      "Compare 6 to 8\n",
      "tensor(1280.6781)\n",
      "\n",
      "Compare 6 to 5\n",
      "tensor(672.5393)\n",
      "Compare 6 to 3\n",
      "tensor(593.8336)\n",
      "Compare 6 to 0\n",
      "tensor(653.8976)\n",
      "Compare 6 to 1\n",
      "tensor(702.5616)\n",
      "Compare 6 to 6\n",
      "tensor(454.3520)\n",
      "Compare 6 to 4\n",
      "tensor(450.9729)\n",
      "Compare 6 to 2\n",
      "tensor(480.1996)\n",
      "Compare 6 to 9\n",
      "tensor(849.6063)\n",
      "Compare 6 to 7\n",
      "tensor(896.7241)\n",
      "Compare 6 to 8\n",
      "tensor(1223.0393)\n",
      "\n",
      "Compare 6 to 5\n",
      "tensor(649.2433)\n",
      "Compare 6 to 3\n",
      "tensor(567.6819)\n",
      "Compare 6 to 0\n",
      "tensor(622.7198)\n",
      "Compare 6 to 1\n",
      "tensor(672.1700)\n",
      "Compare 6 to 6\n",
      "tensor(424.6886)\n",
      "Compare 6 to 4\n",
      "tensor(427.8567)\n",
      "Compare 6 to 2\n"
     ]
    },
    {
     "name": "stdout",
     "output_type": "stream",
     "text": [
      "tensor(449.6378)\n",
      "Compare 6 to 9\n",
      "tensor(816.7090)\n",
      "Compare 6 to 7\n",
      "tensor(865.0308)\n",
      "Compare 6 to 8\n",
      "tensor(1195.0929)\n",
      "\n",
      "Compare 6 to 5\n",
      "tensor(646.3293)\n",
      "Compare 6 to 3\n",
      "tensor(561.5766)\n",
      "Compare 6 to 0\n",
      "tensor(602.0620)\n",
      "Compare 6 to 1\n",
      "tensor(652.3563)\n",
      "Compare 6 to 6\n",
      "tensor(418.7348)\n",
      "Compare 6 to 4\n",
      "tensor(425.3279)\n",
      "Compare 6 to 2\n",
      "tensor(436.9616)\n",
      "Compare 6 to 9\n",
      "tensor(788.1475)\n",
      "Compare 6 to 7\n",
      "tensor(837.9472)\n",
      "Compare 6 to 8\n",
      "tensor(1171.8979)\n",
      "\n",
      "Compare 6 to 5\n",
      "tensor(594.4897)\n",
      "Compare 6 to 3\n",
      "tensor(497.5528)\n",
      "Compare 6 to 0\n",
      "tensor(473.1845)\n",
      "Compare 6 to 1\n",
      "tensor(505.2333)\n",
      "Compare 6 to 6\n",
      "tensor(536.3908)\n",
      "Compare 6 to 4\n",
      "tensor(580.7735)\n",
      "Compare 6 to 2\n",
      "tensor(509.4431)\n",
      "Compare 6 to 9\n",
      "tensor(445.5990)\n",
      "Compare 6 to 7\n",
      "tensor(495.5460)\n",
      "Compare 6 to 8\n",
      "tensor(880.4337)\n",
      "\n",
      "Compare 6 to 5\n",
      "tensor(536.1672)\n",
      "Compare 6 to 3\n",
      "tensor(530.2357)\n",
      "Compare 6 to 0\n",
      "tensor(486.8862)\n",
      "Compare 6 to 1\n",
      "tensor(436.3829)\n",
      "Compare 6 to 6\n",
      "tensor(573.5850)\n",
      "Compare 6 to 4\n",
      "tensor(595.2485)\n",
      "Compare 6 to 2\n",
      "tensor(597.3319)\n",
      "Compare 6 to 9\n",
      "tensor(360.6303)\n",
      "Compare 6 to 7\n",
      "tensor(467.4844)\n",
      "Compare 6 to 8\n",
      "tensor(728.6197)\n",
      "\n",
      "Compare 6 to 5\n",
      "tensor(549.6939)\n",
      "Compare 6 to 3\n",
      "tensor(616.9321)\n",
      "Compare 6 to 0\n",
      "tensor(584.4127)\n",
      "Compare 6 to 1\n",
      "tensor(518.8086)\n",
      "Compare 6 to 6\n",
      "tensor(702.9870)\n",
      "Compare 6 to 4\n",
      "tensor(708.9606)\n",
      "Compare 6 to 2\n",
      "tensor(731.4813)\n",
      "Compare 6 to 9\n",
      "tensor(457.0670)\n",
      "Compare 6 to 7\n",
      "tensor(494.2006)\n",
      "Compare 6 to 8\n",
      "tensor(568.3329)\n",
      "\n",
      "Compare 6 to 5\n",
      "tensor(707.6939)\n",
      "Compare 6 to 3\n",
      "tensor(880.4084)\n",
      "Compare 6 to 0\n",
      "tensor(759.6455)\n",
      "Compare 6 to 1\n",
      "tensor(714.1479)\n",
      "Compare 6 to 6\n",
      "tensor(904.9404)\n",
      "Compare 6 to 4\n",
      "tensor(956.9415)\n",
      "Compare 6 to 2\n",
      "tensor(905.8177)\n",
      "Compare 6 to 9\n",
      "tensor(602.1997)\n",
      "Compare 6 to 7\n",
      "tensor(556.9786)\n",
      "Compare 6 to 8\n",
      "tensor(322.4745)\n",
      "\n",
      "Compare 4 to 5\n",
      "tensor(731.4927)\n",
      "Compare 4 to 3\n",
      "tensor(647.0068)\n",
      "Compare 4 to 0\n",
      "tensor(742.4526)\n",
      "Compare 4 to 1\n",
      "tensor(781.1375)\n",
      "Compare 4 to 6\n",
      "tensor(572.8879)\n",
      "Compare 4 to 4\n",
      "tensor(545.1497)\n",
      "Compare 4 to 2\n",
      "tensor(587.3387)\n",
      "Compare 4 to 9\n",
      "tensor(952.8320)\n",
      "Compare 4 to 7\n",
      "tensor(991.6516)\n",
      "Compare 4 to 8\n",
      "tensor(1299.3250)\n",
      "\n",
      "Compare 4 to 5\n",
      "tensor(711.5135)\n",
      "Compare 4 to 3\n",
      "tensor(637.0928)\n",
      "Compare 4 to 0\n",
      "tensor(709.8052)\n",
      "Compare 4 to 1\n",
      "tensor(754.9216)\n",
      "Compare 4 to 6\n",
      "tensor(519.2812)\n",
      "Compare 4 to 4\n",
      "tensor(496.2165)\n",
      "Compare 4 to 2\n",
      "tensor(539.1838)\n",
      "Compare 4 to 9\n",
      "tensor(908.0490)\n",
      "Compare 4 to 7\n",
      "tensor(952.0370)\n",
      "Compare 4 to 8\n",
      "tensor(1269.7939)\n",
      "\n",
      "Compare 4 to 5\n",
      "tensor(628.6951)\n",
      "Compare 4 to 3\n",
      "tensor(542.2516)\n",
      "Compare 4 to 0\n",
      "tensor(560.2329)\n",
      "Compare 4 to 1\n",
      "tensor(611.5690)\n",
      "Compare 4 to 6\n",
      "tensor(427.4974)\n",
      "Compare 4 to 4\n",
      "tensor(409.9628)\n",
      "Compare 4 to 2\n",
      "tensor(418.3962)\n",
      "Compare 4 to 9\n",
      "tensor(735.0345)\n",
      "Compare 4 to 7\n",
      "tensor(784.0829)\n",
      "Compare 4 to 8\n",
      "tensor(1122.1412)\n",
      "\n",
      "Compare 4 to 5\n",
      "tensor(514.9698)\n",
      "Compare 4 to 3\n",
      "tensor(546.5062)\n",
      "Compare 4 to 0\n",
      "tensor(499.0990)\n",
      "Compare 4 to 1\n",
      "tensor(409.8944)\n",
      "Compare 4 to 6\n",
      "tensor(600.7008)\n",
      "Compare 4 to 4\n",
      "tensor(603.1274)\n",
      "Compare 4 to 2\n",
      "tensor(624.9297)\n",
      "Compare 4 to 9\n",
      "tensor(349.5525)\n",
      "Compare 4 to 7\n",
      "tensor(447.4911)\n",
      "Compare 4 to 8\n",
      "tensor(656.0969)\n",
      "\n",
      "Compare 4 to 5\n",
      "tensor(530.2541)\n",
      "Compare 4 to 3\n",
      "tensor(594.8646)\n",
      "Compare 4 to 0\n",
      "tensor(566.5695)\n",
      "Compare 4 to 1\n",
      "tensor(488.8270)\n",
      "Compare 4 to 6\n",
      "tensor(677.9288)\n",
      "Compare 4 to 4\n",
      "tensor(671.0966)\n",
      "Compare 4 to 2\n",
      "tensor(705.8416)\n",
      "Compare 4 to 9\n",
      "tensor(446.7329)\n",
      "Compare 4 to 7\n",
      "tensor(493.2952)\n",
      "Compare 4 to 8\n",
      "tensor(590.9399)\n",
      "\n",
      "Compare 2 to 5\n",
      "tensor(741.4998)\n",
      "Compare 2 to 3\n",
      "tensor(657.9603)\n",
      "Compare 2 to 0\n",
      "tensor(751.0412)\n",
      "Compare 2 to 1\n",
      "tensor(792.5283)\n",
      "Compare 2 to 6\n",
      "tensor(578.0348)\n",
      "Compare 2 to 4\n",
      "tensor(550.8054)\n",
      "Compare 2 to 2\n",
      "tensor(589.4801)\n",
      "Compare 2 to 9\n",
      "tensor(959.6969)\n",
      "Compare 2 to 7\n",
      "tensor(1001.0922)\n",
      "Compare 2 to 8\n",
      "tensor(1310.4834)\n",
      "\n",
      "Compare 2 to 5\n",
      "tensor(638.6591)\n",
      "Compare 2 to 3\n",
      "tensor(555.9103)\n",
      "Compare 2 to 0\n",
      "tensor(605.4437)\n",
      "Compare 2 to 1\n",
      "tensor(653.4553)\n",
      "Compare 2 to 6\n",
      "tensor(409.0327)\n",
      "Compare 2 to 4\n",
      "tensor(411.9898)\n",
      "Compare 2 to 2\n",
      "tensor(426.4298)\n",
      "Compare 2 to 9\n",
      "tensor(795.4907)\n",
      "Compare 2 to 7\n",
      "tensor(845.6663)\n",
      "Compare 2 to 8\n",
      "tensor(1179.4829)\n",
      "\n",
      "Compare 2 to 5\n",
      "tensor(578.0186)\n",
      "Compare 2 to 3\n",
      "tensor(460.2131)\n",
      "Compare 2 to 0\n",
      "tensor(471.2181)\n",
      "Compare 2 to 1\n",
      "tensor(517.3237)\n",
      "Compare 2 to 6\n",
      "tensor(419.3197)\n",
      "Compare 2 to 4\n",
      "tensor(422.6072)\n",
      "Compare 2 to 2\n",
      "tensor(345.6938)\n",
      "Compare 2 to 9\n",
      "tensor(598.1351)\n",
      "Compare 2 to 7\n",
      "tensor(647.3558)\n",
      "Compare 2 to 8\n",
      "tensor(1032.1575)\n",
      "\n",
      "Compare 2 to 5\n",
      "tensor(573.9299)\n",
      "Compare 2 to 3\n",
      "tensor(470.1948)\n",
      "Compare 2 to 0\n",
      "tensor(447.6381)\n",
      "Compare 2 to 1\n",
      "tensor(491.8803)\n",
      "Compare 2 to 6\n",
      "tensor(505.4335)\n",
      "Compare 2 to 4\n",
      "tensor(548.5893)\n",
      "Compare 2 to 2\n",
      "tensor(466.9242)\n",
      "Compare 2 to 9\n",
      "tensor(439.6020)\n",
      "Compare 2 to 7\n",
      "tensor(482.2636)\n",
      "Compare 2 to 8\n",
      "tensor(888.5497)\n",
      "\n",
      "Compare 2 to 5\n",
      "tensor(634.5525)\n",
      "Compare 2 to 3\n",
      "tensor(798.9978)\n",
      "Compare 2 to 0\n",
      "tensor(690.9969)\n",
      "Compare 2 to 1\n",
      "tensor(648.1699)\n",
      "Compare 2 to 6\n",
      "tensor(839.4942)\n",
      "Compare 2 to 4\n",
      "tensor(881.5217)\n",
      "Compare 2 to 2\n",
      "tensor(830.0831)\n",
      "Compare 2 to 9\n",
      "tensor(537.5402)\n",
      "Compare 2 to 7\n",
      "tensor(490.7953)\n",
      "Compare 2 to 8\n",
      "tensor(354.9319)\n",
      "\n",
      "Compare 9 to 5\n",
      "tensor(589.8400)\n",
      "Compare 9 to 3\n",
      "tensor(485.6954)\n",
      "Compare 9 to 0\n",
      "tensor(494.0535)\n",
      "Compare 9 to 1\n",
      "tensor(534.0955)\n",
      "Compare 9 to 6\n",
      "tensor(418.4593)\n",
      "Compare 9 to 4\n",
      "tensor(415.2657)\n",
      "Compare 9 to 2\n",
      "tensor(368.2979)\n",
      "Compare 9 to 9\n",
      "tensor(631.8067)\n",
      "Compare 9 to 7\n",
      "tensor(691.6531)\n",
      "Compare 9 to 8\n",
      "tensor(1057.9854)\n",
      "\n",
      "Compare 9 to 5\n",
      "tensor(570.4391)\n",
      "Compare 9 to 3\n",
      "tensor(459.7109)\n",
      "Compare 9 to 0\n",
      "tensor(441.5757)\n",
      "Compare 9 to 1\n",
      "tensor(493.5991)\n",
      "Compare 9 to 6\n",
      "tensor(493.6342)\n",
      "Compare 9 to 4\n",
      "tensor(534.7230)\n",
      "Compare 9 to 2\n",
      "tensor(455.9933)\n",
      "Compare 9 to 9\n",
      "tensor(448.4264)\n",
      "Compare 9 to 7\n",
      "tensor(484.4315)\n",
      "Compare 9 to 8\n",
      "tensor(903.5464)\n",
      "\n",
      "Compare 9 to 5\n",
      "tensor(534.2924)\n",
      "Compare 9 to 3\n",
      "tensor(543.7388)\n",
      "Compare 9 to 0\n",
      "tensor(500.2021)\n",
      "Compare 9 to 1\n",
      "tensor(431.5939)\n",
      "Compare 9 to 6\n",
      "tensor(589.3666)\n",
      "Compare 9 to 4\n",
      "tensor(604.9513)\n",
      "Compare 9 to 2\n",
      "tensor(612.8745)\n",
      "Compare 9 to 9\n",
      "tensor(350.3518)\n",
      "Compare 9 to 7\n",
      "tensor(465.8138)\n",
      "Compare 9 to 8\n",
      "tensor(706.1520)\n",
      "\n",
      "Compare 9 to 5\n",
      "tensor(560.1642)\n",
      "Compare 9 to 3\n",
      "tensor(687.9530)\n",
      "Compare 9 to 0\n",
      "tensor(606.1976)\n",
      "Compare 9 to 1\n",
      "tensor(569.2648)\n",
      "Compare 9 to 6\n",
      "tensor(756.4731)\n",
      "Compare 9 to 4\n",
      "tensor(786.6573)\n",
      "Compare 9 to 2\n",
      "tensor(765.3425)\n",
      "Compare 9 to 9\n",
      "tensor(436.6767)\n",
      "Compare 9 to 7\n",
      "tensor(450.9088)\n",
      "Compare 9 to 8\n",
      "tensor(460.2914)\n",
      "\n",
      "Compare 9 to 5\n",
      "tensor(682.5477)\n",
      "Compare 9 to 3\n",
      "tensor(852.9338)\n",
      "Compare 9 to 0\n",
      "tensor(736.8811)\n",
      "Compare 9 to 1\n",
      "tensor(691.2631)\n",
      "Compare 9 to 6\n",
      "tensor(883.5381)\n",
      "Compare 9 to 4\n",
      "tensor(932.4230)\n",
      "Compare 9 to 2\n",
      "tensor(881.3700)\n",
      "Compare 9 to 9\n",
      "tensor(574.5949)\n",
      "Compare 9 to 7\n",
      "tensor(536.5007)\n",
      "Compare 9 to 8\n",
      "tensor(329.2247)\n",
      "\n",
      "Compare 7 to 5\n",
      "tensor(551.1299)\n",
      "Compare 7 to 3\n",
      "tensor(414.0015)\n",
      "Compare 7 to 0\n",
      "tensor(411.0581)\n",
      "Compare 7 to 1\n",
      "tensor(481.8664)\n",
      "Compare 7 to 6\n",
      "tensor(435.1882)\n",
      "Compare 7 to 4\n",
      "tensor(457.9013)\n",
      "Compare 7 to 2\n",
      "tensor(378.6822)\n",
      "Compare 7 to 9\n",
      "tensor(513.1567)\n",
      "Compare 7 to 7\n",
      "tensor(519.5458)\n",
      "Compare 7 to 8\n",
      "tensor(957.9983)\n",
      "\n",
      "Compare 7 to 5\n",
      "tensor(566.0908)\n",
      "Compare 7 to 3\n",
      "tensor(444.8002)\n",
      "Compare 7 to 0\n",
      "tensor(428.3915)\n",
      "Compare 7 to 1\n",
      "tensor(494.6487)\n",
      "Compare 7 to 6\n",
      "tensor(480.1470)\n",
      "Compare 7 to 4\n",
      "tensor(516.0317)\n",
      "Compare 7 to 2\n",
      "tensor(437.5502)\n",
      "Compare 7 to 9\n",
      "tensor(472.1286)\n",
      "Compare 7 to 7\n",
      "tensor(484.3944)\n",
      "Compare 7 to 8\n",
      "tensor(924.7748)\n",
      "\n",
      "Compare 7 to 5\n",
      "tensor(613.9128)\n",
      "Compare 7 to 3\n",
      "tensor(767.1885)\n",
      "Compare 7 to 0\n",
      "tensor(669.5188)\n",
      "Compare 7 to 1\n",
      "tensor(627.8541)\n",
      "Compare 7 to 6\n",
      "tensor(821.5346)\n",
      "Compare 7 to 4\n",
      "tensor(857.3388)\n",
      "Compare 7 to 2\n",
      "tensor(818.9891)\n",
      "Compare 7 to 9\n",
      "tensor(511.1304)\n",
      "Compare 7 to 7\n",
      "tensor(463.0814)\n",
      "Compare 7 to 8\n",
      "tensor(400.0659)\n",
      "\n",
      "Compare 7 to 5\n",
      "tensor(764.9643)\n",
      "Compare 7 to 3\n",
      "tensor(926.2202)\n",
      "Compare 7 to 0\n",
      "tensor(796.4598)\n",
      "Compare 7 to 1\n",
      "tensor(753.0065)\n",
      "Compare 7 to 6\n",
      "tensor(953.9429)\n",
      "Compare 7 to 4\n",
      "tensor(1000.8510)\n",
      "Compare 7 to 2\n",
      "tensor(955.0474)\n",
      "Compare 7 to 9\n",
      "tensor(684.8837)\n",
      "Compare 7 to 7\n",
      "tensor(596.3431)\n",
      "Compare 7 to 8\n",
      "tensor(214.8011)\n",
      "\n",
      "Compare 8 to 5\n",
      "tensor(532.8635)\n",
      "Compare 8 to 3\n",
      "tensor(596.9573)\n",
      "Compare 8 to 0\n",
      "tensor(568.3713)\n",
      "Compare 8 to 1\n",
      "tensor(494.3678)\n",
      "Compare 8 to 6\n",
      "tensor(681.6160)\n",
      "Compare 8 to 4\n",
      "tensor(677.9510)\n",
      "Compare 8 to 2\n",
      "tensor(709.7259)\n",
      "Compare 8 to 9\n",
      "tensor(447.4140)\n",
      "Compare 8 to 7\n",
      "tensor(493.1971)\n",
      "Compare 8 to 8\n",
      "tensor(583.7379)\n",
      "\n",
      "Compare 8 to 5\n",
      "tensor(765.6292)\n",
      "Compare 8 to 3\n",
      "tensor(929.1568)\n",
      "Compare 8 to 0\n",
      "tensor(800.8393)\n",
      "Compare 8 to 1\n",
      "tensor(754.1251)\n",
      "Compare 8 to 6\n",
      "tensor(957.4227)\n",
      "Compare 8 to 4\n",
      "tensor(1004.3489)\n",
      "Compare 8 to 2\n",
      "tensor(958.8255)\n",
      "Compare 8 to 9\n",
      "tensor(686.2172)\n",
      "Compare 8 to 7\n",
      "tensor(599.9774)\n",
      "Compare 8 to 8\n"
     ]
    },
    {
     "name": "stdout",
     "output_type": "stream",
     "text": [
      "tensor(218.4499)\n",
      "\n",
      "Compare 8 to 5\n",
      "tensor(775.2430)\n",
      "Compare 8 to 3\n",
      "tensor(934.5902)\n",
      "Compare 8 to 0\n",
      "tensor(802.2487)\n",
      "Compare 8 to 1\n",
      "tensor(762.3368)\n",
      "Compare 8 to 6\n",
      "tensor(962.2001)\n",
      "Compare 8 to 4\n",
      "tensor(1008.7338)\n",
      "Compare 8 to 2\n",
      "tensor(962.7589)\n",
      "Compare 8 to 9\n",
      "tensor(693.6276)\n",
      "Compare 8 to 7\n",
      "tensor(607.4460)\n",
      "Compare 8 to 8\n",
      "tensor(213.3842)\n",
      "\n",
      "Compare 8 to 5\n",
      "tensor(826.9652)\n",
      "Compare 8 to 3\n",
      "tensor(979.6367)\n",
      "Compare 8 to 0\n",
      "tensor(837.2814)\n",
      "Compare 8 to 1\n",
      "tensor(831.4774)\n",
      "Compare 8 to 6\n",
      "tensor(1009.2581)\n",
      "Compare 8 to 4\n",
      "tensor(1052.1903)\n",
      "Compare 8 to 2\n",
      "tensor(1009.3392)\n",
      "Compare 8 to 9\n",
      "tensor(773.3943)\n",
      "Compare 8 to 7\n",
      "tensor(688.4591)\n",
      "Compare 8 to 8\n",
      "tensor(328.0455)\n",
      "\n"
     ]
    }
   ],
   "source": [
    "mus = {}\n",
    "\n",
    "for i in vecs:\n",
    "    mu = torch.mean(vecs[i], 0)\n",
    "    mus[i] = mu\n",
    "    \n",
    "for i in vecs:\n",
    "    for k in vecs[i]:\n",
    "        for m in mus:\n",
    "            print(\"Compare {} to {}\".format(i, m))\n",
    "            print(torch.norm(k - mus[m]))\n",
    "        print()"
   ]
  },
  {
   "cell_type": "code",
   "execution_count": 182,
   "metadata": {},
   "outputs": [],
   "source": [
    "m = torch.nn.Softmax(dim=-1)"
   ]
  },
  {
   "cell_type": "code",
   "execution_count": 88,
   "metadata": {},
   "outputs": [],
   "source": [
    "correct = 0\n",
    "total = 0\n",
    "\n",
    "net = model_dict[\"0\"]\n",
    "\n",
    "inputs, labels = data\n",
    "\n",
    "inputs = inputs.float()\n",
    "\n",
    "outputs = net(inputs)\n",
    "_, predicted = torch.max(outputs, 1)\n",
    "total += labels.size(0)\n",
    "correct += (predicted == labels).sum().item()\n",
    "\n",
    "\n"
   ]
  },
  {
   "cell_type": "code",
   "execution_count": 89,
   "metadata": {},
   "outputs": [
    {
     "data": {
      "text/plain": [
       "1"
      ]
     },
     "execution_count": 89,
     "metadata": {},
     "output_type": "execute_result"
    }
   ],
   "source": [
    "correct"
   ]
  },
  {
   "cell_type": "code",
   "execution_count": 203,
   "metadata": {},
   "outputs": [],
   "source": [
    "inp = inp.view(len(inp), 3, 32, 32)"
   ]
  },
  {
   "cell_type": "code",
   "execution_count": 204,
   "metadata": {},
   "outputs": [
    {
     "data": {
      "text/plain": [
       "0.9375"
      ]
     },
     "execution_count": 204,
     "metadata": {},
     "output_type": "execute_result"
    }
   ],
   "source": [
    "correct/total"
   ]
  },
  {
   "cell_type": "code",
   "execution_count": 219,
   "metadata": {},
   "outputs": [
    {
     "data": {
      "text/plain": [
       "torch.return_types.max(\n",
       "values=tensor(18.1200, grad_fn=<MaxBackward0>),\n",
       "indices=tensor(1))"
      ]
     },
     "execution_count": 219,
     "metadata": {},
     "output_type": "execute_result"
    }
   ],
   "source": [
    "torch.max(outputs[15], 0)"
   ]
  },
  {
   "cell_type": "code",
   "execution_count": 208,
   "metadata": {},
   "outputs": [
    {
     "data": {
      "image/png": "[encoded data removed]",
      "text/plain": [
       "<Figure size 432x288 with 1 Axes>"
      ]
     },
     "metadata": {
      "needs_background": "light"
     },
     "output_type": "display_data"
    },
    {
     "name": "stdout",
     "output_type": "stream",
     "text": [
      "dog\n",
      "  car   cat  frog horse\n"
     ]
    }
   ],
   "source": [
    "classes = ('plane', 'car', 'bird', 'cat',\n",
    "           'deer', 'dog', 'frog', 'horse', 'ship', 'truck')\n",
    "\n",
    "def imshow(img):\n",
    "    img = img / 2 + 0.5     # unnormalize\n",
    "    npimg = img.numpy()\n",
    "    plt.imshow(np.transpose(npimg, (1, 2, 0)))\n",
    "    plt.show()\n",
    "\n",
    "\n",
    "# get some random training images\n",
    "images = inp[15]\n",
    "\n",
    "# show images\n",
    "imshow(torchvision.utils.make_grid(images))\n",
    "print(classes[labels[15]])\n",
    "print(' '.join('%5s' % classes[labels[j]] for j in range(4)))\n"
   ]
  },
  {
   "cell_type": "code",
   "execution_count": 146,
   "metadata": {},
   "outputs": [],
   "source": [
    "model_a = exp_dict[\"models\"][\"1593847785.5662594\"][str(2)]\n",
    "model_a = exp_dict[\"models\"][\"1593841465.3004317\"][str(0)]\n",
    "# model_b = exp_dict[\"models\"][\"1592850561.9180126\"][str(1)]\n",
    "# model_c = exp_dict[\"models\"][\"1592850561.9180126\"][str(2)]\n"
   ]
  },
  {
   "cell_type": "code",
   "execution_count": 154,
   "metadata": {},
   "outputs": [],
   "source": [
    "\n",
    "max_alpha = 5\n",
    "\n",
    "scale_arr = []\n",
    "\n",
    "num_inter_models = 10\n",
    "\n",
    "\n",
    "for alpha in np.linspace(0, max_alpha, 10): # [0, 1, 5, 10]:\n",
    "    scale_arr.append(scale_output_model(model_a, alpha))\n",
    "    \n",
    "model_dict = {str(i): scale_arr[i] for i in range(len(scale_arr))}\n"
   ]
  },
  {
   "cell_type": "markdown",
   "metadata": {},
   "source": [
    "# Interpolate two models"
   ]
  },
  {
   "cell_type": "code",
   "execution_count": 108,
   "metadata": {},
   "outputs": [],
   "source": [
    "# model_a = vec_to_net(v1_vec, model_c)\n",
    "# model_b = vec_to_net(v2_vec, model_c)\n",
    "\n",
    "beta_bound = [0, 20]\n",
    "num_inter_models = 2\n",
    "\n",
    "inter_arr = get_model_interpolate_arr(model_a, model_b, num_inter_models, beta_bound=beta_bound)\n",
    "\n",
    "model_dict = {str(i): inter_arr[i] for i in range(len(inter_arr))}\n",
    "\n",
    "\n",
    "\n"
   ]
  },
  {
   "cell_type": "code",
   "execution_count": 148,
   "metadata": {},
   "outputs": [
    {
     "name": "stdout",
     "output_type": "stream",
     "text": [
      "0\n",
      "1\n",
      "2\n",
      "3\n",
      "4\n",
      "5\n",
      "6\n",
      "7\n",
      "8\n",
      "9\n"
     ]
    }
   ],
   "source": [
    "eigenvals = get_models_eig(model_dict, train_loader, None, criterion, num_eigenthings=1)"
   ]
  },
  {
   "cell_type": "code",
   "execution_count": 143,
   "metadata": {},
   "outputs": [],
   "source": [
    "traces = get_models_trace(model_dict, full_train_loader, criterion, full_dataset=False)\n",
    "loss_dict, acc_dict = get_models_loss_acc(model_dict, full_train_loader, test_loader)"
   ]
  },
  {
   "cell_type": "code",
   "execution_count": 149,
   "metadata": {},
   "outputs": [
    {
     "name": "stdout",
     "output_type": "stream",
     "text": [
      "59.97638201713562\n"
     ]
    }
   ],
   "source": [
    "a = time.time()\n",
    "traces_batch = get_models_trace(model_dict, train_loader, criterion, full_dataset=False)\n",
    "loss_dict_batch, acc_dict_batch = get_models_loss_acc(model_dict, train_loader, test_loader)\n",
    "print(time.time() - a)"
   ]
  },
  {
   "cell_type": "code",
   "execution_count": 151,
   "metadata": {},
   "outputs": [
    {
     "data": {
      "text/plain": [
       "{'0': (2.3026678562164307, 2.3025851249694824),\n",
       " '1': (0.24088889360427856, 0.24736303091049194),\n",
       " '2': (0.08198236674070358, 0.034661777317523956),\n",
       " '3': (0.06260377913713455, 0.005912907887250185),\n",
       " '4': (0.0636124312877655, 0.0010521834483370185),\n",
       " '5': (0.06993412226438522, 0.00018892886873800308),\n",
       " '6': (0.07826332002878189, 3.397406908334233e-05),\n",
       " '7': (0.08755455911159515, 6.079655122448457e-06),\n",
       " '8': (0.09738297015428543, 1.0728830375228426e-06),\n",
       " '9': (0.1075439602136612, 2.3841855067985307e-07)}"
      ]
     },
     "execution_count": 151,
     "metadata": {},
     "output_type": "execute_result"
    }
   ],
   "source": [
    "loss_dict_batch"
   ]
  },
  {
   "cell_type": "code",
   "execution_count": 130,
   "metadata": {},
   "outputs": [
    {
     "data": {
      "text/plain": [
       "[372.0205357869466, 0.0058747010105954746, 1.1182875748648836e-07]"
      ]
     },
     "execution_count": 130,
     "metadata": {},
     "output_type": "execute_result"
    }
   ],
   "source": [
    "[np.mean(traces[t]) for t in traces]"
   ]
  },
  {
   "cell_type": "code",
   "execution_count": 111,
   "metadata": {},
   "outputs": [
    {
     "data": {
      "text/plain": [
       "{'0': array([35.490803], dtype=float32),\n",
       " '1': array([441948.06], dtype=float32)}"
      ]
     },
     "execution_count": 111,
     "metadata": {},
     "output_type": "execute_result"
    }
   ],
   "source": [
    "eigenvals"
   ]
  },
  {
   "cell_type": "code",
   "execution_count": 95,
   "metadata": {},
   "outputs": [],
   "source": [
    "dim = 5 \n",
    "nums = 20\n",
    "prob = 0.1\n",
    "ys = np.random.uniform(high=dim, size=nums).astype(\"int\")\n",
    "w = []\n",
    "for i in range(nums):\n",
    "    t = np.random.rand(dim)\n",
    "    eps = np.random.uniform()\n",
    "    if eps < prob:\n",
    "        idx = np.random.uniform(high=dim, size=1).astype(\"int\")\n",
    "        t[idx] = max(t) * 2\n",
    "    else:\n",
    "        t[ys[i]] = max(t) * 2\n",
    "    \n",
    "    w.append(t)\n",
    "\n"
   ]
  },
  {
   "cell_type": "code",
   "execution_count": 96,
   "metadata": {},
   "outputs": [],
   "source": [
    "def cross_entropy(w, y):\n",
    "    return - np.log(w[y]) # - np.sum(np.array([y[i] * np.log(w[i]) for i in range(len(w))]))\n",
    "\n",
    "def softmax_beta(w, beta):\n",
    "    denom = 0\n",
    "    for i in range(len(w)):\n",
    "        denom = denom + np.exp(beta * w[i])\n",
    "    return np.array([np.exp(beta * w[i])/denom for i in range(len(w))])\n"
   ]
  },
  {
   "cell_type": "code",
   "execution_count": 97,
   "metadata": {},
   "outputs": [],
   "source": [
    "res = []\n",
    "for a in np.linspace(0, 10, 100):\n",
    "\n",
    "    L = 0\n",
    "    for i in range(nums):\n",
    "        s = softmax_beta(w[i], a)\n",
    "        l = cross_entropy(s, ys[i])\n",
    "        L += l\n",
    "    res.append(L)\n",
    "\n"
   ]
  },
  {
   "cell_type": "code",
   "execution_count": 98,
   "metadata": {},
   "outputs": [
    {
     "data": {
      "text/plain": [
       "[<matplotlib.lines.Line2D at 0x17e9e8320>]"
      ]
     },
     "execution_count": 98,
     "metadata": {},
     "output_type": "execute_result"
    },
    {
     "data": {
      "image/png": "[encoded data removed]",
      "text/plain": [
       "<Figure size 432x288 with 1 Axes>"
      ]
     },
     "metadata": {
      "needs_background": "light"
     },
     "output_type": "display_data"
    }
   ],
   "source": [
    "plt.plot(res)"
   ]
  },
  {
   "cell_type": "code",
   "execution_count": 131,
   "metadata": {},
   "outputs": [
    {
     "ename": "ValueError",
     "evalue": "x and y must have same first dimension, but have shapes (3,) and (4,)",
     "output_type": "error",
     "traceback": [
      "\u001b[0;31m---------------------------------------------------------------------------\u001b[0m",
      "\u001b[0;31mValueError\u001b[0m                                Traceback (most recent call last)",
      "\u001b[0;32m<ipython-input-131-d1a88bee95cc>\u001b[0m in \u001b[0;36m<module>\u001b[0;34m\u001b[0m\n\u001b[1;32m      3\u001b[0m \u001b[0macc_arr\u001b[0m \u001b[0;34m=\u001b[0m \u001b[0;34m[\u001b[0m\u001b[0macc_dict_batch\u001b[0m\u001b[0;34m[\u001b[0m\u001b[0ma\u001b[0m\u001b[0;34m]\u001b[0m\u001b[0;34m[\u001b[0m\u001b[0;36m1\u001b[0m\u001b[0;34m]\u001b[0m \u001b[0;32mfor\u001b[0m \u001b[0ma\u001b[0m \u001b[0;32min\u001b[0m \u001b[0macc_dict_batch\u001b[0m\u001b[0;34m]\u001b[0m\u001b[0;34m\u001b[0m\u001b[0;34m\u001b[0m\u001b[0m\n\u001b[1;32m      4\u001b[0m \u001b[0;34m\u001b[0m\u001b[0m\n\u001b[0;32m----> 5\u001b[0;31m \u001b[0mplt\u001b[0m\u001b[0;34m.\u001b[0m\u001b[0mplot\u001b[0m\u001b[0;34m(\u001b[0m\u001b[0mxs\u001b[0m\u001b[0;34m,\u001b[0m \u001b[0mloss_arr\u001b[0m\u001b[0;34m)\u001b[0m\u001b[0;34m\u001b[0m\u001b[0;34m\u001b[0m\u001b[0m\n\u001b[0m\u001b[1;32m      6\u001b[0m \u001b[0;31m# plt.plot(xs, acc_arr)\u001b[0m\u001b[0;34m\u001b[0m\u001b[0;34m\u001b[0m\u001b[0;34m\u001b[0m\u001b[0m\n\u001b[1;32m      7\u001b[0m \u001b[0mplt\u001b[0m\u001b[0;34m.\u001b[0m\u001b[0mylim\u001b[0m\u001b[0;34m(\u001b[0m\u001b[0;34m[\u001b[0m\u001b[0;36m0\u001b[0m\u001b[0;34m,\u001b[0m \u001b[0;36m1\u001b[0m\u001b[0;34m]\u001b[0m\u001b[0;34m)\u001b[0m\u001b[0;34m\u001b[0m\u001b[0;34m\u001b[0m\u001b[0m\n",
      "\u001b[0;32m/usr/local/lib/python3.7/site-packages/matplotlib/pyplot.py\u001b[0m in \u001b[0;36mplot\u001b[0;34m(scalex, scaley, data, *args, **kwargs)\u001b[0m\n\u001b[1;32m   2809\u001b[0m     return gca().plot(\n\u001b[1;32m   2810\u001b[0m         *args, scalex=scalex, scaley=scaley, **({\"data\": data} if data\n\u001b[0;32m-> 2811\u001b[0;31m         is not None else {}), **kwargs)\n\u001b[0m\u001b[1;32m   2812\u001b[0m \u001b[0;34m\u001b[0m\u001b[0m\n\u001b[1;32m   2813\u001b[0m \u001b[0;34m\u001b[0m\u001b[0m\n",
      "\u001b[0;32m/usr/local/lib/python3.7/site-packages/matplotlib/__init__.py\u001b[0m in \u001b[0;36minner\u001b[0;34m(ax, data, *args, **kwargs)\u001b[0m\n\u001b[1;32m   1808\u001b[0m                         \u001b[0;34m\"the Matplotlib list!)\"\u001b[0m \u001b[0;34m%\u001b[0m \u001b[0;34m(\u001b[0m\u001b[0mlabel_namer\u001b[0m\u001b[0;34m,\u001b[0m \u001b[0mfunc\u001b[0m\u001b[0;34m.\u001b[0m\u001b[0m__name__\u001b[0m\u001b[0;34m)\u001b[0m\u001b[0;34m,\u001b[0m\u001b[0;34m\u001b[0m\u001b[0;34m\u001b[0m\u001b[0m\n\u001b[1;32m   1809\u001b[0m                         RuntimeWarning, stacklevel=2)\n\u001b[0;32m-> 1810\u001b[0;31m             \u001b[0;32mreturn\u001b[0m \u001b[0mfunc\u001b[0m\u001b[0;34m(\u001b[0m\u001b[0max\u001b[0m\u001b[0;34m,\u001b[0m \u001b[0;34m*\u001b[0m\u001b[0margs\u001b[0m\u001b[0;34m,\u001b[0m \u001b[0;34m**\u001b[0m\u001b[0mkwargs\u001b[0m\u001b[0;34m)\u001b[0m\u001b[0;34m\u001b[0m\u001b[0;34m\u001b[0m\u001b[0m\n\u001b[0m\u001b[1;32m   1811\u001b[0m \u001b[0;34m\u001b[0m\u001b[0m\n\u001b[1;32m   1812\u001b[0m         inner.__doc__ = _add_data_doc(inner.__doc__,\n",
      "\u001b[0;32m/usr/local/lib/python3.7/site-packages/matplotlib/axes/_axes.py\u001b[0m in \u001b[0;36mplot\u001b[0;34m(self, scalex, scaley, *args, **kwargs)\u001b[0m\n\u001b[1;32m   1609\u001b[0m         \u001b[0mkwargs\u001b[0m \u001b[0;34m=\u001b[0m \u001b[0mcbook\u001b[0m\u001b[0;34m.\u001b[0m\u001b[0mnormalize_kwargs\u001b[0m\u001b[0;34m(\u001b[0m\u001b[0mkwargs\u001b[0m\u001b[0;34m,\u001b[0m \u001b[0mmlines\u001b[0m\u001b[0;34m.\u001b[0m\u001b[0mLine2D\u001b[0m\u001b[0;34m.\u001b[0m\u001b[0m_alias_map\u001b[0m\u001b[0;34m)\u001b[0m\u001b[0;34m\u001b[0m\u001b[0;34m\u001b[0m\u001b[0m\n\u001b[1;32m   1610\u001b[0m \u001b[0;34m\u001b[0m\u001b[0m\n\u001b[0;32m-> 1611\u001b[0;31m         \u001b[0;32mfor\u001b[0m \u001b[0mline\u001b[0m \u001b[0;32min\u001b[0m \u001b[0mself\u001b[0m\u001b[0;34m.\u001b[0m\u001b[0m_get_lines\u001b[0m\u001b[0;34m(\u001b[0m\u001b[0;34m*\u001b[0m\u001b[0margs\u001b[0m\u001b[0;34m,\u001b[0m \u001b[0;34m**\u001b[0m\u001b[0mkwargs\u001b[0m\u001b[0;34m)\u001b[0m\u001b[0;34m:\u001b[0m\u001b[0;34m\u001b[0m\u001b[0;34m\u001b[0m\u001b[0m\n\u001b[0m\u001b[1;32m   1612\u001b[0m             \u001b[0mself\u001b[0m\u001b[0;34m.\u001b[0m\u001b[0madd_line\u001b[0m\u001b[0;34m(\u001b[0m\u001b[0mline\u001b[0m\u001b[0;34m)\u001b[0m\u001b[0;34m\u001b[0m\u001b[0;34m\u001b[0m\u001b[0m\n\u001b[1;32m   1613\u001b[0m             \u001b[0mlines\u001b[0m\u001b[0;34m.\u001b[0m\u001b[0mappend\u001b[0m\u001b[0;34m(\u001b[0m\u001b[0mline\u001b[0m\u001b[0;34m)\u001b[0m\u001b[0;34m\u001b[0m\u001b[0;34m\u001b[0m\u001b[0m\n",
      "\u001b[0;32m/usr/local/lib/python3.7/site-packages/matplotlib/axes/_base.py\u001b[0m in \u001b[0;36m_grab_next_args\u001b[0;34m(self, *args, **kwargs)\u001b[0m\n\u001b[1;32m    391\u001b[0m                 \u001b[0mthis\u001b[0m \u001b[0;34m+=\u001b[0m \u001b[0margs\u001b[0m\u001b[0;34m[\u001b[0m\u001b[0;36m0\u001b[0m\u001b[0;34m]\u001b[0m\u001b[0;34m,\u001b[0m\u001b[0;34m\u001b[0m\u001b[0;34m\u001b[0m\u001b[0m\n\u001b[1;32m    392\u001b[0m                 \u001b[0margs\u001b[0m \u001b[0;34m=\u001b[0m \u001b[0margs\u001b[0m\u001b[0;34m[\u001b[0m\u001b[0;36m1\u001b[0m\u001b[0;34m:\u001b[0m\u001b[0;34m]\u001b[0m\u001b[0;34m\u001b[0m\u001b[0;34m\u001b[0m\u001b[0m\n\u001b[0;32m--> 393\u001b[0;31m             \u001b[0;32myield\u001b[0m \u001b[0;32mfrom\u001b[0m \u001b[0mself\u001b[0m\u001b[0;34m.\u001b[0m\u001b[0m_plot_args\u001b[0m\u001b[0;34m(\u001b[0m\u001b[0mthis\u001b[0m\u001b[0;34m,\u001b[0m \u001b[0mkwargs\u001b[0m\u001b[0;34m)\u001b[0m\u001b[0;34m\u001b[0m\u001b[0;34m\u001b[0m\u001b[0m\n\u001b[0m\u001b[1;32m    394\u001b[0m \u001b[0;34m\u001b[0m\u001b[0m\n\u001b[1;32m    395\u001b[0m \u001b[0;34m\u001b[0m\u001b[0m\n",
      "\u001b[0;32m/usr/local/lib/python3.7/site-packages/matplotlib/axes/_base.py\u001b[0m in \u001b[0;36m_plot_args\u001b[0;34m(self, tup, kwargs)\u001b[0m\n\u001b[1;32m    368\u001b[0m             \u001b[0mx\u001b[0m\u001b[0;34m,\u001b[0m \u001b[0my\u001b[0m \u001b[0;34m=\u001b[0m \u001b[0mindex_of\u001b[0m\u001b[0;34m(\u001b[0m\u001b[0mtup\u001b[0m\u001b[0;34m[\u001b[0m\u001b[0;34m-\u001b[0m\u001b[0;36m1\u001b[0m\u001b[0;34m]\u001b[0m\u001b[0;34m)\u001b[0m\u001b[0;34m\u001b[0m\u001b[0;34m\u001b[0m\u001b[0m\n\u001b[1;32m    369\u001b[0m \u001b[0;34m\u001b[0m\u001b[0m\n\u001b[0;32m--> 370\u001b[0;31m         \u001b[0mx\u001b[0m\u001b[0;34m,\u001b[0m \u001b[0my\u001b[0m \u001b[0;34m=\u001b[0m \u001b[0mself\u001b[0m\u001b[0;34m.\u001b[0m\u001b[0m_xy_from_xy\u001b[0m\u001b[0;34m(\u001b[0m\u001b[0mx\u001b[0m\u001b[0;34m,\u001b[0m \u001b[0my\u001b[0m\u001b[0;34m)\u001b[0m\u001b[0;34m\u001b[0m\u001b[0;34m\u001b[0m\u001b[0m\n\u001b[0m\u001b[1;32m    371\u001b[0m \u001b[0;34m\u001b[0m\u001b[0m\n\u001b[1;32m    372\u001b[0m         \u001b[0;32mif\u001b[0m \u001b[0mself\u001b[0m\u001b[0;34m.\u001b[0m\u001b[0mcommand\u001b[0m \u001b[0;34m==\u001b[0m \u001b[0;34m'plot'\u001b[0m\u001b[0;34m:\u001b[0m\u001b[0;34m\u001b[0m\u001b[0;34m\u001b[0m\u001b[0m\n",
      "\u001b[0;32m/usr/local/lib/python3.7/site-packages/matplotlib/axes/_base.py\u001b[0m in \u001b[0;36m_xy_from_xy\u001b[0;34m(self, x, y)\u001b[0m\n\u001b[1;32m    229\u001b[0m         \u001b[0;32mif\u001b[0m \u001b[0mx\u001b[0m\u001b[0;34m.\u001b[0m\u001b[0mshape\u001b[0m\u001b[0;34m[\u001b[0m\u001b[0;36m0\u001b[0m\u001b[0;34m]\u001b[0m \u001b[0;34m!=\u001b[0m \u001b[0my\u001b[0m\u001b[0;34m.\u001b[0m\u001b[0mshape\u001b[0m\u001b[0;34m[\u001b[0m\u001b[0;36m0\u001b[0m\u001b[0;34m]\u001b[0m\u001b[0;34m:\u001b[0m\u001b[0;34m\u001b[0m\u001b[0;34m\u001b[0m\u001b[0m\n\u001b[1;32m    230\u001b[0m             raise ValueError(\"x and y must have same first dimension, but \"\n\u001b[0;32m--> 231\u001b[0;31m                              \"have shapes {} and {}\".format(x.shape, y.shape))\n\u001b[0m\u001b[1;32m    232\u001b[0m         \u001b[0;32mif\u001b[0m \u001b[0mx\u001b[0m\u001b[0;34m.\u001b[0m\u001b[0mndim\u001b[0m \u001b[0;34m>\u001b[0m \u001b[0;36m2\u001b[0m \u001b[0;32mor\u001b[0m \u001b[0my\u001b[0m\u001b[0;34m.\u001b[0m\u001b[0mndim\u001b[0m \u001b[0;34m>\u001b[0m \u001b[0;36m2\u001b[0m\u001b[0;34m:\u001b[0m\u001b[0;34m\u001b[0m\u001b[0;34m\u001b[0m\u001b[0m\n\u001b[1;32m    233\u001b[0m             raise ValueError(\"x and y can be no greater than 2-D, but have \"\n",
      "\u001b[0;31mValueError\u001b[0m: x and y must have same first dimension, but have shapes (3,) and (4,)"
     ]
    },
    {
     "data": {
      "image/png": "[encoded data removed]",
      "text/plain": [
       "<Figure size 432x288 with 1 Axes>"
      ]
     },
     "metadata": {
      "needs_background": "light"
     },
     "output_type": "display_data"
    }
   ],
   "source": [
    "\n",
    "xs = np.linspace(beta_bound[0], beta_bound[1], num_inter_models)\n",
    "loss_arr = [loss_dict_batch[a][0] for a in loss_dict_batch]\n",
    "acc_arr = [acc_dict_batch[a][1] for a in acc_dict_batch]\n",
    "\n",
    "plt.plot(xs, loss_arr)\n",
    "# plt.plot(xs, acc_arr)\n",
    "plt.ylim([0, 1])\n"
   ]
  },
  {
   "cell_type": "code",
   "execution_count": 156,
   "metadata": {},
   "outputs": [
    {
     "data": {
      "text/plain": [
       "(0, 1)"
      ]
     },
     "execution_count": 156,
     "metadata": {},
     "output_type": "execute_result"
    },
    {
     "data": {
      "image/png": "[encoded data removed]",
      "text/plain": [
       "<Figure size 432x288 with 1 Axes>"
      ]
     },
     "metadata": {
      "needs_background": "light"
     },
     "output_type": "display_data"
    }
   ],
   "source": [
    "\n",
    "xs =  np.linspace(0, max_alpha, num_inter_models)\n",
    "loss_arr = [loss_dict_batch[a][0] for a in loss_dict_batch]\n",
    "acc_arr = [acc_dict_batch[a][1] for a in acc_dict_batch]\n",
    "\n",
    "plt.plot(xs, loss_arr)\n",
    "# plt.plot(xs, acc_arr)\n",
    "plt.ylim([0, 1])\n"
   ]
  },
  {
   "cell_type": "code",
   "execution_count": 157,
   "metadata": {},
   "outputs": [
    {
     "name": "stdout",
     "output_type": "stream",
     "text": [
      "0\n"
     ]
    },
    {
     "data": {
      "text/plain": [
       "[<matplotlib.lines.Line2D at 0x17b57f978>]"
      ]
     },
     "execution_count": 157,
     "metadata": {},
     "output_type": "execute_result"
    },
    {
     "data": {
      "image/png": "[encoded data removed]",
      "text/plain": [
       "<Figure size 432x288 with 1 Axes>"
      ]
     },
     "metadata": {
      "needs_background": "light"
     },
     "output_type": "display_data"
    }
   ],
   "source": [
    "\n",
    "xs = np.linspace(0, max_alpha, num_inter_models)\n",
    "ys = [np.mean(traces_batch[a]) for a in traces_batch]\n",
    "ys_eigs = [eigenvals[i] for i in eigenvals]\n",
    "print(np.argmin(ys))\n",
    "# plt.plot(xs, ys)\n",
    "plt.plot(xs, ys_eigs)\n",
    "# plt.ylim([0, 10000])\n"
   ]
  },
  {
   "cell_type": "markdown",
   "metadata": {},
   "source": [
    "# 2D"
   ]
  },
  {
   "cell_type": "code",
   "execution_count": 54,
   "metadata": {},
   "outputs": [],
   "source": [
    "def create_offset_basis(offset, model1, model2):\n",
    "    v1_vec = get_params_vec(model1) - get_params_vec(offset)\n",
    "    w2_vec = get_params_vec(model2) - get_params_vec(offset)\n",
    "    proj_w2 = torch.matmul(v1_vec, w2_vec) * v1_vec / torch.norm(v1_vec) ** 2\n",
    "    assert torch.norm(proj_w2) != torch.norm(w2_vec) # make sure not lin dep\n",
    "    v2_vec = w2_vec - proj_w2\n",
    "    return offset, v1_vec, w2_vec"
   ]
  },
  {
   "cell_type": "code",
   "execution_count": 55,
   "metadata": {
    "scrolled": true
   },
   "outputs": [],
   "source": [
    "num_inter_models = 11\n",
    "alpha_bound = [-3, 3]\n",
    "beta_bound = [-3, 3]\n",
    "func = lambda x: get_net_loss(x, full_train_loader, full_dataset=False)\n",
    "# func = lambda net: np.mean(list(get_models_trace({\"net\": net}, d_t, criterion, full_dataset=False).values())[0])\n",
    "\n",
    "X = np.linspace(alpha_bound[0], alpha_bound[1], num_inter_models)\n",
    "Y = np.linspace(beta_bound[0], beta_bound[1], num_inter_models)\n",
    "\n",
    "offset, v1_vec, v2_vec = create_offset_basis(model_a, model_b, model_c)\n",
    "\n",
    "vals = get_model_interpolate_2d(offset, v1_vec, v2_vec, num_inter_models, alpha_bound, beta_bound, func)\n",
    "\n"
   ]
  },
  {
   "cell_type": "code",
   "execution_count": 56,
   "metadata": {},
   "outputs": [
    {
     "data": {
      "application/vnd.plotly.v1+json": {
       "config": {
        "plotlyServerURL": "https://plot.ly"
       },
       "data": [
        {
         "colorscale": [
          [
           0,
           "#440154"
          ],
          [
           0.1111111111111111,
           "#482878"
          ],
          [
           0.2222222222222222,
           "#3e4989"
          ],
          [
           0.3333333333333333,
           "#31688e"
          ],
          [
           0.4444444444444444,
           "#26828e"
          ],
          [
           0.5555555555555556,
           "#1f9e89"
          ],
          [
           0.6666666666666666,
           "#35b779"
          ],
          [
           0.7777777777777778,
           "#6ece58"
          ],
          [
           0.8888888888888888,
           "#b5de2b"
          ],
          [
           1,
           "#fde725"
          ]
         ],
         "type": "surface",
         "x": [
          -3,
          -2.4,
          -1.8,
          -1.2000000000000002,
          -0.6000000000000001,
          0,
          0.5999999999999996,
          1.2000000000000002,
          1.7999999999999998,
          2.3999999999999995,
          3
         ],
         "y": [
          -3,
          -2.4,
          -1.8,
          -1.2000000000000002,
          -0.6000000000000001,
          0,
          0.5999999999999996,
          1.2000000000000002,
          1.7999999999999998,
          2.3999999999999995,
          3
         ],
         "z": [
          [
           0.9099143147468567,
           0.908491849899292,
           0.9073300957679749,
           0.9064059853553772,
           0.9057018756866455,
           0.9051867723464966,
           0.9048082828521729,
           0.9045434594154358,
           0.904392421245575,
           0.9043210744857788,
           0.9042941927909851
          ],
          [
           0.9085267186164856,
           0.9073628187179565,
           0.9064366817474365,
           0.9057284593582153,
           0.9052092432975769,
           0.9048241972923279,
           0.9045534729957581,
           0.904392421245575,
           0.9043175578117371,
           0.904291033744812,
           0.904283344745636
          ],
          [
           0.9074007272720337,
           0.9064722657203674,
           0.9057599306106567,
           0.9052342176437378,
           0.904844343662262,
           0.9045661687850952,
           0.9043944478034973,
           0.9043164253234863,
           0.9042878150939941,
           0.9042796492576599,
           0.9042890667915344
          ],
          [
           0.9065110087394714,
           0.9057937860488892,
           0.9052609205245972,
           0.9048662185668945,
           0.9045814871788025,
           0.9043996334075928,
           0.9043158888816833,
           0.9042861461639404,
           0.9042763113975525,
           0.9042879343032837,
           0.9043828248977661
          ],
          [
           0.9058321118354797,
           0.9052897095680237,
           0.904890239238739,
           0.9045991897583008,
           0.9044071435928345,
           0.9043156504631042,
           0.9042844176292419,
           0.9042736291885376,
           0.9042881727218628,
           0.9043919444084167,
           0.9046508073806763
          ],
          [
           0.9053255915641785,
           0.9049175381660461,
           0.9046193957328796,
           0.9044188857078552,
           0.9043180346488953,
           0.9042831063270569,
           0.9042719006538391,
           0.904288649559021,
           0.9044023156166077,
           0.9046797752380371,
           0.9052502512931824
          ],
          [
           0.9049462676048279,
           0.9046421051025391,
           0.9044323563575745,
           0.90432208776474,
           0.9042811393737793,
           0.9042712450027466,
           0.9042904376983643,
           0.9044139981269836,
           0.9047116041183472,
           0.9053134918212891,
           0.906243085861206
          ],
          [
           0.9046661853790283,
           0.9044495224952698,
           0.904327392578125,
           0.9042815566062927,
           0.9042710661888123,
           0.9042927026748657,
           0.904426097869873,
           0.9047482013702393,
           0.9053803086280823,
           0.9063466191291809,
           0.9077402353286743
          ],
          [
           0.9044694304466248,
           0.9043347239494324,
           0.9042831063270569,
           0.9042701721191406,
           0.9042981863021851,
           0.9044420719146729,
           0.9047887325286865,
           0.9054505825042725,
           0.9064547419548035,
           0.9078894257545471,
           0.9097869396209717
          ],
          [
           0.9043421149253845,
           0.9042859673500061,
           0.9042714238166809,
           0.9043035507202148,
           0.9044577479362488,
           0.9048339128494263,
           0.905526340007782,
           0.9065679311752319,
           0.9080435633659363,
           0.9099878668785095,
           0.9125140905380249
          ],
          [
           0.9042909145355225,
           0.9042727947235107,
           0.9043108820915222,
           0.9044769406318665,
           0.9048854112625122,
           0.9056089520454407,
           0.9066869020462036,
           0.9082029461860657,
           0.9101946353912354,
           0.9127764701843262,
           0.9160087704658508
          ]
         ]
        }
       ],
       "layout": {
        "template": {
         "data": {
          "bar": [
           {
            "error_x": {
             "color": "#2a3f5f"
            },
            "error_y": {
             "color": "#2a3f5f"
            },
            "marker": {
             "line": {
              "color": "#E5ECF6",
              "width": 0.5
             }
            },
            "type": "bar"
           }
          ],
          "barpolar": [
           {
            "marker": {
             "line": {
              "color": "#E5ECF6",
              "width": 0.5
             }
            },
            "type": "barpolar"
           }
          ],
          "carpet": [
           {
            "aaxis": {
             "endlinecolor": "#2a3f5f",
             "gridcolor": "white",
             "linecolor": "white",
             "minorgridcolor": "white",
             "startlinecolor": "#2a3f5f"
            },
            "baxis": {
             "endlinecolor": "#2a3f5f",
             "gridcolor": "white",
             "linecolor": "white",
             "minorgridcolor": "white",
             "startlinecolor": "#2a3f5f"
            },
            "type": "carpet"
           }
          ],
          "choropleth": [
           {
            "colorbar": {
             "outlinewidth": 0,
             "ticks": ""
            },
            "type": "choropleth"
           }
          ],
          "contour": [
           {
            "colorbar": {
             "outlinewidth": 0,
             "ticks": ""
            },
            "colorscale": [
             [
              0,
              "#0d0887"
             ],
             [
              0.1111111111111111,
              "#46039f"
             ],
             [
              0.2222222222222222,
              "#7201a8"
             ],
             [
              0.3333333333333333,
              "#9c179e"
             ],
             [
              0.4444444444444444,
              "#bd3786"
             ],
             [
              0.5555555555555556,
              "#d8576b"
             ],
             [
              0.6666666666666666,
              "#ed7953"
             ],
             [
              0.7777777777777778,
              "#fb9f3a"
             ],
             [
              0.8888888888888888,
              "#fdca26"
             ],
             [
              1,
              "#f0f921"
             ]
            ],
            "type": "contour"
           }
          ],
          "contourcarpet": [
           {
            "colorbar": {
             "outlinewidth": 0,
             "ticks": ""
            },
            "type": "contourcarpet"
           }
          ],
          "heatmap": [
           {
            "colorbar": {
             "outlinewidth": 0,
             "ticks": ""
            },
            "colorscale": [
             [
              0,
              "#0d0887"
             ],
             [
              0.1111111111111111,
              "#46039f"
             ],
             [
              0.2222222222222222,
              "#7201a8"
             ],
             [
              0.3333333333333333,
              "#9c179e"
             ],
             [
              0.4444444444444444,
              "#bd3786"
             ],
             [
              0.5555555555555556,
              "#d8576b"
             ],
             [
              0.6666666666666666,
              "#ed7953"
             ],
             [
              0.7777777777777778,
              "#fb9f3a"
             ],
             [
              0.8888888888888888,
              "#fdca26"
             ],
             [
              1,
              "#f0f921"
             ]
            ],
            "type": "heatmap"
           }
          ],
          "heatmapgl": [
           {
            "colorbar": {
             "outlinewidth": 0,
             "ticks": ""
            },
            "colorscale": [
             [
              0,
              "#0d0887"
             ],
             [
              0.1111111111111111,
              "#46039f"
             ],
             [
              0.2222222222222222,
              "#7201a8"
             ],
             [
              0.3333333333333333,
              "#9c179e"
             ],
             [
              0.4444444444444444,
              "#bd3786"
             ],
             [
              0.5555555555555556,
              "#d8576b"
             ],
             [
              0.6666666666666666,
              "#ed7953"
             ],
             [
              0.7777777777777778,
              "#fb9f3a"
             ],
             [
              0.8888888888888888,
              "#fdca26"
             ],
             [
              1,
              "#f0f921"
             ]
            ],
            "type": "heatmapgl"
           }
          ],
          "histogram": [
           {
            "marker": {
             "colorbar": {
              "outlinewidth": 0,
              "ticks": ""
             }
            },
            "type": "histogram"
           }
          ],
          "histogram2d": [
           {
            "colorbar": {
             "outlinewidth": 0,
             "ticks": ""
            },
            "colorscale": [
             [
              0,
              "#0d0887"
             ],
             [
              0.1111111111111111,
              "#46039f"
             ],
             [
              0.2222222222222222,
              "#7201a8"
             ],
             [
              0.3333333333333333,
              "#9c179e"
             ],
             [
              0.4444444444444444,
              "#bd3786"
             ],
             [
              0.5555555555555556,
              "#d8576b"
             ],
             [
              0.6666666666666666,
              "#ed7953"
             ],
             [
              0.7777777777777778,
              "#fb9f3a"
             ],
             [
              0.8888888888888888,
              "#fdca26"
             ],
             [
              1,
              "#f0f921"
             ]
            ],
            "type": "histogram2d"
           }
          ],
          "histogram2dcontour": [
           {
            "colorbar": {
             "outlinewidth": 0,
             "ticks": ""
            },
            "colorscale": [
             [
              0,
              "#0d0887"
             ],
             [
              0.1111111111111111,
              "#46039f"
             ],
             [
              0.2222222222222222,
              "#7201a8"
             ],
             [
              0.3333333333333333,
              "#9c179e"
             ],
             [
              0.4444444444444444,
              "#bd3786"
             ],
             [
              0.5555555555555556,
              "#d8576b"
             ],
             [
              0.6666666666666666,
              "#ed7953"
             ],
             [
              0.7777777777777778,
              "#fb9f3a"
             ],
             [
              0.8888888888888888,
              "#fdca26"
             ],
             [
              1,
              "#f0f921"
             ]
            ],
            "type": "histogram2dcontour"
           }
          ],
          "mesh3d": [
           {
            "colorbar": {
             "outlinewidth": 0,
             "ticks": ""
            },
            "type": "mesh3d"
           }
          ],
          "parcoords": [
           {
            "line": {
             "colorbar": {
              "outlinewidth": 0,
              "ticks": ""
             }
            },
            "type": "parcoords"
           }
          ],
          "scatter": [
           {
            "marker": {
             "colorbar": {
              "outlinewidth": 0,
              "ticks": ""
             }
            },
            "type": "scatter"
           }
          ],
          "scatter3d": [
           {
            "line": {
             "colorbar": {
              "outlinewidth": 0,
              "ticks": ""
             }
            },
            "marker": {
             "colorbar": {
              "outlinewidth": 0,
              "ticks": ""
             }
            },
            "type": "scatter3d"
           }
          ],
          "scattercarpet": [
           {
            "marker": {
             "colorbar": {
              "outlinewidth": 0,
              "ticks": ""
             }
            },
            "type": "scattercarpet"
           }
          ],
          "scattergeo": [
           {
            "marker": {
             "colorbar": {
              "outlinewidth": 0,
              "ticks": ""
             }
            },
            "type": "scattergeo"
           }
          ],
          "scattergl": [
           {
            "marker": {
             "colorbar": {
              "outlinewidth": 0,
              "ticks": ""
             }
            },
            "type": "scattergl"
           }
          ],
          "scattermapbox": [
           {
            "marker": {
             "colorbar": {
              "outlinewidth": 0,
              "ticks": ""
             }
            },
            "type": "scattermapbox"
           }
          ],
          "scatterpolar": [
           {
            "marker": {
             "colorbar": {
              "outlinewidth": 0,
              "ticks": ""
             }
            },
            "type": "scatterpolar"
           }
          ],
          "scatterpolargl": [
           {
            "marker": {
             "colorbar": {
              "outlinewidth": 0,
              "ticks": ""
             }
            },
            "type": "scatterpolargl"
           }
          ],
          "scatterternary": [
           {
            "marker": {
             "colorbar": {
              "outlinewidth": 0,
              "ticks": ""
             }
            },
            "type": "scatterternary"
           }
          ],
          "surface": [
           {
            "colorbar": {
             "outlinewidth": 0,
             "ticks": ""
            },
            "colorscale": [
             [
              0,
              "#0d0887"
             ],
             [
              0.1111111111111111,
              "#46039f"
             ],
             [
              0.2222222222222222,
              "#7201a8"
             ],
             [
              0.3333333333333333,
              "#9c179e"
             ],
             [
              0.4444444444444444,
              "#bd3786"
             ],
             [
              0.5555555555555556,
              "#d8576b"
             ],
             [
              0.6666666666666666,
              "#ed7953"
             ],
             [
              0.7777777777777778,
              "#fb9f3a"
             ],
             [
              0.8888888888888888,
              "#fdca26"
             ],
             [
              1,
              "#f0f921"
             ]
            ],
            "type": "surface"
           }
          ],
          "table": [
           {
            "cells": {
             "fill": {
              "color": "#EBF0F8"
             },
             "line": {
              "color": "white"
             }
            },
            "header": {
             "fill": {
              "color": "#C8D4E3"
             },
             "line": {
              "color": "white"
             }
            },
            "type": "table"
           }
          ]
         },
         "layout": {
          "annotationdefaults": {
           "arrowcolor": "#2a3f5f",
           "arrowhead": 0,
           "arrowwidth": 1
          },
          "colorscale": {
           "diverging": [
            [
             0,
             "#8e0152"
            ],
            [
             0.1,
             "#c51b7d"
            ],
            [
             0.2,
             "#de77ae"
            ],
            [
             0.3,
             "#f1b6da"
            ],
            [
             0.4,
             "#fde0ef"
            ],
            [
             0.5,
             "#f7f7f7"
            ],
            [
             0.6,
             "#e6f5d0"
            ],
            [
             0.7,
             "#b8e186"
            ],
            [
             0.8,
             "#7fbc41"
            ],
            [
             0.9,
             "#4d9221"
            ],
            [
             1,
             "#276419"
            ]
           ],
           "sequential": [
            [
             0,
             "#0d0887"
            ],
            [
             0.1111111111111111,
             "#46039f"
            ],
            [
             0.2222222222222222,
             "#7201a8"
            ],
            [
             0.3333333333333333,
             "#9c179e"
            ],
            [
             0.4444444444444444,
             "#bd3786"
            ],
            [
             0.5555555555555556,
             "#d8576b"
            ],
            [
             0.6666666666666666,
             "#ed7953"
            ],
            [
             0.7777777777777778,
             "#fb9f3a"
            ],
            [
             0.8888888888888888,
             "#fdca26"
            ],
            [
             1,
             "#f0f921"
            ]
           ],
           "sequentialminus": [
            [
             0,
             "#0d0887"
            ],
            [
             0.1111111111111111,
             "#46039f"
            ],
            [
             0.2222222222222222,
             "#7201a8"
            ],
            [
             0.3333333333333333,
             "#9c179e"
            ],
            [
             0.4444444444444444,
             "#bd3786"
            ],
            [
             0.5555555555555556,
             "#d8576b"
            ],
            [
             0.6666666666666666,
             "#ed7953"
            ],
            [
             0.7777777777777778,
             "#fb9f3a"
            ],
            [
             0.8888888888888888,
             "#fdca26"
            ],
            [
             1,
             "#f0f921"
            ]
           ]
          },
          "colorway": [
           "#636efa",
           "#EF553B",
           "#00cc96",
           "#ab63fa",
           "#FFA15A",
           "#19d3f3",
           "#FF6692",
           "#B6E880",
           "#FF97FF",
           "#FECB52"
          ],
          "font": {
           "color": "#2a3f5f"
          },
          "geo": {
           "bgcolor": "white",
           "lakecolor": "white",
           "landcolor": "#E5ECF6",
           "showlakes": true,
           "showland": true,
           "subunitcolor": "white"
          },
          "hoverlabel": {
           "align": "left"
          },
          "hovermode": "closest",
          "mapbox": {
           "style": "light"
          },
          "paper_bgcolor": "white",
          "plot_bgcolor": "#E5ECF6",
          "polar": {
           "angularaxis": {
            "gridcolor": "white",
            "linecolor": "white",
            "ticks": ""
           },
           "bgcolor": "#E5ECF6",
           "radialaxis": {
            "gridcolor": "white",
            "linecolor": "white",
            "ticks": ""
           }
          },
          "scene": {
           "xaxis": {
            "backgroundcolor": "#E5ECF6",
            "gridcolor": "white",
            "gridwidth": 2,
            "linecolor": "white",
            "showbackground": true,
            "ticks": "",
            "zerolinecolor": "white"
           },
           "yaxis": {
            "backgroundcolor": "#E5ECF6",
            "gridcolor": "white",
            "gridwidth": 2,
            "linecolor": "white",
            "showbackground": true,
            "ticks": "",
            "zerolinecolor": "white"
           },
           "zaxis": {
            "backgroundcolor": "#E5ECF6",
            "gridcolor": "white",
            "gridwidth": 2,
            "linecolor": "white",
            "showbackground": true,
            "ticks": "",
            "zerolinecolor": "white"
           }
          },
          "shapedefaults": {
           "line": {
            "color": "#2a3f5f"
           }
          },
          "ternary": {
           "aaxis": {
            "gridcolor": "white",
            "linecolor": "white",
            "ticks": ""
           },
           "baxis": {
            "gridcolor": "white",
            "linecolor": "white",
            "ticks": ""
           },
           "bgcolor": "#E5ECF6",
           "caxis": {
            "gridcolor": "white",
            "linecolor": "white",
            "ticks": ""
           }
          },
          "title": {
           "x": 0.05
          },
          "xaxis": {
           "automargin": true,
           "gridcolor": "white",
           "linecolor": "white",
           "ticks": "",
           "zerolinecolor": "white",
           "zerolinewidth": 2
          },
          "yaxis": {
           "automargin": true,
           "gridcolor": "white",
           "linecolor": "white",
           "ticks": "",
           "zerolinecolor": "white",
           "zerolinewidth": 2
          }
         }
        }
       }
      },
      "text/html": [
       "<div>\n",
       "        \n",
       "        \n",
       "            <div id=\"92aa730d-3a5d-4685-a3b0-ccf86f21be86\" class=\"plotly-graph-div\" style=\"height:525px; width:100%;\"></div>\n",
       "            <script type=\"text/javascript\">\n",
       "                require([\"plotly\"], function(Plotly) {\n",
       "                    window.PLOTLYENV=window.PLOTLYENV || {};\n",
       "                    \n",
       "                if (document.getElementById(\"92aa730d-3a5d-4685-a3b0-ccf86f21be86\")) {\n",
       "                    Plotly.newPlot(\n",
       "                        '92aa730d-3a5d-4685-a3b0-ccf86f21be86',\n",
       "                        [{\"colorscale\": [[0.0, \"#440154\"], [0.1111111111111111, \"#482878\"], [0.2222222222222222, \"#3e4989\"], [0.3333333333333333, \"#31688e\"], [0.4444444444444444, \"#26828e\"], [0.5555555555555556, \"#1f9e89\"], [0.6666666666666666, \"#35b779\"], [0.7777777777777778, \"#6ece58\"], [0.8888888888888888, \"#b5de2b\"], [1.0, \"#fde725\"]], \"type\": \"surface\", \"x\": [-3.0, -2.4, -1.8, -1.2000000000000002, -0.6000000000000001, 0.0, 0.5999999999999996, 1.2000000000000002, 1.7999999999999998, 2.3999999999999995, 3.0], \"y\": [-3.0, -2.4, -1.8, -1.2000000000000002, -0.6000000000000001, 0.0, 0.5999999999999996, 1.2000000000000002, 1.7999999999999998, 2.3999999999999995, 3.0], \"z\": [[0.9099143147468567, 0.908491849899292, 0.9073300957679749, 0.9064059853553772, 0.9057018756866455, 0.9051867723464966, 0.9048082828521729, 0.9045434594154358, 0.904392421245575, 0.9043210744857788, 0.9042941927909851], [0.9085267186164856, 0.9073628187179565, 0.9064366817474365, 0.9057284593582153, 0.9052092432975769, 0.9048241972923279, 0.9045534729957581, 0.904392421245575, 0.9043175578117371, 0.904291033744812, 0.904283344745636], [0.9074007272720337, 0.9064722657203674, 0.9057599306106567, 0.9052342176437378, 0.904844343662262, 0.9045661687850952, 0.9043944478034973, 0.9043164253234863, 0.9042878150939941, 0.9042796492576599, 0.9042890667915344], [0.9065110087394714, 0.9057937860488892, 0.9052609205245972, 0.9048662185668945, 0.9045814871788025, 0.9043996334075928, 0.9043158888816833, 0.9042861461639404, 0.9042763113975525, 0.9042879343032837, 0.9043828248977661], [0.9058321118354797, 0.9052897095680237, 0.904890239238739, 0.9045991897583008, 0.9044071435928345, 0.9043156504631042, 0.9042844176292419, 0.9042736291885376, 0.9042881727218628, 0.9043919444084167, 0.9046508073806763], [0.9053255915641785, 0.9049175381660461, 0.9046193957328796, 0.9044188857078552, 0.9043180346488953, 0.9042831063270569, 0.9042719006538391, 0.904288649559021, 0.9044023156166077, 0.9046797752380371, 0.9052502512931824], [0.9049462676048279, 0.9046421051025391, 0.9044323563575745, 0.90432208776474, 0.9042811393737793, 0.9042712450027466, 0.9042904376983643, 0.9044139981269836, 0.9047116041183472, 0.9053134918212891, 0.906243085861206], [0.9046661853790283, 0.9044495224952698, 0.904327392578125, 0.9042815566062927, 0.9042710661888123, 0.9042927026748657, 0.904426097869873, 0.9047482013702393, 0.9053803086280823, 0.9063466191291809, 0.9077402353286743], [0.9044694304466248, 0.9043347239494324, 0.9042831063270569, 0.9042701721191406, 0.9042981863021851, 0.9044420719146729, 0.9047887325286865, 0.9054505825042725, 0.9064547419548035, 0.9078894257545471, 0.9097869396209717], [0.9043421149253845, 0.9042859673500061, 0.9042714238166809, 0.9043035507202148, 0.9044577479362488, 0.9048339128494263, 0.905526340007782, 0.9065679311752319, 0.9080435633659363, 0.9099878668785095, 0.9125140905380249], [0.9042909145355225, 0.9042727947235107, 0.9043108820915222, 0.9044769406318665, 0.9048854112625122, 0.9056089520454407, 0.9066869020462036, 0.9082029461860657, 0.9101946353912354, 0.9127764701843262, 0.9160087704658508]]}],\n",
       "                        {\"template\": {\"data\": {\"bar\": [{\"error_x\": {\"color\": \"#2a3f5f\"}, \"error_y\": {\"color\": \"#2a3f5f\"}, \"marker\": {\"line\": {\"color\": \"#E5ECF6\", \"width\": 0.5}}, \"type\": \"bar\"}], \"barpolar\": [{\"marker\": {\"line\": {\"color\": \"#E5ECF6\", \"width\": 0.5}}, \"type\": \"barpolar\"}], \"carpet\": [{\"aaxis\": {\"endlinecolor\": \"#2a3f5f\", \"gridcolor\": \"white\", \"linecolor\": \"white\", \"minorgridcolor\": \"white\", \"startlinecolor\": \"#2a3f5f\"}, \"baxis\": {\"endlinecolor\": \"#2a3f5f\", \"gridcolor\": \"white\", \"linecolor\": \"white\", \"minorgridcolor\": \"white\", \"startlinecolor\": \"#2a3f5f\"}, \"type\": \"carpet\"}], \"choropleth\": [{\"colorbar\": {\"outlinewidth\": 0, \"ticks\": \"\"}, \"type\": \"choropleth\"}], \"contour\": [{\"colorbar\": {\"outlinewidth\": 0, \"ticks\": \"\"}, \"colorscale\": [[0.0, \"#0d0887\"], [0.1111111111111111, \"#46039f\"], [0.2222222222222222, \"#7201a8\"], [0.3333333333333333, \"#9c179e\"], [0.4444444444444444, \"#bd3786\"], [0.5555555555555556, \"#d8576b\"], [0.6666666666666666, \"#ed7953\"], [0.7777777777777778, \"#fb9f3a\"], [0.8888888888888888, \"#fdca26\"], [1.0, \"#f0f921\"]], \"type\": \"contour\"}], \"contourcarpet\": [{\"colorbar\": {\"outlinewidth\": 0, \"ticks\": \"\"}, \"type\": \"contourcarpet\"}], \"heatmap\": [{\"colorbar\": {\"outlinewidth\": 0, \"ticks\": \"\"}, \"colorscale\": [[0.0, \"#0d0887\"], [0.1111111111111111, \"#46039f\"], [0.2222222222222222, \"#7201a8\"], [0.3333333333333333, \"#9c179e\"], [0.4444444444444444, \"#bd3786\"], [0.5555555555555556, \"#d8576b\"], [0.6666666666666666, \"#ed7953\"], [0.7777777777777778, \"#fb9f3a\"], [0.8888888888888888, \"#fdca26\"], [1.0, \"#f0f921\"]], \"type\": \"heatmap\"}], \"heatmapgl\": [{\"colorbar\": {\"outlinewidth\": 0, \"ticks\": \"\"}, \"colorscale\": [[0.0, \"#0d0887\"], [0.1111111111111111, \"#46039f\"], [0.2222222222222222, \"#7201a8\"], [0.3333333333333333, \"#9c179e\"], [0.4444444444444444, \"#bd3786\"], [0.5555555555555556, \"#d8576b\"], [0.6666666666666666, \"#ed7953\"], [0.7777777777777778, \"#fb9f3a\"], [0.8888888888888888, \"#fdca26\"], [1.0, \"#f0f921\"]], \"type\": \"heatmapgl\"}], \"histogram\": [{\"marker\": {\"colorbar\": {\"outlinewidth\": 0, \"ticks\": \"\"}}, \"type\": \"histogram\"}], \"histogram2d\": [{\"colorbar\": {\"outlinewidth\": 0, \"ticks\": \"\"}, \"colorscale\": [[0.0, \"#0d0887\"], [0.1111111111111111, \"#46039f\"], [0.2222222222222222, \"#7201a8\"], [0.3333333333333333, \"#9c179e\"], [0.4444444444444444, \"#bd3786\"], [0.5555555555555556, \"#d8576b\"], [0.6666666666666666, \"#ed7953\"], [0.7777777777777778, \"#fb9f3a\"], [0.8888888888888888, \"#fdca26\"], [1.0, \"#f0f921\"]], \"type\": \"histogram2d\"}], \"histogram2dcontour\": [{\"colorbar\": {\"outlinewidth\": 0, \"ticks\": \"\"}, \"colorscale\": [[0.0, \"#0d0887\"], [0.1111111111111111, \"#46039f\"], [0.2222222222222222, \"#7201a8\"], [0.3333333333333333, \"#9c179e\"], [0.4444444444444444, \"#bd3786\"], [0.5555555555555556, \"#d8576b\"], [0.6666666666666666, \"#ed7953\"], [0.7777777777777778, \"#fb9f3a\"], [0.8888888888888888, \"#fdca26\"], [1.0, \"#f0f921\"]], \"type\": \"histogram2dcontour\"}], \"mesh3d\": [{\"colorbar\": {\"outlinewidth\": 0, \"ticks\": \"\"}, \"type\": \"mesh3d\"}], \"parcoords\": [{\"line\": {\"colorbar\": {\"outlinewidth\": 0, \"ticks\": \"\"}}, \"type\": \"parcoords\"}], \"scatter\": [{\"marker\": {\"colorbar\": {\"outlinewidth\": 0, \"ticks\": \"\"}}, \"type\": \"scatter\"}], \"scatter3d\": [{\"line\": {\"colorbar\": {\"outlinewidth\": 0, \"ticks\": \"\"}}, \"marker\": {\"colorbar\": {\"outlinewidth\": 0, \"ticks\": \"\"}}, \"type\": \"scatter3d\"}], \"scattercarpet\": [{\"marker\": {\"colorbar\": {\"outlinewidth\": 0, \"ticks\": \"\"}}, \"type\": \"scattercarpet\"}], \"scattergeo\": [{\"marker\": {\"colorbar\": {\"outlinewidth\": 0, \"ticks\": \"\"}}, \"type\": \"scattergeo\"}], \"scattergl\": [{\"marker\": {\"colorbar\": {\"outlinewidth\": 0, \"ticks\": \"\"}}, \"type\": \"scattergl\"}], \"scattermapbox\": [{\"marker\": {\"colorbar\": {\"outlinewidth\": 0, \"ticks\": \"\"}}, \"type\": \"scattermapbox\"}], \"scatterpolar\": [{\"marker\": {\"colorbar\": {\"outlinewidth\": 0, \"ticks\": \"\"}}, \"type\": \"scatterpolar\"}], \"scatterpolargl\": [{\"marker\": {\"colorbar\": {\"outlinewidth\": 0, \"ticks\": \"\"}}, \"type\": \"scatterpolargl\"}], \"scatterternary\": [{\"marker\": {\"colorbar\": {\"outlinewidth\": 0, \"ticks\": \"\"}}, \"type\": \"scatterternary\"}], \"surface\": [{\"colorbar\": {\"outlinewidth\": 0, \"ticks\": \"\"}, \"colorscale\": [[0.0, \"#0d0887\"], [0.1111111111111111, \"#46039f\"], [0.2222222222222222, \"#7201a8\"], [0.3333333333333333, \"#9c179e\"], [0.4444444444444444, \"#bd3786\"], [0.5555555555555556, \"#d8576b\"], [0.6666666666666666, \"#ed7953\"], [0.7777777777777778, \"#fb9f3a\"], [0.8888888888888888, \"#fdca26\"], [1.0, \"#f0f921\"]], \"type\": \"surface\"}], \"table\": [{\"cells\": {\"fill\": {\"color\": \"#EBF0F8\"}, \"line\": {\"color\": \"white\"}}, \"header\": {\"fill\": {\"color\": \"#C8D4E3\"}, \"line\": {\"color\": \"white\"}}, \"type\": \"table\"}]}, \"layout\": {\"annotationdefaults\": {\"arrowcolor\": \"#2a3f5f\", \"arrowhead\": 0, \"arrowwidth\": 1}, \"colorscale\": {\"diverging\": [[0, \"#8e0152\"], [0.1, \"#c51b7d\"], [0.2, \"#de77ae\"], [0.3, \"#f1b6da\"], [0.4, \"#fde0ef\"], [0.5, \"#f7f7f7\"], [0.6, \"#e6f5d0\"], [0.7, \"#b8e186\"], [0.8, \"#7fbc41\"], [0.9, \"#4d9221\"], [1, \"#276419\"]], \"sequential\": [[0.0, \"#0d0887\"], [0.1111111111111111, \"#46039f\"], [0.2222222222222222, \"#7201a8\"], [0.3333333333333333, \"#9c179e\"], [0.4444444444444444, \"#bd3786\"], [0.5555555555555556, \"#d8576b\"], [0.6666666666666666, \"#ed7953\"], [0.7777777777777778, \"#fb9f3a\"], [0.8888888888888888, \"#fdca26\"], [1.0, \"#f0f921\"]], \"sequentialminus\": [[0.0, \"#0d0887\"], [0.1111111111111111, \"#46039f\"], [0.2222222222222222, \"#7201a8\"], [0.3333333333333333, \"#9c179e\"], [0.4444444444444444, \"#bd3786\"], [0.5555555555555556, \"#d8576b\"], [0.6666666666666666, \"#ed7953\"], [0.7777777777777778, \"#fb9f3a\"], [0.8888888888888888, \"#fdca26\"], [1.0, \"#f0f921\"]]}, \"colorway\": [\"#636efa\", \"#EF553B\", \"#00cc96\", \"#ab63fa\", \"#FFA15A\", \"#19d3f3\", \"#FF6692\", \"#B6E880\", \"#FF97FF\", \"#FECB52\"], \"font\": {\"color\": \"#2a3f5f\"}, \"geo\": {\"bgcolor\": \"white\", \"lakecolor\": \"white\", \"landcolor\": \"#E5ECF6\", \"showlakes\": true, \"showland\": true, \"subunitcolor\": \"white\"}, \"hoverlabel\": {\"align\": \"left\"}, \"hovermode\": \"closest\", \"mapbox\": {\"style\": \"light\"}, \"paper_bgcolor\": \"white\", \"plot_bgcolor\": \"#E5ECF6\", \"polar\": {\"angularaxis\": {\"gridcolor\": \"white\", \"linecolor\": \"white\", \"ticks\": \"\"}, \"bgcolor\": \"#E5ECF6\", \"radialaxis\": {\"gridcolor\": \"white\", \"linecolor\": \"white\", \"ticks\": \"\"}}, \"scene\": {\"xaxis\": {\"backgroundcolor\": \"#E5ECF6\", \"gridcolor\": \"white\", \"gridwidth\": 2, \"linecolor\": \"white\", \"showbackground\": true, \"ticks\": \"\", \"zerolinecolor\": \"white\"}, \"yaxis\": {\"backgroundcolor\": \"#E5ECF6\", \"gridcolor\": \"white\", \"gridwidth\": 2, \"linecolor\": \"white\", \"showbackground\": true, \"ticks\": \"\", \"zerolinecolor\": \"white\"}, \"zaxis\": {\"backgroundcolor\": \"#E5ECF6\", \"gridcolor\": \"white\", \"gridwidth\": 2, \"linecolor\": \"white\", \"showbackground\": true, \"ticks\": \"\", \"zerolinecolor\": \"white\"}}, \"shapedefaults\": {\"line\": {\"color\": \"#2a3f5f\"}}, \"ternary\": {\"aaxis\": {\"gridcolor\": \"white\", \"linecolor\": \"white\", \"ticks\": \"\"}, \"baxis\": {\"gridcolor\": \"white\", \"linecolor\": \"white\", \"ticks\": \"\"}, \"bgcolor\": \"#E5ECF6\", \"caxis\": {\"gridcolor\": \"white\", \"linecolor\": \"white\", \"ticks\": \"\"}}, \"title\": {\"x\": 0.05}, \"xaxis\": {\"automargin\": true, \"gridcolor\": \"white\", \"linecolor\": \"white\", \"ticks\": \"\", \"zerolinecolor\": \"white\", \"zerolinewidth\": 2}, \"yaxis\": {\"automargin\": true, \"gridcolor\": \"white\", \"linecolor\": \"white\", \"ticks\": \"\", \"zerolinecolor\": \"white\", \"zerolinewidth\": 2}}}},\n",
       "                        {\"responsive\": true}\n",
       "                    ).then(function(){\n",
       "                            \n",
       "var gd = document.getElementById('92aa730d-3a5d-4685-a3b0-ccf86f21be86');\n",
       "var x = new MutationObserver(function (mutations, observer) {{\n",
       "        var display = window.getComputedStyle(gd).display;\n",
       "        if (!display || display === 'none') {{\n",
       "            console.log([gd, 'removed!']);\n",
       "            Plotly.purge(gd);\n",
       "            observer.disconnect();\n",
       "        }}\n",
       "}});\n",
       "\n",
       "// Listen for the removal of the full notebook cells\n",
       "var notebookContainer = gd.closest('#notebook-container');\n",
       "if (notebookContainer) {{\n",
       "    x.observe(notebookContainer, {childList: true});\n",
       "}}\n",
       "\n",
       "// Listen for the clearing of the current output cell\n",
       "var outputEl = gd.closest('.output');\n",
       "if (outputEl) {{\n",
       "    x.observe(outputEl, {childList: true});\n",
       "}}\n",
       "\n",
       "                        })\n",
       "                };\n",
       "                });\n",
       "            </script>\n",
       "        </div>"
      ]
     },
     "metadata": {},
     "output_type": "display_data"
    }
   ],
   "source": [
    "import plotly.graph_objects as go\n",
    "\n",
    "fig = go.Figure(data=[go.Surface(z=vals, x=X, y=Y, colorscale=\"Viridis\")])\n",
    "\n",
    "# fig.update_layout(title='Function', autosize=False,\n",
    "#                   width=1000, height=800,\n",
    "#                   margin=dict(l=65, r=50, b=65, t=90))\n",
    "\n",
    "fig.show()"
   ]
  },
  {
   "cell_type": "code",
   "execution_count": 507,
   "metadata": {},
   "outputs": [
    {
     "data": {
      "application/vnd.plotly.v1+json": {
       "config": {
        "plotlyServerURL": "https://plot.ly"
       },
       "data": [
        {
         "colorscale": [
          [
           0,
           "#440154"
          ],
          [
           0.1111111111111111,
           "#482878"
          ],
          [
           0.2222222222222222,
           "#3e4989"
          ],
          [
           0.3333333333333333,
           "#31688e"
          ],
          [
           0.4444444444444444,
           "#26828e"
          ],
          [
           0.5555555555555556,
           "#1f9e89"
          ],
          [
           0.6666666666666666,
           "#35b779"
          ],
          [
           0.7777777777777778,
           "#6ece58"
          ],
          [
           0.8888888888888888,
           "#b5de2b"
          ],
          [
           1,
           "#fde725"
          ]
         ],
         "type": "surface",
         "x": [
          -5,
          -4.5,
          -4,
          -3.5,
          -3,
          -2.5,
          -2,
          -1.5,
          -1,
          -0.5,
          0,
          0.5,
          1,
          1.5,
          2,
          2.5,
          3,
          3.5,
          4,
          4.5,
          5
         ],
         "y": [
          -5,
          -4.5,
          -4,
          -3.5,
          -3,
          -2.5,
          -2,
          -1.5,
          -1,
          -0.5,
          0,
          0.5,
          1,
          1.5,
          2,
          2.5,
          3,
          3.5,
          4,
          4.5,
          5
         ],
         "z": [
          [
           75.33202787546011,
           73.66577453613282,
           82.8327663823178,
           122.21858455516674,
           136.88404761420355,
           67.12491607666016,
           11.50008192062378,
           10.841675907373428,
           22.0537371635437,
           20.465711491448538,
           31.22170571927671,
           49.127482891082764,
           55.07804437117143,
           63.610762131519806,
           62.46411559892737,
           35.748077034950256,
           28.124570105969905,
           30.30319021145503,
           28.30048681050539,
           -0.5111770629882812,
           31.273060265041533
          ],
          [
           69.2999267578125,
           71.07870082855224,
           94.44968159993489,
           101.04894971847534,
           137.60225677490234,
           110.01078727028586,
           17.680323759714764,
           8.02114725112915,
           18.344419797261555,
           26.5863196849823,
           28.773803844008334,
           34.238768918173655,
           31.27167871263292,
           54.03976900437299,
           57.981266479492184,
           44.43396198048311,
           38.29238210035407,
           27.34210989977184,
           34.488179271871395,
           26.90200503119107,
           28.616739604784094
          ],
          [
           85.62090301513672,
           70.1272345043364,
           108.06336466471355,
           92.04675567626953,
           131.56238174438477,
           142.78908457074846,
           37.365156173706055,
           7.563302993774414,
           12.392707135942247,
           24.470263838768005,
           26.38397683037652,
           29.46360128266471,
           42.3431822458903,
           59.425825119018555,
           50.79788212342696,
           42.299200503031415,
           36.14294425676118,
           27.642034176517935,
           33.449530919392906,
           34.13954599698385,
           7.084409475326538
          ],
          [
           80.17115609305246,
           73.27271747589111,
           73.23611145019531,
           87.4263875749376,
           115.64483727349176,
           144.0253151558541,
           88.05184936523438,
           11.22048595339753,
           14.903464317321777,
           20.428239822387695,
           22.849421664646695,
           31.708135017981895,
           35.14676834106445,
           53.425430692475416,
           57.507377277721055,
           51.779372453689575,
           47.930179595947266,
           35.16386640071869,
           34.05100497760271,
           26.956089591979982,
           30.127711832523346
          ],
          [
           78.2880744934082,
           73.67492178212042,
           77.42658969334194,
           89.63487255212033,
           95.83205947875976,
           138.8791389465332,
           114.94838047027588,
           18.65492647344416,
           8.003371909812644,
           21.005340417226154,
           20.116476369940717,
           26.64749104636056,
           33.31240487098694,
           49.53971862792969,
           53.49288099783438,
           52.17852882777943,
           49.02135340372721,
           47.503052711486816,
           5.278434753417969,
           26.307866443287242,
           0.26166200637817383
          ],
          [
           74.45029858180455,
           73.3193244934082,
           81.20860862731934,
           86.55659866333008,
           106.65573556082589,
           134.19034313333447,
           145.7184966694225,
           33.9487553914388,
           7.938600771129131,
           11.455937427023184,
           21.262603600819904,
           25.129373788833618,
           31.641570150852203,
           44.729834513230756,
           60.04227924346924,
           60.29077657063802,
           60.88937835693359,
           40.430376699992586,
           30.527108038465183,
           4.535427451133728,
           36.30615037002347
          ],
          [
           66.17482285272507,
           77.53967612130302,
           78.00498784383139,
           80.57964361281623,
           93.0872683317765,
           114.40234107971192,
           129.5547332763672,
           81.09790910993304,
           10.614673658858898,
           7.895513296127319,
           20.406913936138153,
           24.537725756245276,
           29.762623768226774,
           35.53764191380254,
           38.86324795809659,
           60.89164573267887,
           48.125493427492536,
           67.79371476173401,
           32.23519651412964,
           25.754150196909904,
           26.64209008216858
          ],
          [
           79.2372599515048,
           70.37153047834124,
           76.14150197882401,
           82.41742599010468,
           89.48689339377664,
           110.55178887503487,
           141.22521432240805,
           119.47723554953551,
           16.480538281527433,
           5.376633326212565,
           15.292731285095215,
           20.422591333803922,
           27.72107760111491,
           26.81294600168864,
           48.199562072753906,
           71.14173859816331,
           49.052798664931096,
           59.63281296624078,
           34.87140654115116,
           31.821983513547412,
           25.67990390981237
          ],
          [
           62.76073360443115,
           63.642479823185845,
           81.15639332362584,
           67.14530563354492,
           84.61699401855469,
           116.40193245627664,
           136.77738441120493,
           147.2038787841797,
           39.184949747721355,
           7.308993746252621,
           11.656067869879983,
           19.51838524201337,
           23.26737649300519,
           30.562962168738956,
           40.708578745524086,
           49.84118571648231,
           49.458618310781624,
           63.7656870061701,
           40.565649828740526,
           31.470214932053178,
           30.807829367487056
          ],
          [
           79.3244457244873,
           62.68839433458116,
           80.81385451096754,
           79.10206026349749,
           94.5157241821289,
           82.95029774418583,
           119.93950751519972,
           147.32640012105307,
           86.72378492355347,
           9.417552822514585,
           8.691616477966308,
           17.137766944037544,
           21.50339107124173,
           30.73267779811736,
           33.698037870002516,
           49.53502238880504,
           55.04427685457117,
           54.052680378868466,
           60.75155679039333,
           34.91533906351436,
           27.020350870158936
          ],
          [
           60.80622641245524,
           76.06606101989746,
           77.91230692182269,
           73.85468578338623,
           73.14050565447126,
           99.89581330617268,
           118.88520332618997,
           99.88775889078777,
           116.41068158830915,
           16.0232141494751,
           6.032636826688593,
           14.772343277931213,
           22.722182967446066,
           29.074535293579103,
           33.72585320472717,
           46.289547644163434,
           57.69215106964111,
           55.86387325735653,
           48.827921245409094,
           40.92101152059509,
           30.356656261795276
          ],
          [
           63.61740074157715,
           70.15500119837318,
           76.60205793380737,
           78.9653844833374,
           76.8808923448835,
           80.11318751743862,
           84.20260467529297,
           137.9058649163497,
           138.86988939557756,
           40.25603831255877,
           7.2191760540008545,
           10.286372469692695,
           17.74336338043213,
           24.516152629852296,
           28.247622687241126,
           43.83718967437744,
           57.57224082946777,
           62.07907802302663,
           51.53029566797717,
           53.186657969156904,
           32.18238800764084
          ],
          [
           59.35502977371216,
           68.1460355122884,
           67.72625192006429,
           73.4054788861956,
           80.49170737430967,
           89.14947424994574,
           90.0537055015564,
           116.53725671768188,
           147.4682689666748,
           79.5979338021114,
           9.025523196567189,
           7.546122443291448,
           19.716769218444824,
           21.701874415079754,
           30.272760915756226,
           33.17003591060639,
           43.43120486919697,
           64.51534444635564,
           49.987254558465416,
           55.6770656020553,
           27.985174912672775
          ],
          [
           55.1086960960837,
           68.7100814183553,
           73.38278983621036,
           81.17417744227818,
           73.56014878409249,
           84.22619141472711,
           94.14151815934615,
           110.1733410358429,
           146.2376335144043,
           128.98109879604607,
           14.914310296376547,
           6.528194270235427,
           14.163062699635823,
           21.163806533813478,
           24.592056274414062,
           31.0213979419909,
           49.107610855102536,
           52.01870568593343,
           58.39886707729764,
           59.89347720146179,
           49.00110054016113
          ],
          [
           52.68799567222595,
           59.182021882798935,
           69.99719066004599,
           78.28224664804887,
           68.4655595002351,
           83.82572495937347,
           84.48202238411739,
           88.3635622660319,
           131.76812962123327,
           149.67449079241072,
           37.80632232217228,
           6.156470192803277,
           11.959177342328159,
           17.456072745784635,
           23.747333486874897,
           29.18138195037842,
           33.23791772492078,
           46.02251850474965,
           60.605852187948024,
           54.19725010312837,
           48.87314203050401
          ],
          [
           51.59060607637678,
           59.476128578186035,
           70.5007543892696,
           67.23239883422852,
           74.67955816359748,
           84.43214232833297,
           75.464663369315,
           86.45667042451747,
           116.29115295410156,
           168.15254656473795,
           91.96763229370117,
           7.025304822360768,
           7.003759741783142,
           16.408460475780345,
           20.7806660701067,
           30.904718081156414,
           32.7970038822719,
           45.603708600997926,
           58.39559402046623,
           62.14871044158936,
           53.861764430999756
          ],
          [
           50.75743611653646,
           60.55087871551514,
           68.34979309082031,
           78.60457469798901,
           92.2699862028423,
           77.35308376111482,
           86.98651014055524,
           94.44002855741061,
           107.47708020891461,
           152.18653361002603,
           113.42039987315302,
           15.688257751010713,
           5.450419247150421,
           13.465388334714449,
           17.47514153335054,
           22.77876345316569,
           32.99405319626267,
           39.173767065390564,
           53.19131964606208,
           58.92365577697754,
           62.3341869354248
          ],
          [
           49.382965428488596,
           58.05132884070987,
           56.745869636535645,
           64.78989334106446,
           76.44420742458767,
           82.02171522995522,
           76.56878153483073,
           89.5752867530374,
           98.66535530090331,
           137.1364060835405,
           151.46985953194755,
           39.37473771378801,
           4.930863454937935,
           10.546037469591413,
           22.621660028185165,
           21.128063559532166,
           29.55809721033624,
           35.36368967692057,
           45.071997902610086,
           63.00963066719674,
           58.62186035743127
          ],
          [
           47.847292355128694,
           57.26952414512634,
           61.09656162261963,
           73.07206026713054,
           77.21781463623047,
           76.52428418114071,
           92.26353073120117,
           85.84356740315755,
           101.36472157069615,
           117.32784921982709,
           154.90632909138998,
           98.40125603511416,
           7.209883712586903,
           6.576194063476894,
           16.921653613448143,
           19.33971290027394,
           29.245210717364056,
           26.390479505062103,
           47.10451983062314,
           54.6562764784869,
           54.01212426890498
          ],
          [
           40.40026117407757,
           43.15572726726532,
           64.91820425736277,
           66.91708968026298,
           84.95739756992884,
           88.29584688753695,
           67.05389611617379,
           93.07800786635455,
           87.44545066356659,
           106.42769513811383,
           147.99710982186454,
           125.28311190397844,
           16.742841919263203,
           5.046321495159252,
           12.888640198053098,
           17.145787119865417,
           26.861962694110293,
           32.71294759568714,
           43.98071503639221,
           48.64141037350609,
           51.695292154947914
          ],
          [
           47.30810032468854,
           44.9986956914266,
           57.85690995418664,
           70.54534710154815,
           80.87978717258999,
           83.29575538635254,
           76.75055471280726,
           82.73106145858765,
           85.41413206212661,
           100.01976642608642,
           133.95890846252442,
           144.5762168265678,
           43.539892297042044,
           4.888276020685832,
           7.597243785858154,
           15.601192084225742,
           22.251930276552837,
           28.16628105409684,
           35.115843878852,
           41.52954563498497,
           56.39016460550243
          ]
         ]
        }
       ],
       "layout": {
        "template": {
         "data": {
          "bar": [
           {
            "error_x": {
             "color": "#2a3f5f"
            },
            "error_y": {
             "color": "#2a3f5f"
            },
            "marker": {
             "line": {
              "color": "#E5ECF6",
              "width": 0.5
             }
            },
            "type": "bar"
           }
          ],
          "barpolar": [
           {
            "marker": {
             "line": {
              "color": "#E5ECF6",
              "width": 0.5
             }
            },
            "type": "barpolar"
           }
          ],
          "carpet": [
           {
            "aaxis": {
             "endlinecolor": "#2a3f5f",
             "gridcolor": "white",
             "linecolor": "white",
             "minorgridcolor": "white",
             "startlinecolor": "#2a3f5f"
            },
            "baxis": {
             "endlinecolor": "#2a3f5f",
             "gridcolor": "white",
             "linecolor": "white",
             "minorgridcolor": "white",
             "startlinecolor": "#2a3f5f"
            },
            "type": "carpet"
           }
          ],
          "choropleth": [
           {
            "colorbar": {
             "outlinewidth": 0,
             "ticks": ""
            },
            "type": "choropleth"
           }
          ],
          "contour": [
           {
            "colorbar": {
             "outlinewidth": 0,
             "ticks": ""
            },
            "colorscale": [
             [
              0,
              "#0d0887"
             ],
             [
              0.1111111111111111,
              "#46039f"
             ],
             [
              0.2222222222222222,
              "#7201a8"
             ],
             [
              0.3333333333333333,
              "#9c179e"
             ],
             [
              0.4444444444444444,
              "#bd3786"
             ],
             [
              0.5555555555555556,
              "#d8576b"
             ],
             [
              0.6666666666666666,
              "#ed7953"
             ],
             [
              0.7777777777777778,
              "#fb9f3a"
             ],
             [
              0.8888888888888888,
              "#fdca26"
             ],
             [
              1,
              "#f0f921"
             ]
            ],
            "type": "contour"
           }
          ],
          "contourcarpet": [
           {
            "colorbar": {
             "outlinewidth": 0,
             "ticks": ""
            },
            "type": "contourcarpet"
           }
          ],
          "heatmap": [
           {
            "colorbar": {
             "outlinewidth": 0,
             "ticks": ""
            },
            "colorscale": [
             [
              0,
              "#0d0887"
             ],
             [
              0.1111111111111111,
              "#46039f"
             ],
             [
              0.2222222222222222,
              "#7201a8"
             ],
             [
              0.3333333333333333,
              "#9c179e"
             ],
             [
              0.4444444444444444,
              "#bd3786"
             ],
             [
              0.5555555555555556,
              "#d8576b"
             ],
             [
              0.6666666666666666,
              "#ed7953"
             ],
             [
              0.7777777777777778,
              "#fb9f3a"
             ],
             [
              0.8888888888888888,
              "#fdca26"
             ],
             [
              1,
              "#f0f921"
             ]
            ],
            "type": "heatmap"
           }
          ],
          "heatmapgl": [
           {
            "colorbar": {
             "outlinewidth": 0,
             "ticks": ""
            },
            "colorscale": [
             [
              0,
              "#0d0887"
             ],
             [
              0.1111111111111111,
              "#46039f"
             ],
             [
              0.2222222222222222,
              "#7201a8"
             ],
             [
              0.3333333333333333,
              "#9c179e"
             ],
             [
              0.4444444444444444,
              "#bd3786"
             ],
             [
              0.5555555555555556,
              "#d8576b"
             ],
             [
              0.6666666666666666,
              "#ed7953"
             ],
             [
              0.7777777777777778,
              "#fb9f3a"
             ],
             [
              0.8888888888888888,
              "#fdca26"
             ],
             [
              1,
              "#f0f921"
             ]
            ],
            "type": "heatmapgl"
           }
          ],
          "histogram": [
           {
            "marker": {
             "colorbar": {
              "outlinewidth": 0,
              "ticks": ""
             }
            },
            "type": "histogram"
           }
          ],
          "histogram2d": [
           {
            "colorbar": {
             "outlinewidth": 0,
             "ticks": ""
            },
            "colorscale": [
             [
              0,
              "#0d0887"
             ],
             [
              0.1111111111111111,
              "#46039f"
             ],
             [
              0.2222222222222222,
              "#7201a8"
             ],
             [
              0.3333333333333333,
              "#9c179e"
             ],
             [
              0.4444444444444444,
              "#bd3786"
             ],
             [
              0.5555555555555556,
              "#d8576b"
             ],
             [
              0.6666666666666666,
              "#ed7953"
             ],
             [
              0.7777777777777778,
              "#fb9f3a"
             ],
             [
              0.8888888888888888,
              "#fdca26"
             ],
             [
              1,
              "#f0f921"
             ]
            ],
            "type": "histogram2d"
           }
          ],
          "histogram2dcontour": [
           {
            "colorbar": {
             "outlinewidth": 0,
             "ticks": ""
            },
            "colorscale": [
             [
              0,
              "#0d0887"
             ],
             [
              0.1111111111111111,
              "#46039f"
             ],
             [
              0.2222222222222222,
              "#7201a8"
             ],
             [
              0.3333333333333333,
              "#9c179e"
             ],
             [
              0.4444444444444444,
              "#bd3786"
             ],
             [
              0.5555555555555556,
              "#d8576b"
             ],
             [
              0.6666666666666666,
              "#ed7953"
             ],
             [
              0.7777777777777778,
              "#fb9f3a"
             ],
             [
              0.8888888888888888,
              "#fdca26"
             ],
             [
              1,
              "#f0f921"
             ]
            ],
            "type": "histogram2dcontour"
           }
          ],
          "mesh3d": [
           {
            "colorbar": {
             "outlinewidth": 0,
             "ticks": ""
            },
            "type": "mesh3d"
           }
          ],
          "parcoords": [
           {
            "line": {
             "colorbar": {
              "outlinewidth": 0,
              "ticks": ""
             }
            },
            "type": "parcoords"
           }
          ],
          "scatter": [
           {
            "marker": {
             "colorbar": {
              "outlinewidth": 0,
              "ticks": ""
             }
            },
            "type": "scatter"
           }
          ],
          "scatter3d": [
           {
            "line": {
             "colorbar": {
              "outlinewidth": 0,
              "ticks": ""
             }
            },
            "marker": {
             "colorbar": {
              "outlinewidth": 0,
              "ticks": ""
             }
            },
            "type": "scatter3d"
           }
          ],
          "scattercarpet": [
           {
            "marker": {
             "colorbar": {
              "outlinewidth": 0,
              "ticks": ""
             }
            },
            "type": "scattercarpet"
           }
          ],
          "scattergeo": [
           {
            "marker": {
             "colorbar": {
              "outlinewidth": 0,
              "ticks": ""
             }
            },
            "type": "scattergeo"
           }
          ],
          "scattergl": [
           {
            "marker": {
             "colorbar": {
              "outlinewidth": 0,
              "ticks": ""
             }
            },
            "type": "scattergl"
           }
          ],
          "scattermapbox": [
           {
            "marker": {
             "colorbar": {
              "outlinewidth": 0,
              "ticks": ""
             }
            },
            "type": "scattermapbox"
           }
          ],
          "scatterpolar": [
           {
            "marker": {
             "colorbar": {
              "outlinewidth": 0,
              "ticks": ""
             }
            },
            "type": "scatterpolar"
           }
          ],
          "scatterpolargl": [
           {
            "marker": {
             "colorbar": {
              "outlinewidth": 0,
              "ticks": ""
             }
            },
            "type": "scatterpolargl"
           }
          ],
          "scatterternary": [
           {
            "marker": {
             "colorbar": {
              "outlinewidth": 0,
              "ticks": ""
             }
            },
            "type": "scatterternary"
           }
          ],
          "surface": [
           {
            "colorbar": {
             "outlinewidth": 0,
             "ticks": ""
            },
            "colorscale": [
             [
              0,
              "#0d0887"
             ],
             [
              0.1111111111111111,
              "#46039f"
             ],
             [
              0.2222222222222222,
              "#7201a8"
             ],
             [
              0.3333333333333333,
              "#9c179e"
             ],
             [
              0.4444444444444444,
              "#bd3786"
             ],
             [
              0.5555555555555556,
              "#d8576b"
             ],
             [
              0.6666666666666666,
              "#ed7953"
             ],
             [
              0.7777777777777778,
              "#fb9f3a"
             ],
             [
              0.8888888888888888,
              "#fdca26"
             ],
             [
              1,
              "#f0f921"
             ]
            ],
            "type": "surface"
           }
          ],
          "table": [
           {
            "cells": {
             "fill": {
              "color": "#EBF0F8"
             },
             "line": {
              "color": "white"
             }
            },
            "header": {
             "fill": {
              "color": "#C8D4E3"
             },
             "line": {
              "color": "white"
             }
            },
            "type": "table"
           }
          ]
         },
         "layout": {
          "annotationdefaults": {
           "arrowcolor": "#2a3f5f",
           "arrowhead": 0,
           "arrowwidth": 1
          },
          "colorscale": {
           "diverging": [
            [
             0,
             "#8e0152"
            ],
            [
             0.1,
             "#c51b7d"
            ],
            [
             0.2,
             "#de77ae"
            ],
            [
             0.3,
             "#f1b6da"
            ],
            [
             0.4,
             "#fde0ef"
            ],
            [
             0.5,
             "#f7f7f7"
            ],
            [
             0.6,
             "#e6f5d0"
            ],
            [
             0.7,
             "#b8e186"
            ],
            [
             0.8,
             "#7fbc41"
            ],
            [
             0.9,
             "#4d9221"
            ],
            [
             1,
             "#276419"
            ]
           ],
           "sequential": [
            [
             0,
             "#0d0887"
            ],
            [
             0.1111111111111111,
             "#46039f"
            ],
            [
             0.2222222222222222,
             "#7201a8"
            ],
            [
             0.3333333333333333,
             "#9c179e"
            ],
            [
             0.4444444444444444,
             "#bd3786"
            ],
            [
             0.5555555555555556,
             "#d8576b"
            ],
            [
             0.6666666666666666,
             "#ed7953"
            ],
            [
             0.7777777777777778,
             "#fb9f3a"
            ],
            [
             0.8888888888888888,
             "#fdca26"
            ],
            [
             1,
             "#f0f921"
            ]
           ],
           "sequentialminus": [
            [
             0,
             "#0d0887"
            ],
            [
             0.1111111111111111,
             "#46039f"
            ],
            [
             0.2222222222222222,
             "#7201a8"
            ],
            [
             0.3333333333333333,
             "#9c179e"
            ],
            [
             0.4444444444444444,
             "#bd3786"
            ],
            [
             0.5555555555555556,
             "#d8576b"
            ],
            [
             0.6666666666666666,
             "#ed7953"
            ],
            [
             0.7777777777777778,
             "#fb9f3a"
            ],
            [
             0.8888888888888888,
             "#fdca26"
            ],
            [
             1,
             "#f0f921"
            ]
           ]
          },
          "colorway": [
           "#636efa",
           "#EF553B",
           "#00cc96",
           "#ab63fa",
           "#FFA15A",
           "#19d3f3",
           "#FF6692",
           "#B6E880",
           "#FF97FF",
           "#FECB52"
          ],
          "font": {
           "color": "#2a3f5f"
          },
          "geo": {
           "bgcolor": "white",
           "lakecolor": "white",
           "landcolor": "#E5ECF6",
           "showlakes": true,
           "showland": true,
           "subunitcolor": "white"
          },
          "hoverlabel": {
           "align": "left"
          },
          "hovermode": "closest",
          "mapbox": {
           "style": "light"
          },
          "paper_bgcolor": "white",
          "plot_bgcolor": "#E5ECF6",
          "polar": {
           "angularaxis": {
            "gridcolor": "white",
            "linecolor": "white",
            "ticks": ""
           },
           "bgcolor": "#E5ECF6",
           "radialaxis": {
            "gridcolor": "white",
            "linecolor": "white",
            "ticks": ""
           }
          },
          "scene": {
           "xaxis": {
            "backgroundcolor": "#E5ECF6",
            "gridcolor": "white",
            "gridwidth": 2,
            "linecolor": "white",
            "showbackground": true,
            "ticks": "",
            "zerolinecolor": "white"
           },
           "yaxis": {
            "backgroundcolor": "#E5ECF6",
            "gridcolor": "white",
            "gridwidth": 2,
            "linecolor": "white",
            "showbackground": true,
            "ticks": "",
            "zerolinecolor": "white"
           },
           "zaxis": {
            "backgroundcolor": "#E5ECF6",
            "gridcolor": "white",
            "gridwidth": 2,
            "linecolor": "white",
            "showbackground": true,
            "ticks": "",
            "zerolinecolor": "white"
           }
          },
          "shapedefaults": {
           "line": {
            "color": "#2a3f5f"
           }
          },
          "ternary": {
           "aaxis": {
            "gridcolor": "white",
            "linecolor": "white",
            "ticks": ""
           },
           "baxis": {
            "gridcolor": "white",
            "linecolor": "white",
            "ticks": ""
           },
           "bgcolor": "#E5ECF6",
           "caxis": {
            "gridcolor": "white",
            "linecolor": "white",
            "ticks": ""
           }
          },
          "title": {
           "x": 0.05
          },
          "xaxis": {
           "automargin": true,
           "gridcolor": "white",
           "linecolor": "white",
           "ticks": "",
           "zerolinecolor": "white",
           "zerolinewidth": 2
          },
          "yaxis": {
           "automargin": true,
           "gridcolor": "white",
           "linecolor": "white",
           "ticks": "",
           "zerolinecolor": "white",
           "zerolinewidth": 2
          }
         }
        }
       }
      },
      "text/html": [
       "<div>\n",
       "        \n",
       "        \n",
       "            <div id=\"d93b6ae0-ce7c-460b-b049-4304c33861dd\" class=\"plotly-graph-div\" style=\"height:525px; width:100%;\"></div>\n",
       "            <script type=\"text/javascript\">\n",
       "                require([\"plotly\"], function(Plotly) {\n",
       "                    window.PLOTLYENV=window.PLOTLYENV || {};\n",
       "                    \n",
       "                if (document.getElementById(\"d93b6ae0-ce7c-460b-b049-4304c33861dd\")) {\n",
       "                    Plotly.newPlot(\n",
       "                        'd93b6ae0-ce7c-460b-b049-4304c33861dd',\n",
       "                        [{\"colorscale\": [[0.0, \"#440154\"], [0.1111111111111111, \"#482878\"], [0.2222222222222222, \"#3e4989\"], [0.3333333333333333, \"#31688e\"], [0.4444444444444444, \"#26828e\"], [0.5555555555555556, \"#1f9e89\"], [0.6666666666666666, \"#35b779\"], [0.7777777777777778, \"#6ece58\"], [0.8888888888888888, \"#b5de2b\"], [1.0, \"#fde725\"]], \"type\": \"surface\", \"x\": [-5.0, -4.5, -4.0, -3.5, -3.0, -2.5, -2.0, -1.5, -1.0, -0.5, 0.0, 0.5, 1.0, 1.5, 2.0, 2.5, 3.0, 3.5, 4.0, 4.5, 5.0], \"y\": [-5.0, -4.5, -4.0, -3.5, -3.0, -2.5, -2.0, -1.5, -1.0, -0.5, 0.0, 0.5, 1.0, 1.5, 2.0, 2.5, 3.0, 3.5, 4.0, 4.5, 5.0], \"z\": [[75.33202787546011, 73.66577453613282, 82.8327663823178, 122.21858455516674, 136.88404761420355, 67.12491607666016, 11.50008192062378, 10.841675907373428, 22.0537371635437, 20.465711491448538, 31.22170571927671, 49.127482891082764, 55.07804437117143, 63.610762131519806, 62.46411559892737, 35.748077034950256, 28.124570105969905, 30.30319021145503, 28.30048681050539, -0.5111770629882812, 31.273060265041533], [69.2999267578125, 71.07870082855224, 94.44968159993489, 101.04894971847534, 137.60225677490234, 110.01078727028586, 17.680323759714764, 8.02114725112915, 18.344419797261555, 26.5863196849823, 28.773803844008334, 34.238768918173655, 31.27167871263292, 54.03976900437299, 57.981266479492184, 44.43396198048311, 38.29238210035407, 27.34210989977184, 34.488179271871395, 26.90200503119107, 28.616739604784094], [85.62090301513672, 70.1272345043364, 108.06336466471355, 92.04675567626953, 131.56238174438477, 142.78908457074846, 37.365156173706055, 7.563302993774414, 12.392707135942247, 24.470263838768005, 26.38397683037652, 29.46360128266471, 42.3431822458903, 59.425825119018555, 50.79788212342696, 42.299200503031415, 36.14294425676118, 27.642034176517935, 33.449530919392906, 34.13954599698385, 7.084409475326538], [80.17115609305246, 73.27271747589111, 73.23611145019531, 87.4263875749376, 115.64483727349176, 144.0253151558541, 88.05184936523438, 11.22048595339753, 14.903464317321777, 20.428239822387695, 22.849421664646695, 31.708135017981895, 35.14676834106445, 53.425430692475416, 57.507377277721055, 51.779372453689575, 47.930179595947266, 35.16386640071869, 34.05100497760271, 26.956089591979982, 30.127711832523346], [78.2880744934082, 73.67492178212042, 77.42658969334194, 89.63487255212033, 95.83205947875976, 138.8791389465332, 114.94838047027588, 18.65492647344416, 8.003371909812644, 21.005340417226154, 20.116476369940717, 26.64749104636056, 33.31240487098694, 49.53971862792969, 53.49288099783438, 52.17852882777943, 49.02135340372721, 47.503052711486816, 5.278434753417969, 26.307866443287242, 0.26166200637817383], [74.45029858180455, 73.3193244934082, 81.20860862731934, 86.55659866333008, 106.65573556082589, 134.19034313333447, 145.7184966694225, 33.9487553914388, 7.938600771129131, 11.455937427023184, 21.262603600819904, 25.129373788833618, 31.641570150852203, 44.729834513230756, 60.04227924346924, 60.29077657063802, 60.88937835693359, 40.430376699992586, 30.527108038465183, 4.535427451133728, 36.30615037002347], [66.17482285272507, 77.53967612130302, 78.00498784383139, 80.57964361281623, 93.0872683317765, 114.40234107971192, 129.5547332763672, 81.09790910993304, 10.614673658858898, 7.895513296127319, 20.406913936138153, 24.537725756245276, 29.762623768226774, 35.53764191380254, 38.86324795809659, 60.89164573267887, 48.125493427492536, 67.79371476173401, 32.23519651412964, 25.754150196909904, 26.64209008216858], [79.2372599515048, 70.37153047834124, 76.14150197882401, 82.41742599010468, 89.48689339377664, 110.55178887503487, 141.22521432240805, 119.47723554953551, 16.480538281527433, 5.376633326212565, 15.292731285095215, 20.422591333803922, 27.72107760111491, 26.81294600168864, 48.199562072753906, 71.14173859816331, 49.052798664931096, 59.63281296624078, 34.87140654115116, 31.821983513547412, 25.67990390981237], [62.76073360443115, 63.642479823185845, 81.15639332362584, 67.14530563354492, 84.61699401855469, 116.40193245627664, 136.77738441120493, 147.2038787841797, 39.184949747721355, 7.308993746252621, 11.656067869879983, 19.51838524201337, 23.26737649300519, 30.562962168738956, 40.708578745524086, 49.84118571648231, 49.458618310781624, 63.7656870061701, 40.565649828740526, 31.470214932053178, 30.807829367487056], [79.3244457244873, 62.68839433458116, 80.81385451096754, 79.10206026349749, 94.5157241821289, 82.95029774418583, 119.93950751519972, 147.32640012105307, 86.72378492355347, 9.417552822514585, 8.691616477966308, 17.137766944037544, 21.50339107124173, 30.73267779811736, 33.698037870002516, 49.53502238880504, 55.04427685457117, 54.052680378868466, 60.75155679039333, 34.91533906351436, 27.020350870158936], [60.80622641245524, 76.06606101989746, 77.91230692182269, 73.85468578338623, 73.14050565447126, 99.89581330617268, 118.88520332618997, 99.88775889078777, 116.41068158830915, 16.0232141494751, 6.032636826688593, 14.772343277931213, 22.722182967446066, 29.074535293579103, 33.72585320472717, 46.289547644163434, 57.69215106964111, 55.86387325735653, 48.827921245409094, 40.92101152059509, 30.356656261795276], [63.61740074157715, 70.15500119837318, 76.60205793380737, 78.9653844833374, 76.8808923448835, 80.11318751743862, 84.20260467529297, 137.9058649163497, 138.86988939557756, 40.25603831255877, 7.2191760540008545, 10.286372469692695, 17.74336338043213, 24.516152629852296, 28.247622687241126, 43.83718967437744, 57.57224082946777, 62.07907802302663, 51.53029566797717, 53.186657969156904, 32.18238800764084], [59.35502977371216, 68.1460355122884, 67.72625192006429, 73.4054788861956, 80.49170737430967, 89.14947424994574, 90.0537055015564, 116.53725671768188, 147.4682689666748, 79.5979338021114, 9.025523196567189, 7.546122443291448, 19.716769218444824, 21.701874415079754, 30.272760915756226, 33.17003591060639, 43.43120486919697, 64.51534444635564, 49.987254558465416, 55.6770656020553, 27.985174912672775], [55.1086960960837, 68.7100814183553, 73.38278983621036, 81.17417744227818, 73.56014878409249, 84.22619141472711, 94.14151815934615, 110.1733410358429, 146.2376335144043, 128.98109879604607, 14.914310296376547, 6.528194270235427, 14.163062699635823, 21.163806533813478, 24.592056274414062, 31.0213979419909, 49.107610855102536, 52.01870568593343, 58.39886707729764, 59.89347720146179, 49.00110054016113], [52.68799567222595, 59.182021882798935, 69.99719066004599, 78.28224664804887, 68.4655595002351, 83.82572495937347, 84.48202238411739, 88.3635622660319, 131.76812962123327, 149.67449079241072, 37.80632232217228, 6.156470192803277, 11.959177342328159, 17.456072745784635, 23.747333486874897, 29.18138195037842, 33.23791772492078, 46.02251850474965, 60.605852187948024, 54.19725010312837, 48.87314203050401], [51.59060607637678, 59.476128578186035, 70.5007543892696, 67.23239883422852, 74.67955816359748, 84.43214232833297, 75.464663369315, 86.45667042451747, 116.29115295410156, 168.15254656473795, 91.96763229370117, 7.025304822360768, 7.003759741783142, 16.408460475780345, 20.7806660701067, 30.904718081156414, 32.7970038822719, 45.603708600997926, 58.39559402046623, 62.14871044158936, 53.861764430999756], [50.75743611653646, 60.55087871551514, 68.34979309082031, 78.60457469798901, 92.2699862028423, 77.35308376111482, 86.98651014055524, 94.44002855741061, 107.47708020891461, 152.18653361002603, 113.42039987315302, 15.688257751010713, 5.450419247150421, 13.465388334714449, 17.47514153335054, 22.77876345316569, 32.99405319626267, 39.173767065390564, 53.19131964606208, 58.92365577697754, 62.3341869354248], [49.382965428488596, 58.05132884070987, 56.745869636535645, 64.78989334106446, 76.44420742458767, 82.02171522995522, 76.56878153483073, 89.5752867530374, 98.66535530090331, 137.1364060835405, 151.46985953194755, 39.37473771378801, 4.930863454937935, 10.546037469591413, 22.621660028185165, 21.128063559532166, 29.55809721033624, 35.36368967692057, 45.071997902610086, 63.00963066719674, 58.62186035743127], [47.847292355128694, 57.26952414512634, 61.09656162261963, 73.07206026713054, 77.21781463623047, 76.52428418114071, 92.26353073120117, 85.84356740315755, 101.36472157069615, 117.32784921982709, 154.90632909138998, 98.40125603511416, 7.209883712586903, 6.576194063476894, 16.921653613448143, 19.33971290027394, 29.245210717364056, 26.390479505062103, 47.10451983062314, 54.6562764784869, 54.01212426890498], [40.40026117407757, 43.15572726726532, 64.91820425736277, 66.91708968026298, 84.95739756992884, 88.29584688753695, 67.05389611617379, 93.07800786635455, 87.44545066356659, 106.42769513811383, 147.99710982186454, 125.28311190397844, 16.742841919263203, 5.046321495159252, 12.888640198053098, 17.145787119865417, 26.861962694110293, 32.71294759568714, 43.98071503639221, 48.64141037350609, 51.695292154947914], [47.30810032468854, 44.9986956914266, 57.85690995418664, 70.54534710154815, 80.87978717258999, 83.29575538635254, 76.75055471280726, 82.73106145858765, 85.41413206212661, 100.01976642608642, 133.95890846252442, 144.5762168265678, 43.539892297042044, 4.888276020685832, 7.597243785858154, 15.601192084225742, 22.251930276552837, 28.16628105409684, 35.115843878852, 41.52954563498497, 56.39016460550243]]}],\n",
       "                        {\"template\": {\"data\": {\"bar\": [{\"error_x\": {\"color\": \"#2a3f5f\"}, \"error_y\": {\"color\": \"#2a3f5f\"}, \"marker\": {\"line\": {\"color\": \"#E5ECF6\", \"width\": 0.5}}, \"type\": \"bar\"}], \"barpolar\": [{\"marker\": {\"line\": {\"color\": \"#E5ECF6\", \"width\": 0.5}}, \"type\": \"barpolar\"}], \"carpet\": [{\"aaxis\": {\"endlinecolor\": \"#2a3f5f\", \"gridcolor\": \"white\", \"linecolor\": \"white\", \"minorgridcolor\": \"white\", \"startlinecolor\": \"#2a3f5f\"}, \"baxis\": {\"endlinecolor\": \"#2a3f5f\", \"gridcolor\": \"white\", \"linecolor\": \"white\", \"minorgridcolor\": \"white\", \"startlinecolor\": \"#2a3f5f\"}, \"type\": \"carpet\"}], \"choropleth\": [{\"colorbar\": {\"outlinewidth\": 0, \"ticks\": \"\"}, \"type\": \"choropleth\"}], \"contour\": [{\"colorbar\": {\"outlinewidth\": 0, \"ticks\": \"\"}, \"colorscale\": [[0.0, \"#0d0887\"], [0.1111111111111111, \"#46039f\"], [0.2222222222222222, \"#7201a8\"], [0.3333333333333333, \"#9c179e\"], [0.4444444444444444, \"#bd3786\"], [0.5555555555555556, \"#d8576b\"], [0.6666666666666666, \"#ed7953\"], [0.7777777777777778, \"#fb9f3a\"], [0.8888888888888888, \"#fdca26\"], [1.0, \"#f0f921\"]], \"type\": \"contour\"}], \"contourcarpet\": [{\"colorbar\": {\"outlinewidth\": 0, \"ticks\": \"\"}, \"type\": \"contourcarpet\"}], \"heatmap\": [{\"colorbar\": {\"outlinewidth\": 0, \"ticks\": \"\"}, \"colorscale\": [[0.0, \"#0d0887\"], [0.1111111111111111, \"#46039f\"], [0.2222222222222222, \"#7201a8\"], [0.3333333333333333, \"#9c179e\"], [0.4444444444444444, \"#bd3786\"], [0.5555555555555556, \"#d8576b\"], [0.6666666666666666, \"#ed7953\"], [0.7777777777777778, \"#fb9f3a\"], [0.8888888888888888, \"#fdca26\"], [1.0, \"#f0f921\"]], \"type\": \"heatmap\"}], \"heatmapgl\": [{\"colorbar\": {\"outlinewidth\": 0, \"ticks\": \"\"}, \"colorscale\": [[0.0, \"#0d0887\"], [0.1111111111111111, \"#46039f\"], [0.2222222222222222, \"#7201a8\"], [0.3333333333333333, \"#9c179e\"], [0.4444444444444444, \"#bd3786\"], [0.5555555555555556, \"#d8576b\"], [0.6666666666666666, \"#ed7953\"], [0.7777777777777778, \"#fb9f3a\"], [0.8888888888888888, \"#fdca26\"], [1.0, \"#f0f921\"]], \"type\": \"heatmapgl\"}], \"histogram\": [{\"marker\": {\"colorbar\": {\"outlinewidth\": 0, \"ticks\": \"\"}}, \"type\": \"histogram\"}], \"histogram2d\": [{\"colorbar\": {\"outlinewidth\": 0, \"ticks\": \"\"}, \"colorscale\": [[0.0, \"#0d0887\"], [0.1111111111111111, \"#46039f\"], [0.2222222222222222, \"#7201a8\"], [0.3333333333333333, \"#9c179e\"], [0.4444444444444444, \"#bd3786\"], [0.5555555555555556, \"#d8576b\"], [0.6666666666666666, \"#ed7953\"], [0.7777777777777778, \"#fb9f3a\"], [0.8888888888888888, \"#fdca26\"], [1.0, \"#f0f921\"]], \"type\": \"histogram2d\"}], \"histogram2dcontour\": [{\"colorbar\": {\"outlinewidth\": 0, \"ticks\": \"\"}, \"colorscale\": [[0.0, \"#0d0887\"], [0.1111111111111111, \"#46039f\"], [0.2222222222222222, \"#7201a8\"], [0.3333333333333333, \"#9c179e\"], [0.4444444444444444, \"#bd3786\"], [0.5555555555555556, \"#d8576b\"], [0.6666666666666666, \"#ed7953\"], [0.7777777777777778, \"#fb9f3a\"], [0.8888888888888888, \"#fdca26\"], [1.0, \"#f0f921\"]], \"type\": \"histogram2dcontour\"}], \"mesh3d\": [{\"colorbar\": {\"outlinewidth\": 0, \"ticks\": \"\"}, \"type\": \"mesh3d\"}], \"parcoords\": [{\"line\": {\"colorbar\": {\"outlinewidth\": 0, \"ticks\": \"\"}}, \"type\": \"parcoords\"}], \"scatter\": [{\"marker\": {\"colorbar\": {\"outlinewidth\": 0, \"ticks\": \"\"}}, \"type\": \"scatter\"}], \"scatter3d\": [{\"line\": {\"colorbar\": {\"outlinewidth\": 0, \"ticks\": \"\"}}, \"marker\": {\"colorbar\": {\"outlinewidth\": 0, \"ticks\": \"\"}}, \"type\": \"scatter3d\"}], \"scattercarpet\": [{\"marker\": {\"colorbar\": {\"outlinewidth\": 0, \"ticks\": \"\"}}, \"type\": \"scattercarpet\"}], \"scattergeo\": [{\"marker\": {\"colorbar\": {\"outlinewidth\": 0, \"ticks\": \"\"}}, \"type\": \"scattergeo\"}], \"scattergl\": [{\"marker\": {\"colorbar\": {\"outlinewidth\": 0, \"ticks\": \"\"}}, \"type\": \"scattergl\"}], \"scattermapbox\": [{\"marker\": {\"colorbar\": {\"outlinewidth\": 0, \"ticks\": \"\"}}, \"type\": \"scattermapbox\"}], \"scatterpolar\": [{\"marker\": {\"colorbar\": {\"outlinewidth\": 0, \"ticks\": \"\"}}, \"type\": \"scatterpolar\"}], \"scatterpolargl\": [{\"marker\": {\"colorbar\": {\"outlinewidth\": 0, \"ticks\": \"\"}}, \"type\": \"scatterpolargl\"}], \"scatterternary\": [{\"marker\": {\"colorbar\": {\"outlinewidth\": 0, \"ticks\": \"\"}}, \"type\": \"scatterternary\"}], \"surface\": [{\"colorbar\": {\"outlinewidth\": 0, \"ticks\": \"\"}, \"colorscale\": [[0.0, \"#0d0887\"], [0.1111111111111111, \"#46039f\"], [0.2222222222222222, \"#7201a8\"], [0.3333333333333333, \"#9c179e\"], [0.4444444444444444, \"#bd3786\"], [0.5555555555555556, \"#d8576b\"], [0.6666666666666666, \"#ed7953\"], [0.7777777777777778, \"#fb9f3a\"], [0.8888888888888888, \"#fdca26\"], [1.0, \"#f0f921\"]], \"type\": \"surface\"}], \"table\": [{\"cells\": {\"fill\": {\"color\": \"#EBF0F8\"}, \"line\": {\"color\": \"white\"}}, \"header\": {\"fill\": {\"color\": \"#C8D4E3\"}, \"line\": {\"color\": \"white\"}}, \"type\": \"table\"}]}, \"layout\": {\"annotationdefaults\": {\"arrowcolor\": \"#2a3f5f\", \"arrowhead\": 0, \"arrowwidth\": 1}, \"colorscale\": {\"diverging\": [[0, \"#8e0152\"], [0.1, \"#c51b7d\"], [0.2, \"#de77ae\"], [0.3, \"#f1b6da\"], [0.4, \"#fde0ef\"], [0.5, \"#f7f7f7\"], [0.6, \"#e6f5d0\"], [0.7, \"#b8e186\"], [0.8, \"#7fbc41\"], [0.9, \"#4d9221\"], [1, \"#276419\"]], \"sequential\": [[0.0, \"#0d0887\"], [0.1111111111111111, \"#46039f\"], [0.2222222222222222, \"#7201a8\"], [0.3333333333333333, \"#9c179e\"], [0.4444444444444444, \"#bd3786\"], [0.5555555555555556, \"#d8576b\"], [0.6666666666666666, \"#ed7953\"], [0.7777777777777778, \"#fb9f3a\"], [0.8888888888888888, \"#fdca26\"], [1.0, \"#f0f921\"]], \"sequentialminus\": [[0.0, \"#0d0887\"], [0.1111111111111111, \"#46039f\"], [0.2222222222222222, \"#7201a8\"], [0.3333333333333333, \"#9c179e\"], [0.4444444444444444, \"#bd3786\"], [0.5555555555555556, \"#d8576b\"], [0.6666666666666666, \"#ed7953\"], [0.7777777777777778, \"#fb9f3a\"], [0.8888888888888888, \"#fdca26\"], [1.0, \"#f0f921\"]]}, \"colorway\": [\"#636efa\", \"#EF553B\", \"#00cc96\", \"#ab63fa\", \"#FFA15A\", \"#19d3f3\", \"#FF6692\", \"#B6E880\", \"#FF97FF\", \"#FECB52\"], \"font\": {\"color\": \"#2a3f5f\"}, \"geo\": {\"bgcolor\": \"white\", \"lakecolor\": \"white\", \"landcolor\": \"#E5ECF6\", \"showlakes\": true, \"showland\": true, \"subunitcolor\": \"white\"}, \"hoverlabel\": {\"align\": \"left\"}, \"hovermode\": \"closest\", \"mapbox\": {\"style\": \"light\"}, \"paper_bgcolor\": \"white\", \"plot_bgcolor\": \"#E5ECF6\", \"polar\": {\"angularaxis\": {\"gridcolor\": \"white\", \"linecolor\": \"white\", \"ticks\": \"\"}, \"bgcolor\": \"#E5ECF6\", \"radialaxis\": {\"gridcolor\": \"white\", \"linecolor\": \"white\", \"ticks\": \"\"}}, \"scene\": {\"xaxis\": {\"backgroundcolor\": \"#E5ECF6\", \"gridcolor\": \"white\", \"gridwidth\": 2, \"linecolor\": \"white\", \"showbackground\": true, \"ticks\": \"\", \"zerolinecolor\": \"white\"}, \"yaxis\": {\"backgroundcolor\": \"#E5ECF6\", \"gridcolor\": \"white\", \"gridwidth\": 2, \"linecolor\": \"white\", \"showbackground\": true, \"ticks\": \"\", \"zerolinecolor\": \"white\"}, \"zaxis\": {\"backgroundcolor\": \"#E5ECF6\", \"gridcolor\": \"white\", \"gridwidth\": 2, \"linecolor\": \"white\", \"showbackground\": true, \"ticks\": \"\", \"zerolinecolor\": \"white\"}}, \"shapedefaults\": {\"line\": {\"color\": \"#2a3f5f\"}}, \"ternary\": {\"aaxis\": {\"gridcolor\": \"white\", \"linecolor\": \"white\", \"ticks\": \"\"}, \"baxis\": {\"gridcolor\": \"white\", \"linecolor\": \"white\", \"ticks\": \"\"}, \"bgcolor\": \"#E5ECF6\", \"caxis\": {\"gridcolor\": \"white\", \"linecolor\": \"white\", \"ticks\": \"\"}}, \"title\": {\"x\": 0.05}, \"xaxis\": {\"automargin\": true, \"gridcolor\": \"white\", \"linecolor\": \"white\", \"ticks\": \"\", \"zerolinecolor\": \"white\", \"zerolinewidth\": 2}, \"yaxis\": {\"automargin\": true, \"gridcolor\": \"white\", \"linecolor\": \"white\", \"ticks\": \"\", \"zerolinecolor\": \"white\", \"zerolinewidth\": 2}}}},\n",
       "                        {\"responsive\": true}\n",
       "                    ).then(function(){\n",
       "                            \n",
       "var gd = document.getElementById('d93b6ae0-ce7c-460b-b049-4304c33861dd');\n",
       "var x = new MutationObserver(function (mutations, observer) {{\n",
       "        var display = window.getComputedStyle(gd).display;\n",
       "        if (!display || display === 'none') {{\n",
       "            console.log([gd, 'removed!']);\n",
       "            Plotly.purge(gd);\n",
       "            observer.disconnect();\n",
       "        }}\n",
       "}});\n",
       "\n",
       "// Listen for the removal of the full notebook cells\n",
       "var notebookContainer = gd.closest('#notebook-container');\n",
       "if (notebookContainer) {{\n",
       "    x.observe(notebookContainer, {childList: true});\n",
       "}}\n",
       "\n",
       "// Listen for the clearing of the current output cell\n",
       "var outputEl = gd.closest('.output');\n",
       "if (outputEl) {{\n",
       "    x.observe(outputEl, {childList: true});\n",
       "}}\n",
       "\n",
       "                        })\n",
       "                };\n",
       "                });\n",
       "            </script>\n",
       "        </div>"
      ]
     },
     "metadata": {},
     "output_type": "display_data"
    }
   ],
   "source": [
    "import plotly.graph_objects as go\n",
    "\n",
    "fig = go.Figure(data=[go.Surface(z=vals, x=X, y=Y, colorscale=\"Viridis\")])\n",
    "\n",
    "# fig.update_layout(title='Function', autosize=False,\n",
    "#                   width=1000, height=800,\n",
    "#                   margin=dict(l=65, r=50, b=65, t=90))\n",
    "\n",
    "fig.show()"
   ]
  },
  {
   "cell_type": "code",
   "execution_count": 232,
   "metadata": {},
   "outputs": [],
   "source": [
    "\n",
    "exp_id = \"1590496353.8190389\" # sharp\n",
    "# exp_id = \"1590496353.106369\" # flat\n",
    "\n",
    "exp_id = \"1590274168.6045089\"\n",
    "\n",
    "model_a = exp_dict[\"models\"][exp_id][str(0)]\n",
    "net = copy.deepcopy(model_a)\n"
   ]
  },
  {
   "cell_type": "code",
   "execution_count": 410,
   "metadata": {},
   "outputs": [],
   "source": [
    "d_t = []\n",
    "for i, (data, target) in enumerate(train_loader):\n",
    "    d_t.append((data, target))\n",
    "    \n",
    "    break"
   ]
  },
  {
   "cell_type": "code",
   "execution_count": 36,
   "metadata": {},
   "outputs": [],
   "source": [
    "\n",
    "beta_bound = [-3,3]\n",
    "num_inter_models = 20\n",
    "\n",
    "inter_a = get_model_interpolate_arr(model_c, model_d, num_inter_models, beta_bound=beta_bound)"
   ]
  },
  {
   "cell_type": "code",
   "execution_count": 37,
   "metadata": {},
   "outputs": [],
   "source": [
    "model_dict = {str(i): inter_a[i] for i in range(len(inter_a))}"
   ]
  },
  {
   "cell_type": "code",
   "execution_count": 38,
   "metadata": {},
   "outputs": [
    {
     "name": "stdout",
     "output_type": "stream",
     "text": [
      "0\n",
      "1\n",
      "2\n",
      "3\n",
      "4\n",
      "5\n",
      "6\n",
      "7\n",
      "8\n",
      "9\n",
      "10\n",
      "11\n",
      "12\n",
      "13\n",
      "14\n",
      "15\n",
      "16\n",
      "17\n",
      "18\n",
      "19\n"
     ]
    }
   ],
   "source": [
    "traces = get_models_trace(model_dict, full_train_loader, criterion, full_dataset=False)\n",
    "loss_dict,acc_dict = get_models_loss_acc(model_dict, full_train_loader, test_loader)"
   ]
  },
  {
   "cell_type": "code",
   "execution_count": 365,
   "metadata": {},
   "outputs": [],
   "source": [
    "def get_gap(b):\n",
    "    a = list(b.values())[0]\n",
    "    return a[1] - a[0]"
   ]
  },
  {
   "cell_type": "code",
   "execution_count": 94,
   "metadata": {},
   "outputs": [
    {
     "name": "stdout",
     "output_type": "stream",
     "text": [
      "Trace flat: 2.773572015762329\n",
      "Acc flat: -0.055400000000000005\n",
      "Loss flat: 0.23567577661015093\n"
     ]
    }
   ],
   "source": [
    "print(\"Trace flat: {}\".format(np.mean(list(trace.values())[0])))\n",
    "\n",
    "print(\"Acc flat: {}\".format(get_gap(acc_dict)))\n",
    "print(\"Loss flat: {}\".format(get_gap(loss_dict)))"
   ]
  },
  {
   "cell_type": "code",
   "execution_count": 39,
   "metadata": {},
   "outputs": [
    {
     "name": "stdout",
     "output_type": "stream",
     "text": [
      "19\n"
     ]
    },
    {
     "data": {
      "text/plain": [
       "[<matplotlib.lines.Line2D at 0x1901968d0>]"
      ]
     },
     "execution_count": 39,
     "metadata": {},
     "output_type": "execute_result"
    },
    {
     "data": {
      "image/png": "[encoded data removed]",
      "text/plain": [
       "<Figure size 432x288 with 1 Axes>"
      ]
     },
     "metadata": {
      "needs_background": "light"
     },
     "output_type": "display_data"
    }
   ],
   "source": [
    "\n",
    "xs = np.linspace(beta_bound[0], beta_bound[1], num_inter_models)\n",
    "ys = [np.mean(traces[a]) for a in traces]\n",
    "print(np.argmin(ys))\n",
    "plt.plot(xs, ys)"
   ]
  },
  {
   "cell_type": "code",
   "execution_count": 40,
   "metadata": {},
   "outputs": [
    {
     "name": "stdout",
     "output_type": "stream",
     "text": [
      "19\n"
     ]
    },
    {
     "data": {
      "text/plain": [
       "[<matplotlib.lines.Line2D at 0x190672438>]"
      ]
     },
     "execution_count": 40,
     "metadata": {},
     "output_type": "execute_result"
    },
    {
     "data": {
      "image/png": "[encoded data removed]",
      "text/plain": [
       "<Figure size 432x288 with 1 Axes>"
      ]
     },
     "metadata": {
      "needs_background": "light"
     },
     "output_type": "display_data"
    }
   ],
   "source": [
    "\n",
    "xs = np.linspace(beta_bound[0], beta_bound[1], num_inter_models)\n",
    "ys = [loss_dict[a][0] for a in loss_dict]\n",
    "print(np.argmin(ys))\n",
    "plt.plot(xs, ys)"
   ]
  },
  {
   "cell_type": "code",
   "execution_count": 207,
   "metadata": {},
   "outputs": [
    {
     "name": "stdout",
     "output_type": "stream",
     "text": [
      "19\n"
     ]
    },
    {
     "data": {
      "text/plain": [
       "[<matplotlib.lines.Line2D at 0x173b6b358>]"
      ]
     },
     "execution_count": 207,
     "metadata": {},
     "output_type": "execute_result"
    },
    {
     "data": {
      "image/png": "[encoded data removed]",
      "text/plain": [
       "<Figure size 432x288 with 1 Axes>"
      ]
     },
     "metadata": {
      "needs_background": "light"
     },
     "output_type": "display_data"
    }
   ],
   "source": [
    "\n",
    "xs = np.linspace(beta_bound[0], beta_bound[1], 50)\n",
    "loss_arr = [loss_dict[a][0] for a in loss_dict]\n",
    "acc_arr = [acc_dict[a][0] for a in acc_dict]\n",
    "trace_arr = [np.mean(traces[a]) for a in traces]\n",
    "\n",
    "print(np.argmin(ys))\n",
    "plt.plot(xs, loss_arr)\n",
    "plt.plot(xs, acc_arr)\n",
    "# plt.plot(xs, trace_arr)"
   ]
  },
  {
   "cell_type": "code",
   "execution_count": 150,
   "metadata": {},
   "outputs": [
    {
     "name": "stdout",
     "output_type": "stream",
     "text": [
      "16\n"
     ]
    },
    {
     "data": {
      "text/plain": [
       "[<matplotlib.lines.Line2D at 0x15f100f98>]"
      ]
     },
     "execution_count": 150,
     "metadata": {},
     "output_type": "execute_result"
    },
    {
     "data": {
      "image/png": "[encoded data removed]",
      "text/plain": [
       "<Figure size 432x288 with 1 Axes>"
      ]
     },
     "metadata": {
      "needs_background": "light"
     },
     "output_type": "display_data"
    }
   ],
   "source": [
    "xs = np.linspace(beta_bound[0], beta_bound[1], num_inter_models)\n",
    "ys = [float(a[0]) for a in i_a[1]]\n",
    "print(np.argmin(ys))\n",
    "\n",
    "plt.plot(xs, ys)"
   ]
  },
  {
   "cell_type": "code",
   "execution_count": null,
   "metadata": {},
   "outputs": [],
   "source": [
    "def project_onto(net, v1, v2):\n",
    "    v1_norm = v1/torch.norm(v1)\n",
    "    v2_norm = v2/torch.norm(v2)\n",
    "    \n",
    "    net_vect = get_params_vec(net)\n",
    "    alpha = torch.matmul(v1_norm, net_vect)\n",
    "    beta = torch.matmul(v2_norm, net_vec)\n",
    "    \n",
    "    return alpha, beta"
   ]
  },
  {
   "cell_type": "code",
   "execution_count": 195,
   "metadata": {},
   "outputs": [
    {
     "data": {
      "text/plain": [
       "3.7462845257262665e+108"
      ]
     },
     "execution_count": 195,
     "metadata": {},
     "output_type": "execute_result"
    }
   ],
   "source": [
    "np.e**250 - np.e**240"
   ]
  },
  {
   "cell_type": "code",
   "execution_count": 196,
   "metadata": {},
   "outputs": [],
   "source": [
    "x=  np.random.normal(scale=1, size=(1000, 2))\n",
    "y = 1 * (x[:, 0] >= 0)\n",
    "ct = 0\n",
    "def flip(val, alpha):\n",
    "    should_flip = np.random.uniform(0, 1)<alpha\n",
    "    global ct\n",
    "    if should_flip:\n",
    "        ct += 1\n",
    "        if val == 0:\n",
    "            val = 1\n",
    "        elif val == 1:\n",
    "            val = 0\n",
    "    return val\n",
    "y = [flip(a, 0.05) for a in y]\n",
    "x += np.random.normal(scale=0.15, size=x.shape)"
   ]
  },
  {
   "cell_type": "code",
   "execution_count": 197,
   "metadata": {},
   "outputs": [],
   "source": [
    "c = 0\n",
    "for a, b in zip(x, y):\n",
    "    if (a[0] < 0) and (b == 1):\n",
    "        c+=1\n",
    "    elif (a[0] > 0) and (b == 0):\n",
    "        c+=1 "
   ]
  },
  {
   "cell_type": "code",
   "execution_count": 90,
   "metadata": {},
   "outputs": [],
   "source": [
    "def get_max(n, mu, cov):\n",
    "    Xs = np.random.multivariate_normal(mu, cov, n)\n",
    "    Xs_sq = [np.linalg.norm(x)**2 for x in Xs]\n",
    "    return np.linalg.norm(Xs[np.argmax(Xs_sq)])\n",
    "\n",
    "def get_mean(mu, cov, num_rv_samples, N):\n",
    "    Rs = []\n",
    "    for _ in range(num_rv_samples):\n",
    "        Rs.append(get_max(N, mu, cov))\n",
    "        \n",
    "    return np.mean(Rs)"
   ]
  },
  {
   "cell_type": "code",
   "execution_count": 92,
   "metadata": {},
   "outputs": [],
   "source": [
    "from scipy.stats import ortho_group  # Requires version 0.18 of scipy\n",
    "\n"
   ]
  },
  {
   "cell_type": "code",
   "execution_count": 93,
   "metadata": {},
   "outputs": [],
   "source": [
    "N = 20\n",
    "res = []\n",
    "dim = 5\n",
    "\n",
    "mu = np.zeros(dim)\n",
    "\n",
    "\n",
    "\n",
    "\n",
    "for _ in range(0, 1000, 1):\n",
    "    eigs = np.random.uniform(0, 100, dim)\n",
    "    d_eigs = np.diag(eigs)\n",
    "    P = ortho_group.rvs(dim=dim)\n",
    "\n",
    "    cov = P.T.dot(d_eigs.dot(P))\n",
    "    a =  np.sqrt(eigs.dot(eigs))\n",
    "    res.append((a, get_mean(mu, cov, 100, N)))\n",
    "res = np.array(res)"
   ]
  },
  {
   "cell_type": "code",
   "execution_count": 94,
   "metadata": {},
   "outputs": [
    {
     "data": {
      "text/plain": [
       "<matplotlib.collections.PathCollection at 0x1589c3b38>"
      ]
     },
     "execution_count": 94,
     "metadata": {},
     "output_type": "execute_result"
    },
    {
     "data": {
      "image/png": "[encoded data removed]",
      "text/plain": [
       "<Figure size 432x288 with 1 Axes>"
      ]
     },
     "metadata": {
      "needs_background": "light"
     },
     "output_type": "display_data"
    }
   ],
   "source": [
    "plt.scatter(res[:, 0], res[:, 1])"
   ]
  },
  {
   "cell_type": "code",
   "execution_count": 55,
   "metadata": {},
   "outputs": [],
   "source": [
    "N = 20\n",
    "res = []\n",
    "mu = np.array([0, 0])\n",
    "for a in range(1000):\n",
    "    res.append((a, 5*((a**2 + 1**2 + 500**2))**0.5))\n",
    "res = np.array(res)"
   ]
  },
  {
   "cell_type": "code",
   "execution_count": 239,
   "metadata": {},
   "outputs": [],
   "source": [
    "u, s, vh = np.linalg.svd(np.array([a.detach().numpy() for a in grad_arr]), full_matrices=False)"
   ]
  },
  {
   "cell_type": "code",
   "execution_count": 235,
   "metadata": {},
   "outputs": [
    {
     "name": "stdout",
     "output_type": "stream",
     "text": [
      "0\n",
      "tensor(0.0088, grad_fn=<NllLossBackward>)\n",
      "\n",
      "100\n",
      "tensor(0.0081, grad_fn=<NllLossBackward>)\n",
      "\n",
      "200\n",
      "tensor(0.0076, grad_fn=<NllLossBackward>)\n",
      "\n",
      "300\n",
      "tensor(0.0071, grad_fn=<NllLossBackward>)\n",
      "\n",
      "400\n",
      "tensor(0.0067, grad_fn=<NllLossBackward>)\n",
      "\n",
      "500\n",
      "tensor(0.0063, grad_fn=<NllLossBackward>)\n",
      "\n",
      "600\n",
      "tensor(0.0060, grad_fn=<NllLossBackward>)\n",
      "\n",
      "700\n",
      "tensor(0.0057, grad_fn=<NllLossBackward>)\n",
      "\n",
      "800\n",
      "tensor(0.0054, grad_fn=<NllLossBackward>)\n",
      "\n",
      "900\n",
      "tensor(0.0052, grad_fn=<NllLossBackward>)\n",
      "\n"
     ]
    }
   ],
   "source": [
    "# get data\n",
    "train_data, test_data = get_postprocessing_data(experiment_folder, vectorized=True)\n",
    "train_loader = DataLoader(train_data, batch_size=32, shuffle=True)  # fix the batch size\n",
    "full_train_loader = DataLoader(train_data, batch_size=len(train_data), shuffle=True)  # fix the batch size\n",
    "\n",
    "test_loader = DataLoader(test_data, batch_size=1 ) #len(test_data))\n",
    "\n",
    "criterion = torch.nn.CrossEntropyLoss()\n",
    "cfs_dict = exp_dict[\"stuff\"][\"configs\"].loc[exp_id].to_dict()\n",
    "optimizer = optim.SGD(net.parameters(), lr=cfs_dict[\"learning_rate\"],\n",
    "                                    momentum=cfs_dict[\"momentum\"])\n",
    "num_steps = 1000\n",
    "\n",
    "data = next(iter(full_train_loader))\n",
    "\n",
    "model_b, grad_arr, projs = take_n_gd_steps(net, optimizer, criterion, data, n=num_steps, get_grad=False,\n",
    "                                           v1=None, v2=None, offset=model_a)\n",
    "\n"
   ]
  }
 ],
 "metadata": {
  "kernelspec": {
   "display_name": "Python 3",
   "language": "python",
   "name": "python3"
  },
  "language_info": {
   "codemirror_mode": {
    "name": "ipython",
    "version": 3
   },
   "file_extension": ".py",
   "mimetype": "text/x-python",
   "name": "python",
   "nbconvert_exporter": "python",
   "pygments_lexer": "ipython3",
   "version": "3.7.3"
  }
 },
 "nbformat": 4,
 "nbformat_minor": 2
}
