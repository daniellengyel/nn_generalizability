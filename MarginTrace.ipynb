{
 "cells": [
  {
   "cell_type": "code",
   "execution_count": 24,
   "metadata": {},
   "outputs": [
    {
     "name": "stdout",
     "output_type": "stream",
     "text": [
      "The autoreload extension is already loaded. To reload it, use:\n",
      "  %reload_ext autoreload\n"
     ]
    }
   ],
   "source": [
    "import pandas as pd\n",
    "import pickle,os, copy\n",
    "import matplotlib.pyplot as plt\n",
    "import torch\n",
    "from torch.utils.data import DataLoader\n",
    "import sys\n",
    "sys.path.append(\"..\")\n",
    "from nets import Nets\n",
    "from utils import *\n",
    "\n",
    "import re\n",
    "\n",
    "from sklearn.cluster import DBSCAN\n",
    "\n",
    "from interpolation import *\n",
    "\n",
    "\n",
    "from postprocessing import *\n",
    "from analysis import *\n",
    "\n",
    "%load_ext autoreload\n",
    "%autoreload 2\n",
    "\n",
    "plt.rcParams[\"figure.figsize\"] = (13,9)\n"
   ]
  },
  {
   "cell_type": "code",
   "execution_count": 5,
   "metadata": {},
   "outputs": [],
   "source": [
    "def set_seed(seed):\n",
    "    torch.manual_seed(seed)\n",
    "    torch.cuda.manual_seed_all(seed)\n",
    "    torch.backends.cudnn.deterministic = True\n",
    "    torch.backends.cudnn.benchmark = False\n",
    "    np.random.seed(seed)\n",
    "    random.seed(seed)\n",
    "    os.environ['PYTHONHASHSEED'] = str(seed)"
   ]
  },
  {
   "cell_type": "code",
   "execution_count": 6,
   "metadata": {},
   "outputs": [],
   "source": [
    "exp_root = \"/Users/daniellengyel/flat_sharp/flat_sharp/experiments/{}\""
   ]
  },
  {
   "cell_type": "code",
   "execution_count": 7,
   "metadata": {},
   "outputs": [
    {
     "name": "stdout",
     "output_type": "stream",
     "text": [
      "Getting tsne.\n",
      "Error: tsne could not be found\n",
      "Getting runs.\n",
      "Getting trace.\n",
      "Getting acc.\n",
      "Getting dist.\n",
      "Error: dist could not be found\n",
      "Getting loss.\n",
      "Getting grad.\n",
      "Error: grad could not be found\n",
      "Getting eig.\n"
     ]
    }
   ],
   "source": [
    "# get all sorts of data\n",
    "exp_dict = {}\n",
    "\n",
    "experiment_folder = exp_root.format(\"CIFAR10/SimpleNet_two_bs\") \n",
    "exp_dict[\"stuff\"] = get_stuff(experiment_folder)\n",
    "exp_dict[\"models\"] = get_all_models(experiment_folder, -1)\n",
    "exp_dict[\"resampling_idxs\"] = get_sample_idxs(experiment_folder)"
   ]
  },
  {
   "cell_type": "code",
   "execution_count": 8,
   "metadata": {},
   "outputs": [
    {
     "name": "stdout",
     "output_type": "stream",
     "text": [
      "Did not use lineages for 1594044887.584526\n",
      "Did not use lineages for 1594045247.3381803\n"
     ]
    }
   ],
   "source": [
    "stats_df = get_end_stats(exp_dict)\n"
   ]
  },
  {
   "cell_type": "code",
   "execution_count": 9,
   "metadata": {},
   "outputs": [
    {
     "data": {
      "text/html": [
       "<div>\n",
       "<style scoped>\n",
       "    .dataframe tbody tr th:only-of-type {\n",
       "        vertical-align: middle;\n",
       "    }\n",
       "\n",
       "    .dataframe tbody tr th {\n",
       "        vertical-align: top;\n",
       "    }\n",
       "\n",
       "    .dataframe thead th {\n",
       "        text-align: right;\n",
       "    }\n",
       "</style>\n",
       "<table border=\"1\" class=\"dataframe\">\n",
       "  <thead>\n",
       "    <tr style=\"text-align: right;\">\n",
       "      <th></th>\n",
       "      <th>Acc Test Max</th>\n",
       "      <th>Acc Test Mean</th>\n",
       "      <th>Acc Test Min</th>\n",
       "      <th>Acc Train Max</th>\n",
       "      <th>Acc Train Mean</th>\n",
       "      <th>Acc Train Min</th>\n",
       "      <th>Gap Mean</th>\n",
       "      <th>Loss Test Max</th>\n",
       "      <th>Loss Test Mean</th>\n",
       "      <th>Loss Test Min</th>\n",
       "      <th>Loss Train Max</th>\n",
       "      <th>Loss Train Mean</th>\n",
       "      <th>Loss Train Min</th>\n",
       "      <th>Path Weight Sum</th>\n",
       "      <th>Trace Max</th>\n",
       "      <th>Trace Mean</th>\n",
       "      <th>Trace Mean Std</th>\n",
       "      <th>Trace Min</th>\n",
       "      <th>batch_train_size</th>\n",
       "    </tr>\n",
       "  </thead>\n",
       "  <tbody>\n",
       "    <tr>\n",
       "      <th>1594044887.584526</th>\n",
       "      <td>0.4086</td>\n",
       "      <td>0.4086</td>\n",
       "      <td>0.4086</td>\n",
       "      <td>1.0</td>\n",
       "      <td>1.0</td>\n",
       "      <td>1.0</td>\n",
       "      <td>-0.5914</td>\n",
       "      <td>5.159456</td>\n",
       "      <td>5.159456</td>\n",
       "      <td>5.159456</td>\n",
       "      <td>0.000663</td>\n",
       "      <td>0.000663</td>\n",
       "      <td>0.000663</td>\n",
       "      <td>7062.586663</td>\n",
       "      <td>46.767406</td>\n",
       "      <td>46.767406</td>\n",
       "      <td>6.011315</td>\n",
       "      <td>46.767406</td>\n",
       "      <td>256</td>\n",
       "    </tr>\n",
       "    <tr>\n",
       "      <th>1594045247.3381803</th>\n",
       "      <td>0.4016</td>\n",
       "      <td>0.4016</td>\n",
       "      <td>0.4016</td>\n",
       "      <td>1.0</td>\n",
       "      <td>1.0</td>\n",
       "      <td>1.0</td>\n",
       "      <td>-0.5984</td>\n",
       "      <td>5.471116</td>\n",
       "      <td>5.471116</td>\n",
       "      <td>5.471116</td>\n",
       "      <td>0.000641</td>\n",
       "      <td>0.000641</td>\n",
       "      <td>0.000641</td>\n",
       "      <td>5291.393487</td>\n",
       "      <td>63.598003</td>\n",
       "      <td>63.598003</td>\n",
       "      <td>7.861155</td>\n",
       "      <td>63.598003</td>\n",
       "      <td>1500</td>\n",
       "    </tr>\n",
       "  </tbody>\n",
       "</table>\n",
       "</div>"
      ],
      "text/plain": [
       "                    Acc Test Max  Acc Test Mean  Acc Test Min  Acc Train Max  \\\n",
       "1594044887.584526         0.4086         0.4086        0.4086            1.0   \n",
       "1594045247.3381803        0.4016         0.4016        0.4016            1.0   \n",
       "\n",
       "                    Acc Train Mean  Acc Train Min  Gap Mean  Loss Test Max  \\\n",
       "1594044887.584526              1.0            1.0   -0.5914       5.159456   \n",
       "1594045247.3381803             1.0            1.0   -0.5984       5.471116   \n",
       "\n",
       "                    Loss Test Mean  Loss Test Min  Loss Train Max  \\\n",
       "1594044887.584526         5.159456       5.159456        0.000663   \n",
       "1594045247.3381803        5.471116       5.471116        0.000641   \n",
       "\n",
       "                    Loss Train Mean  Loss Train Min  Path Weight Sum  \\\n",
       "1594044887.584526          0.000663        0.000663      7062.586663   \n",
       "1594045247.3381803         0.000641        0.000641      5291.393487   \n",
       "\n",
       "                    Trace Max  Trace Mean  Trace Mean Std  Trace Min  \\\n",
       "1594044887.584526   46.767406   46.767406        6.011315  46.767406   \n",
       "1594045247.3381803  63.598003   63.598003        7.861155  63.598003   \n",
       "\n",
       "                   batch_train_size  \n",
       "1594044887.584526               256  \n",
       "1594045247.3381803             1500  "
      ]
     },
     "execution_count": 9,
     "metadata": {},
     "output_type": "execute_result"
    }
   ],
   "source": [
    "# stats_df = stats_df[stats_df[\"Acc Test Mean\"] > 0.15]\n",
    "stats_df.sort_values(by=\"Acc Test Max\", ascending=False)"
   ]
  },
  {
   "cell_type": "code",
   "execution_count": 10,
   "metadata": {},
   "outputs": [
    {
     "name": "stdout",
     "output_type": "stream",
     "text": [
      "Files already downloaded and verified\n",
      "Files already downloaded and verified\n"
     ]
    }
   ],
   "source": [
    "set_seed(10)\n",
    "\n",
    "\n",
    "# get data\n",
    "train_data, test_data = get_postprocessing_data(experiment_folder, vectorized=True)\n",
    "train_loader = DataLoader(train_data, batch_size=100, shuffle=True)  # fix the batch size\n",
    "full_train_loader = DataLoader(train_data, batch_size=len(train_data), shuffle=True)  # fix the batch size\n",
    "\n",
    "test_loader = DataLoader(test_data, batch_size=1)\n",
    "\n",
    "criterion = torch.nn.CrossEntropyLoss()\n",
    "\n",
    "data = next(iter(train_loader))\n"
   ]
  },
  {
   "cell_type": "code",
   "execution_count": 31,
   "metadata": {},
   "outputs": [
    {
     "data": {
      "image/png": "[encoded data removed]",
      "text/plain": [
       "<Figure size 936x648 with 1 Axes>"
      ]
     },
     "metadata": {
      "needs_background": "light"
     },
     "output_type": "display_data"
    }
   ],
   "source": [
    "def get_model_outputs(net, data, softmax_margin=True, device=None):\n",
    "\n",
    "    inputs, labels = data\n",
    "    \n",
    "    if device is not None:\n",
    "        inputs, labels = inputs.to(device).type(torch.cuda.FloatTensor), labels.to(device).type(\n",
    "            torch.cuda.LongTensor)\n",
    "    else:\n",
    "        inputs = inputs.float()\n",
    "\n",
    "    outputs = net(inputs)\n",
    "    \n",
    "    if softmax_margin:\n",
    "        m = torch.nn.Softmax(dim=-1)\n",
    "        outputs = m(outputs)\n",
    "        \n",
    "    return outputs\n",
    "\n",
    "def entropy(probs):\n",
    "    return - np.sum([p * np.log(p) for p in probs])\n",
    "\n",
    "def get_entropy(net, data, device=None):\n",
    "    inputs, labels = data\n",
    "\n",
    "    outputs = get_model_outputs(net, data, softmax_margin=True, device=device)\n",
    "    outputs = outputs.detach().numpy()\n",
    "    \n",
    "    return [entropy(p) for p in outputs]\n",
    "\n",
    "# def get_max_margin(net, datapoint):\n",
    "#     inp, l = datapoint\n",
    "    \n",
    "#     loss = criterion(outputs, labels)\n",
    "#     loss.backward(retain_graph=True)\n",
    "    \n",
    "#     param_grads = get_grad_params_vec(net)\n",
    "#     curr_weight = torch.norm(param_grads)\n",
    "        \n",
    "# def get_nu(data):\n",
    "#     tr = 0\n",
    "#     for i in range(len(data[0])):\n",
    "#         inputs, labels = data[0][i], data[1][i]\n",
    "#         mean_inp = torch.mean(inputs)\n",
    "\n",
    "#         for j in range()\n",
    "    \n",
    "\n",
    "def get_margins_to_correct(net, data, softmax_margin=True, device=None):\n",
    "    inputs, labels = data\n",
    "\n",
    "    outputs = get_model_outputs(net, data, softmax_margin, device)\n",
    "    \n",
    "    _, predicted = torch.max(outputs, 1)\n",
    "    \n",
    "    correct_filter = predicted == labels\n",
    "\n",
    "        \n",
    "    # if correctly predicted\n",
    "    second_largest = torch.topk(outputs[correct_filter], k=2, dim=1)\n",
    "\n",
    "    diff = second_largest[0][:, 0] - second_largest[0][:, 1]\n",
    "    \n",
    "    diff = diff.detach().numpy()\n",
    "\n",
    "    return diff\n",
    "\n",
    "def get_traces(net, data):\n",
    "    criterion = torch.nn.CrossEntropyLoss()\n",
    "    traces = []\n",
    "    for i in range(len(data[0])):\n",
    "        inputs, labels = data[0][i], data[1][i]\n",
    "        traces.append(np.mean(hessian(net, criterion, data=(inputs.view(1, *inputs.shape), labels.view(1, *labels.shape)), cuda=False).trace()))\n",
    "\n",
    "    return traces\n",
    "\n",
    "\n",
    "\n",
    "\n",
    "\n",
    "net = exp_dict[\"models\"][\"1594044887.584526\"][str(0)]\n",
    "\n",
    "diff = get_margins_to_correct(net, data, softmax_margin=False)\n",
    "# diff = get_entropy(net, data)\n",
    "plt.hist(diff)\n",
    "plt.ylim(0, 155)\n",
    "plt.show()"
   ]
  },
  {
   "cell_type": "code",
   "execution_count": 32,
   "metadata": {},
   "outputs": [
    {
     "name": "stdout",
     "output_type": "stream",
     "text": [
      "309.91225600242615\n"
     ]
    }
   ],
   "source": [
    "a = time.time()\n",
    "ts = get_traces(net, data)\n",
    "print(time.time() - a)"
   ]
  },
  {
   "cell_type": "code",
   "execution_count": 33,
   "metadata": {},
   "outputs": [
    {
     "name": "stdout",
     "output_type": "stream",
     "text": [
      "314.5018129348755\n"
     ]
    }
   ],
   "source": [
    "net = exp_dict[\"models\"][\"1594045247.3381803\"][str(0)] # large batch\n",
    "\n",
    "a = time.time()\n",
    "ts_1 = get_traces(net, data)\n",
    "print(time.time() - a)"
   ]
  },
  {
   "cell_type": "code",
   "execution_count": 34,
   "metadata": {},
   "outputs": [],
   "source": [
    "net = exp_dict[\"models\"][\"1594045247.3381803\"][str(0)] # large batch\n",
    "\n",
    "diff_1 = get_margins_to_correct(net, data, softmax_margin=False)\n",
    "# diff_1 = get_entropy(net, data)\n"
   ]
  },
  {
   "cell_type": "code",
   "execution_count": 35,
   "metadata": {},
   "outputs": [
    {
     "name": "stdout",
     "output_type": "stream",
     "text": [
      "Trace sum first: 4646.4667647449105\n",
      "Trace sum second: 6508.714931693764\n",
      "\n",
      "Cutoff: 5.5\n",
      "Num Points first: 0\n",
      "Mean Margin first: nan\n",
      "Num Points second: 1\n",
      "Mean Margin second: 5.39609432220459\n",
      "\n",
      "Cutoff: 5.631578947368421\n",
      "Num Points first: 0\n",
      "Mean Margin first: nan\n",
      "Num Points second: 2\n",
      "Mean Margin second: 5.462703227996826\n",
      "\n",
      "Cutoff: 5.7631578947368425\n",
      "Num Points first: 2\n",
      "Mean Margin first: 5.670511245727539\n",
      "Num Points second: 2\n",
      "Mean Margin second: 5.462703227996826\n",
      "\n",
      "Cutoff: 5.894736842105263\n",
      "Num Points first: 2\n",
      "Mean Margin first: 5.670511245727539\n",
      "Num Points second: 2\n",
      "Mean Margin second: 5.462703227996826\n",
      "\n",
      "Cutoff: 6.026315789473684\n",
      "Num Points first: 3\n",
      "Mean Margin first: 5.781278133392334\n",
      "Num Points second: 2\n",
      "Mean Margin second: 5.462703227996826\n",
      "\n",
      "Cutoff: 6.157894736842105\n",
      "Num Points first: 4\n",
      "Mean Margin first: 5.8579864501953125\n",
      "Num Points second: 2\n",
      "Mean Margin second: 5.462703227996826\n",
      "\n",
      "Cutoff: 6.2894736842105265\n",
      "Num Points first: 5\n",
      "Mean Margin first: 5.9393110275268555\n",
      "Num Points second: 3\n",
      "Mean Margin second: 5.715491771697998\n",
      "\n",
      "Cutoff: 6.421052631578947\n",
      "Num Points first: 5\n",
      "Mean Margin first: 5.9393110275268555\n",
      "Num Points second: 4\n",
      "Mean Margin second: 5.881802558898926\n",
      "\n",
      "Cutoff: 6.552631578947368\n",
      "Num Points first: 5\n",
      "Mean Margin first: 5.9393110275268555\n",
      "Num Points second: 5\n",
      "Mean Margin second: 5.991532325744629\n",
      "\n",
      "Cutoff: 6.684210526315789\n",
      "Num Points first: 6\n",
      "Mean Margin first: 6.042757511138916\n",
      "Num Points second: 5\n",
      "Mean Margin second: 5.991532325744629\n",
      "\n",
      "Cutoff: 6.815789473684211\n",
      "Num Points first: 6\n",
      "Mean Margin first: 6.042757511138916\n",
      "Num Points second: 8\n",
      "Mean Margin second: 6.284445762634277\n",
      "\n",
      "Cutoff: 6.947368421052632\n",
      "Num Points first: 8\n",
      "Mean Margin first: 6.254519939422607\n",
      "Num Points second: 10\n",
      "Mean Margin second: 6.398524284362793\n",
      "\n",
      "Cutoff: 7.078947368421053\n",
      "Num Points first: 10\n",
      "Mean Margin first: 6.4053144454956055\n",
      "Num Points second: 10\n",
      "Mean Margin second: 6.398524284362793\n",
      "\n",
      "Cutoff: 7.2105263157894735\n",
      "Num Points first: 14\n",
      "Mean Margin first: 6.614598751068115\n",
      "Num Points second: 13\n",
      "Mean Margin second: 6.575541019439697\n",
      "\n",
      "Cutoff: 7.342105263157895\n",
      "Num Points first: 17\n",
      "Mean Margin first: 6.739861011505127\n",
      "Num Points second: 17\n",
      "Mean Margin second: 6.741580963134766\n",
      "\n",
      "Cutoff: 7.473684210526316\n",
      "Num Points first: 20\n",
      "Mean Margin first: 6.833628177642822\n",
      "Num Points second: 22\n",
      "Mean Margin second: 6.895126819610596\n",
      "\n",
      "Cutoff: 7.605263157894736\n",
      "Num Points first: 23\n",
      "Mean Margin first: 6.9290924072265625\n",
      "Num Points second: 28\n",
      "Mean Margin second: 7.033793926239014\n",
      "\n",
      "Cutoff: 7.7368421052631575\n",
      "Num Points first: 28\n",
      "Mean Margin first: 7.060976982116699\n",
      "Num Points second: 31\n",
      "Mean Margin second: 7.093499660491943\n",
      "\n",
      "Cutoff: 7.868421052631579\n",
      "Num Points first: 32\n",
      "Mean Margin first: 7.156927108764648\n",
      "Num Points second: 33\n",
      "Mean Margin second: 7.13618278503418\n",
      "\n",
      "Cutoff: 8.0\n",
      "Num Points first: 32\n",
      "Mean Margin first: 7.156927108764648\n",
      "Num Points second: 34\n",
      "Mean Margin second: 7.16038179397583\n",
      "\n"
     ]
    }
   ],
   "source": [
    "\n",
    "\n",
    "print(\"Trace sum first: {}\".format(np.sum(ts)))\n",
    "print(\"Trace sum second: {}\".format(np.sum(ts_1)))\n",
    "\n",
    "print()\n",
    "for cutoff in np.linspace(5.5, 8, 20):\n",
    "    print(\"Cutoff: {}\".format(cutoff))\n",
    "    f = diff < cutoff\n",
    "    ts = np.array(ts)\n",
    "    s = np.sum(f)\n",
    "    print(\"Num Points first: {}\".format(s))\n",
    "    print(\"Mean Margin first: {}\".format(np.mean(diff[f])))\n",
    "\n",
    "    f_1 = diff_1 < cutoff\n",
    "    ts_1 = np.array(ts_1)\n",
    "    s_1 = np.sum(f_1)\n",
    "    print(\"Num Points second: {}\".format(s_1))\n",
    "    print(\"Mean Margin second: {}\".format(np.mean(diff_1[f_1])))\n",
    "\n",
    "\n",
    "\n",
    "    print()"
   ]
  },
  {
   "cell_type": "code",
   "execution_count": 36,
   "metadata": {},
   "outputs": [
    {
     "data": {
      "text/plain": [
       "<function matplotlib.pyplot.show(*args, **kw)>"
      ]
     },
     "execution_count": 36,
     "metadata": {},
     "output_type": "execute_result"
    },
    {
     "data": {
      "image/png": "[encoded data removed]",
      "text/plain": [
       "<Figure size 936x648 with 1 Axes>"
      ]
     },
     "metadata": {
      "needs_background": "light"
     },
     "output_type": "display_data"
    }
   ],
   "source": [
    "plt.scatter(diff, ts, color=\"lightblue\")\n",
    "plt.scatter(diff_1, ts_1, color=\"blue\")\n",
    "\n",
    "\n",
    "# plt.ylim(-0, 10)\n",
    "# plt.xlim(0.006, 0.008)\n",
    "\n",
    "plt.show"
   ]
  }
 ],
 "metadata": {
  "kernelspec": {
   "display_name": "Python 3",
   "language": "python",
   "name": "python3"
  },
  "language_info": {
   "codemirror_mode": {
    "name": "ipython",
    "version": 3
   },
   "file_extension": ".py",
   "mimetype": "text/x-python",
   "name": "python",
   "nbconvert_exporter": "python",
   "pygments_lexer": "ipython3",
   "version": "3.7.3"
  }
 },
 "nbformat": 4,
 "nbformat_minor": 2
}
